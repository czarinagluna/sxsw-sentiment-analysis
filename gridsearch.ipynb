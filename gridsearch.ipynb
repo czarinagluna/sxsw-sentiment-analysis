{
 "cells": [
  {
   "cell_type": "markdown",
   "metadata": {},
   "source": [
    "# Search for Optimal Parameters of Classification Models\n",
    "\n",
    "Hyperparameter Tuning of *4.1 Classification Algorithms* in [Main Notebook](https://github.com/czarinagluna/sxsw-sentiment-analysis/blob/main/main.ipynb)\n",
    "***\n",
    "**By [Czarina Luna](https://czarinaluna.com)**"
   ]
  },
  {
   "cell_type": "code",
   "execution_count": 1,
   "metadata": {},
   "outputs": [],
   "source": [
    "%store -r X_train_res"
   ]
  },
  {
   "cell_type": "code",
   "execution_count": 3,
   "metadata": {},
   "outputs": [],
   "source": [
    "%store -r y_train_res"
   ]
  },
  {
   "cell_type": "code",
   "execution_count": 8,
   "metadata": {},
   "outputs": [],
   "source": [
    "%store -r default_models"
   ]
  },
  {
   "cell_type": "code",
   "execution_count": 14,
   "metadata": {},
   "outputs": [],
   "source": [
    "import time\n",
    "\n",
    "from sklearn.pipeline import Pipeline\n",
    "from sklearn.model_selection import GridSearchCV\n",
    "from sklearn.feature_extraction.text import TfidfVectorizer\n",
    "\n",
    "tfidf = TfidfVectorizer(stop_words='english', lowercase=False)\n",
    "\n",
    "tuned_params = {}\n",
    "\n",
    "def grid_search(params, name, models=default_models):\n",
    "    '''\n",
    "    Performs grid search on classification models, returns best cross validation scores and parameters.\n",
    "    '''\n",
    "    for model, grid in params.items():\n",
    "        print(f'Running... {model} GridSearch')\n",
    "        print(f'Time Started: {time.asctime()}')\n",
    "        \n",
    "        pipe = Pipeline(steps=[('tfidf', tfidf), ('classifier', models[model]['classifier'])])\n",
    "        pipe.fit(X_train_res, y_train_res)\n",
    "        \n",
    "        gridsearch = GridSearchCV(estimator=pipe, param_grid=grid, scoring='recall_micro', cv=5, refit=False)\n",
    "        gridsearch.fit(X_train_res, y_train_res)\n",
    "        \n",
    "        print(f'Time Finished: {time.asctime()}\\n')\n",
    "        print(f'Best cross validation score: {gridsearch.best_score_ :.2%}')\n",
    "        print(f'Optimal parameters: {gridsearch.best_params_}')\n",
    "        \n",
    "        tuned_params[name] = gridsearch.best_params_\n",
    "\n",
    "import warnings\n",
    "warnings.filterwarnings('ignore')"
   ]
  },
  {
   "cell_type": "code",
   "execution_count": 20,
   "metadata": {},
   "outputs": [
    {
     "name": "stdout",
     "output_type": "stream",
     "text": [
      "Running... LogisticRegression GridSearch\n",
      "Time Started: Sat May  7 12:38:07 2022\n",
      "Time Finished: Sat May  7 12:48:41 2022\n",
      "\n",
      "Best cross validation score: 80.65%\n",
      "Optimal parameters: {'classifier__C': 1, 'classifier__fit_intercept': True, 'classifier__multi_class': 'auto', 'classifier__penalty': 'l2', 'classifier__solver': 'lbfgs'}\n"
     ]
    }
   ],
   "source": [
    "params_lr1 = {'LogisticRegression': [{\n",
    "    'classifier__penalty':['l1', 'l2', 'elasticnet'],\n",
    "    'classifier__C':[0.001, 0.01, 0.1, 1],\n",
    "    'classifier__fit_intercept':[True, False],\n",
    "    'classifier__solver':['lbfgs', 'saga'],\n",
    "    'classifier__multi_class':['auto', 'ovr', 'multinomial']\n",
    "\n",
    "}]}\n",
    "\n",
    "grid_search(params_lr1, name='LogisticRegression')"
   ]
  },
  {
   "cell_type": "code",
   "execution_count": 42,
   "metadata": {},
   "outputs": [
    {
     "name": "stdout",
     "output_type": "stream",
     "text": [
      "Stored 'lr_best_params' (dict)\n"
     ]
    }
   ],
   "source": [
    "lr_best_params = tuned_params['LogisticRegression']\n",
    "%store lr_best_params"
   ]
  },
  {
   "cell_type": "code",
   "execution_count": 24,
   "metadata": {
    "scrolled": true
   },
   "outputs": [
    {
     "name": "stdout",
     "output_type": "stream",
     "text": [
      "Running... MultinomialNB GridSearch\n",
      "Time Started: Sat May  7 13:07:22 2022\n",
      "Time Finished: Sat May  7 13:07:28 2022\n",
      "\n",
      "Best cross validation score: 80.35%\n",
      "Optimal parameters: {'classifier__alpha': 0}\n"
     ]
    }
   ],
   "source": [
    "params_mn1 = {'MultinomialNB': [{\n",
    "    'classifier__alpha':[0, 0.001, 0.01, 0.1, 1]\n",
    "}]}\n",
    "\n",
    "grid_search(params_mn1, name='MultinomialNB')"
   ]
  },
  {
   "cell_type": "code",
   "execution_count": 43,
   "metadata": {},
   "outputs": [
    {
     "name": "stdout",
     "output_type": "stream",
     "text": [
      "Stored 'mn_best_params' (dict)\n"
     ]
    }
   ],
   "source": [
    "mn_best_params = tuned_params['MultinomialNB']\n",
    "%store mn_best_params"
   ]
  },
  {
   "cell_type": "code",
   "execution_count": 26,
   "metadata": {},
   "outputs": [
    {
     "name": "stdout",
     "output_type": "stream",
     "text": [
      "Running... DecisionTree GridSearch\n",
      "Time Started: Sat May  7 13:27:59 2022\n",
      "Time Finished: Sat May  7 13:32:58 2022\n",
      "\n",
      "Best cross validation score: 84.42%\n",
      "Optimal parameters: {'classifier__criterion': 'entropy', 'classifier__max_depth': None, 'classifier__min_samples_leaf': 1, 'classifier__min_samples_split': 2, 'classifier__splitter': 'random'}\n"
     ]
    }
   ],
   "source": [
    "params_dt1 = {'DecisionTree': [{\n",
    "    'classifier__criterion':['gini', 'entropy'],\n",
    "    'classifier__splitter':['best', 'random'],\n",
    "    'classifier__max_depth':[None, 1, 2, 5],\n",
    "    'classifier__min_samples_split': [2, 3, 5],\n",
    "    'classifier__min_samples_leaf': [1, 2, 5]\n",
    "}]}\n",
    "\n",
    "grid_search(params_dt1, name='DecisionTree')"
   ]
  },
  {
   "cell_type": "code",
   "execution_count": 44,
   "metadata": {},
   "outputs": [
    {
     "name": "stdout",
     "output_type": "stream",
     "text": [
      "Stored 'dt_best_params' (dict)\n"
     ]
    }
   ],
   "source": [
    "dt_best_params = tuned_params['DecisionTree']\n",
    "%store dt_best_params"
   ]
  },
  {
   "cell_type": "code",
   "execution_count": 28,
   "metadata": {},
   "outputs": [
    {
     "name": "stdout",
     "output_type": "stream",
     "text": [
      "Running... RandomForest GridSearch\n",
      "Time Started: Sat May  7 13:42:16 2022\n",
      "Time Finished: Sat May  7 13:57:40 2022\n",
      "\n",
      "Best cross validation score: 86.58%\n",
      "Optimal parameters: {'classifier__criterion': 'entropy', 'classifier__max_depth': None, 'classifier__min_samples_leaf': 1, 'classifier__min_samples_split': 2, 'classifier__n_estimators': 100}\n"
     ]
    }
   ],
   "source": [
    "params_rf1 = {'RandomForest': [{\n",
    "    'classifier__n_estimators':[10, 30, 100],\n",
    "    'classifier__criterion':['gini', 'entropy'],\n",
    "    'classifier__max_depth':[None, 1, 2, 5],\n",
    "    'classifier__min_samples_split':[2, 3, 5],\n",
    "    'classifier__min_samples_leaf':[1, 2, 5]\n",
    "}]}\n",
    "\n",
    "grid_search(params_rf1, name='RandomForest')"
   ]
  },
  {
   "cell_type": "code",
   "execution_count": 31,
   "metadata": {
    "scrolled": true
   },
   "outputs": [
    {
     "name": "stdout",
     "output_type": "stream",
     "text": [
      "Running... RandomForest GridSearch\n",
      "Time Started: Sat May  7 14:52:26 2022\n",
      "Time Finished: Sat May  7 15:28:44 2022\n",
      "\n",
      "Best cross validation score: 86.62%\n",
      "Optimal parameters: {'classifier__criterion': 'entropy', 'classifier__max_depth': None, 'classifier__min_samples_leaf': 1, 'classifier__min_samples_split': 2, 'classifier__n_estimators': 200}\n"
     ]
    }
   ],
   "source": [
    "params_rf2 = {'RandomForest': [{\n",
    "    'classifier__n_estimators':[100, 150, 200],\n",
    "    'classifier__criterion':['gini', 'entropy'],\n",
    "    'classifier__max_depth':[None, 1, 3],\n",
    "    'classifier__min_samples_split':[2, 3, 5],\n",
    "    'classifier__min_samples_leaf':[1, 3, 10]\n",
    "}]}\n",
    "\n",
    "grid_search(params_rf2, name='RandomForest2')"
   ]
  },
  {
   "cell_type": "code",
   "execution_count": 45,
   "metadata": {},
   "outputs": [
    {
     "name": "stdout",
     "output_type": "stream",
     "text": [
      "Stored 'rf_best_params' (dict)\n"
     ]
    }
   ],
   "source": [
    "rf_best_params = tuned_params['RandomForest2']\n",
    "%store rf_best_params"
   ]
  },
  {
   "cell_type": "code",
   "execution_count": 34,
   "metadata": {},
   "outputs": [
    {
     "name": "stdout",
     "output_type": "stream",
     "text": [
      "Running... ExtraTrees GridSearch\n",
      "Time Started: Sat May  7 17:05:45 2022\n",
      "Time Finished: Sat May  7 17:24:59 2022\n",
      "\n",
      "Best cross validation score: 87.15%\n",
      "Optimal parameters: {'classifier__criterion': 'entropy', 'classifier__max_depth': None, 'classifier__min_samples_leaf': 1, 'classifier__min_samples_split': 5, 'classifier__n_estimators': 100}\n"
     ]
    }
   ],
   "source": [
    "params_et1 = {'ExtraTrees': [{\n",
    "    'classifier__n_estimators':[10, 30, 100],\n",
    "    'classifier__criterion':['gini', 'entropy'],\n",
    "    'classifier__max_depth':[None, 1, 2, 5],\n",
    "    'classifier__min_samples_split':[2, 3, 5],\n",
    "    'classifier__min_samples_leaf':[1, 2, 5]\n",
    "}]}\n",
    "\n",
    "grid_search(params_et1, name='ExtraTrees')"
   ]
  },
  {
   "cell_type": "code",
   "execution_count": 35,
   "metadata": {},
   "outputs": [
    {
     "name": "stdout",
     "output_type": "stream",
     "text": [
      "Running... ExtraTrees GridSearch\n",
      "Time Started: Sat May  7 18:25:57 2022\n",
      "Time Finished: Sat May  7 18:50:32 2022\n",
      "\n",
      "Best cross validation score: 87.28%\n",
      "Optimal parameters: {'classifier__criterion': 'entropy', 'classifier__max_depth': None, 'classifier__min_samples_leaf': 1, 'classifier__min_samples_split': 5, 'classifier__n_estimators': 200}\n"
     ]
    }
   ],
   "source": [
    "params_et2 = {'ExtraTrees': [{\n",
    "    'classifier__n_estimators':[100, 150, 200],\n",
    "    'classifier__criterion':['gini', 'entropy'],\n",
    "    'classifier__max_depth':[None, 1, 2],\n",
    "    'classifier__min_samples_split':[1, 5, 10],\n",
    "    'classifier__min_samples_leaf':[1, 3, 10]\n",
    "}]}\n",
    "\n",
    "grid_search(params_et2, name='ExtraTrees2')"
   ]
  },
  {
   "cell_type": "code",
   "execution_count": 36,
   "metadata": {},
   "outputs": [
    {
     "name": "stdout",
     "output_type": "stream",
     "text": [
      "Running... ExtraTrees GridSearch\n",
      "Time Started: Sat May  7 19:01:00 2022\n",
      "Time Finished: Sat May  7 19:07:59 2022\n",
      "\n",
      "Best cross validation score: 87.31%\n",
      "Optimal parameters: {'classifier__criterion': 'entropy', 'classifier__max_depth': None, 'classifier__min_samples_leaf': 1, 'classifier__min_samples_split': 5, 'classifier__n_estimators': 300}\n"
     ]
    }
   ],
   "source": [
    "params_et3 = {'ExtraTrees': [{\n",
    "    'classifier__n_estimators':[200, 250, 300],\n",
    "    'classifier__criterion':['entropy'],\n",
    "    'classifier__max_depth':[None],\n",
    "    'classifier__min_samples_split':[5],\n",
    "    'classifier__min_samples_leaf':[1]\n",
    "}]}\n",
    "\n",
    "grid_search(params_et3, name='ExtraTrees3')"
   ]
  },
  {
   "cell_type": "code",
   "execution_count": 37,
   "metadata": {},
   "outputs": [
    {
     "name": "stdout",
     "output_type": "stream",
     "text": [
      "Running... ExtraTrees GridSearch\n",
      "Time Started: Sat May  7 19:16:26 2022\n",
      "Time Finished: Sat May  7 19:32:34 2022\n",
      "\n",
      "Best cross validation score: 87.39%\n",
      "Optimal parameters: {'classifier__criterion': 'entropy', 'classifier__max_depth': None, 'classifier__min_samples_leaf': 1, 'classifier__min_samples_split': 5, 'classifier__n_estimators': 500}\n"
     ]
    }
   ],
   "source": [
    "params_et4 = {'ExtraTrees': [{\n",
    "    'classifier__n_estimators':[300, 500, 1000],\n",
    "    'classifier__criterion':['entropy'],\n",
    "    'classifier__max_depth':[None],\n",
    "    'classifier__min_samples_split':[5],\n",
    "    'classifier__min_samples_leaf':[1]\n",
    "}]}\n",
    "\n",
    "grid_search(params_et4, name='ExtraTrees4')"
   ]
  },
  {
   "cell_type": "code",
   "execution_count": 46,
   "metadata": {},
   "outputs": [
    {
     "name": "stdout",
     "output_type": "stream",
     "text": [
      "Stored 'et_best_params' (dict)\n"
     ]
    }
   ],
   "source": [
    "et_best_params = tuned_params['ExtraTrees4']\n",
    "%store et_best_params"
   ]
  },
  {
   "cell_type": "code",
   "execution_count": 40,
   "metadata": {},
   "outputs": [
    {
     "name": "stdout",
     "output_type": "stream",
     "text": [
      "Running... GradientBoost GridSearch\n",
      "Time Started: Sun May  8 01:10:57 2022\n",
      "Time Finished: Sun May  8 10:46:54 2022\n",
      "\n",
      "Best cross validation score: 85.75%\n",
      "Optimal parameters: {'classifier__criterion': 'friedman_mse', 'classifier__loss': 'deviance', 'classifier__max_depth': None, 'classifier__min_samples_leaf': 2, 'classifier__min_samples_split': 2, 'classifier__n_estimators': 100}\n"
     ]
    }
   ],
   "source": [
    "params_gb1 = {'GradientBoost': [{\n",
    "    'classifier__loss': ['deviance', 'exponential'],\n",
    "    'classifier__n_estimators':[10, 30, 100],\n",
    "    'classifier__criterion':['friedman_mse', 'squared_error'],\n",
    "    'classifier__max_depth':[None, 1, 2, 5],\n",
    "    'classifier__min_samples_split':[2, 3, 5],\n",
    "    'classifier__min_samples_leaf':[1, 2, 5]\n",
    "}]}\n",
    "\n",
    "grid_search(params_gb1, name='GradientBoost')"
   ]
  },
  {
   "cell_type": "code",
   "execution_count": 41,
   "metadata": {},
   "outputs": [
    {
     "name": "stdout",
     "output_type": "stream",
     "text": [
      "Running... GradientBoost GridSearch\n",
      "Time Started: Sun May  8 12:16:39 2022\n",
      "Time Finished: Mon May  9 06:34:34 2022\n",
      "\n",
      "Best cross validation score: 85.59%\n",
      "Optimal parameters: {'classifier__criterion': 'friedman_mse', 'classifier__loss': 'deviance', 'classifier__max_depth': None, 'classifier__min_samples_leaf': 3, 'classifier__min_samples_split': 2, 'classifier__n_estimators': 100}\n"
     ]
    }
   ],
   "source": [
    "params_gb2 = {'GradientBoost': [{\n",
    "    'classifier__loss': ['deviance', 'exponential'],\n",
    "    'classifier__n_estimators':[100, 200, 300],\n",
    "    'classifier__criterion':['friedman_mse', 'squared_error'],\n",
    "    'classifier__max_depth':[None],\n",
    "    'classifier__min_samples_split':[2, 5],\n",
    "    'classifier__min_samples_leaf':[1, 3]\n",
    "}]}\n",
    "\n",
    "grid_search(params_gb2, name='GradientBoost2')"
   ]
  },
  {
   "cell_type": "code",
   "execution_count": 47,
   "metadata": {},
   "outputs": [
    {
     "name": "stdout",
     "output_type": "stream",
     "text": [
      "Stored 'gb_best_params' (dict)\n"
     ]
    }
   ],
   "source": [
    "gb_best_params = tuned_params['GradientBoost']\n",
    "%store gb_best_params"
   ]
  },
  {
   "cell_type": "code",
   "execution_count": 67,
   "metadata": {},
   "outputs": [
    {
     "name": "stdout",
     "output_type": "stream",
     "text": [
      "Running... SVC GridSearch\n",
      "Time Started: Mon May  9 08:21:44 2022\n",
      "Time Finished: Mon May  9 12:20:48 2022\n",
      "\n",
      "Best cross validation score: 87.98%\n",
      "Optimal parameters: {'classifier__C': 1, 'classifier__class_weight': 'balanced', 'classifier__degree': 3, 'classifier__gamma': 'scale', 'classifier__kernel': 'poly', 'classifier__shrinking': True}\n"
     ]
    }
   ],
   "source": [
    "params_svc1 = {'VectorClass': [{\n",
    "    'classifier__C':[1, 2, 3],\n",
    "    'classifier__kernel':['linear', 'poly', 'rbf', 'sigmoid'],\n",
    "    'classifier__degree':[1, 2, 3],\n",
    "    'classifier__gamma':['scale', 'auto'],\n",
    "    'classifier__shrinking':[True, False],\n",
    "    'classifier__class_weight':['balanced', None],\n",
    "}]}\n",
    "\n",
    "grid_search(params_svc1, name='VectorClass')"
   ]
  },
  {
   "cell_type": "code",
   "execution_count": 68,
   "metadata": {},
   "outputs": [
    {
     "name": "stdout",
     "output_type": "stream",
     "text": [
      "Stored 'svc_best_params' (dict)\n"
     ]
    }
   ],
   "source": [
    "svc_best_params = tuned_params['SVC']\n",
    "%store svc_best_params"
   ]
  },
  {
   "cell_type": "code",
   "execution_count": 52,
   "metadata": {},
   "outputs": [
    {
     "name": "stdout",
     "output_type": "stream",
     "text": [
      "Running... SGDClassifier GridSearch\n",
      "Time Started: Mon May  9 07:52:04 2022\n",
      "Time Finished: Mon May  9 07:52:36 2022\n",
      "\n",
      "Best cross validation score: 81.07%\n",
      "Optimal parameters: {'classifier__alpha': 0.0001, 'classifier__class_weight': None, 'classifier__penalty': 'l2'}\n"
     ]
    }
   ],
   "source": [
    "params_sgd1 = {'SGDClassifier': [{\n",
    "    'classifier__penalty':['l1', 'l2', 'elasticnet'],\n",
    "    'classifier__alpha':[0.0001, 0.001, 0.01, 0.1, 1],\n",
    "    'classifier__class_weight':['balanced', None],\n",
    "}]}\n",
    "\n",
    "grid_search(params_sgd1, name='SGDClassifier')"
   ]
  },
  {
   "cell_type": "code",
   "execution_count": 57,
   "metadata": {},
   "outputs": [
    {
     "name": "stdout",
     "output_type": "stream",
     "text": [
      "Running... SGDClassifier GridSearch\n",
      "Time Started: Mon May  9 07:55:46 2022\n",
      "Time Finished: Mon May  9 07:57:04 2022\n",
      "\n",
      "Best cross validation score: 80.99%\n",
      "Optimal parameters: {'classifier__class_weight': 'balanced', 'classifier__eta0': 0.1, 'classifier__learning_rate': 'constant', 'classifier__penalty': 'l2'}\n"
     ]
    }
   ],
   "source": [
    "params_sgd2 = {'SGDClassifier': [{\n",
    "    'classifier__penalty':['l1', 'l2', 'elasticnet'],\n",
    "    'classifier__eta0':[0.01, 0.1],\n",
    "    'classifier__learning_rate':['constant', 'invscaling', 'adaptive'],\n",
    "    'classifier__class_weight':['balanced', None],\n",
    "}]}\n",
    "\n",
    "grid_search(params_sgd2, name='SGDClassifier2')"
   ]
  },
  {
   "cell_type": "code",
   "execution_count": 60,
   "metadata": {
    "scrolled": true
   },
   "outputs": [
    {
     "name": "stdout",
     "output_type": "stream",
     "text": [
      "Running... SGDClassifier GridSearch\n",
      "Time Started: Mon May  9 08:14:51 2022\n",
      "Time Finished: Mon May  9 08:15:27 2022\n",
      "\n",
      "Best cross validation score: 84.64%\n",
      "Optimal parameters: {'classifier__alpha': 1e-05, 'classifier__class_weight': None, 'classifier__penalty': 'l1'}\n"
     ]
    }
   ],
   "source": [
    "params_sgd3 = {'SGDClassifier': [{\n",
    "    'classifier__penalty':['l1', 'l2', 'elasticnet'],\n",
    "    'classifier__alpha':[0.000001, 0.00001, 0.0001],\n",
    "    'classifier__class_weight':['balanced', None],\n",
    "}]}\n",
    "\n",
    "grid_search(params_sgd3, name='SGDClassifier3')"
   ]
  },
  {
   "cell_type": "code",
   "execution_count": 66,
   "metadata": {},
   "outputs": [
    {
     "name": "stdout",
     "output_type": "stream",
     "text": [
      "Stored 'sgd_best_params' (dict)\n"
     ]
    }
   ],
   "source": [
    "sgd_best_params = tuned_params['SGDClassifier3']\n",
    "%store sgd_best_params"
   ]
  },
  {
   "cell_type": "markdown",
   "metadata": {},
   "source": [
    "# Contact\n",
    "\n",
    "Feel free to contact me for any questions and connect with me on [Linkedin](https://www.linkedin.com/in/czarinagluna/)."
   ]
  }
 ],
 "metadata": {
  "kernelspec": {
   "display_name": "Python (learn-env)",
   "language": "python",
   "name": "learn-env"
  },
  "language_info": {
   "codemirror_mode": {
    "name": "ipython",
    "version": 3
   },
   "file_extension": ".py",
   "mimetype": "text/x-python",
   "name": "python",
   "nbconvert_exporter": "python",
   "pygments_lexer": "ipython3",
   "version": "3.8.5"
  },
  "varInspector": {
   "cols": {
    "lenName": 16,
    "lenType": 16,
    "lenVar": 40
   },
   "kernels_config": {
    "python": {
     "delete_cmd_postfix": "",
     "delete_cmd_prefix": "del ",
     "library": "var_list.py",
     "varRefreshCmd": "print(var_dic_list())"
    },
    "r": {
     "delete_cmd_postfix": ") ",
     "delete_cmd_prefix": "rm(",
     "library": "var_list.r",
     "varRefreshCmd": "cat(var_dic_list()) "
    }
   },
   "types_to_exclude": [
    "module",
    "function",
    "builtin_function_or_method",
    "instance",
    "_Feature"
   ],
   "window_display": false
  }
 },
 "nbformat": 4,
 "nbformat_minor": 4
}
