{
 "cells": [
  {
   "cell_type": "markdown",
   "metadata": {},
   "source": [
    "# Grid Search\n",
    "[SXSW Tweets Sentiment Analysis](https://github.com/czarinagluna/Twitter-Sentiment-Analysis/blob/main/sxsw-sentiment-analysis.ipynb)\n",
    "\n",
    "Authors: Marcelo Scatena, Czarina Luna, Piotr Czolpik, Ross McKim"
   ]
  },
  {
   "cell_type": "code",
   "execution_count": 1,
   "metadata": {},
   "outputs": [],
   "source": [
    "%store -r X_train_processed"
   ]
  },
  {
   "cell_type": "code",
   "execution_count": 2,
   "metadata": {},
   "outputs": [
    {
     "data": {
      "text/plain": [
       "6488                        putting gun head give iphone \n",
       "1944     virtualwallet nfc iphone5 bc standardization ...\n",
       "6869    want win ticket 1 party rule simple android un...\n",
       "3640    still big line outside apple pop shop 3 day ip...\n",
       "7209    go without saying google bread going amazing g...\n",
       "                              ...                        \n",
       "8852    case wanna stalk google austinjs rocksauce sha...\n",
       "2671    de ipad new ubersocial iphone app store includ...\n",
       "9048          bet man kindle apple sure pre order amazon \n",
       "8257    joke keynote trying hard kind flat android spi...\n",
       "5259    da verpixelungsrechtthe right house pixelated ...\n",
       "Name: text, Length: 6681, dtype: object"
      ]
     },
     "execution_count": 2,
     "metadata": {},
     "output_type": "execute_result"
    }
   ],
   "source": [
    "X_train_processed"
   ]
  },
  {
   "cell_type": "code",
   "execution_count": 3,
   "metadata": {},
   "outputs": [],
   "source": [
    "%store -r X_test_processed"
   ]
  },
  {
   "cell_type": "code",
   "execution_count": 4,
   "metadata": {},
   "outputs": [],
   "source": [
    "%store -r y_train"
   ]
  },
  {
   "cell_type": "code",
   "execution_count": 5,
   "metadata": {},
   "outputs": [],
   "source": [
    "%store -r y_test"
   ]
  },
  {
   "cell_type": "code",
   "execution_count": 26,
   "metadata": {},
   "outputs": [],
   "source": [
    "import time\n",
    "import numpy as np\n",
    "\n",
    "from imblearn.over_sampling import RandomOverSampler\n",
    "from sklearn.feature_extraction.text import CountVectorizer, TfidfVectorizer\n",
    "from sklearn.pipeline import Pipeline\n",
    "from sklearn.model_selection import GridSearchCV\n",
    "from sklearn.metrics import make_scorer, accuracy_score\n",
    "from sklearn.linear_model import LogisticRegression, SGDClassifier\n",
    "from sklearn.naive_bayes import MultinomialNB\n",
    "from sklearn.tree import DecisionTreeClassifier\n",
    "from sklearn.ensemble import RandomForestClassifier, ExtraTreesClassifier, GradientBoostingClassifier\n",
    "from sklearn.svm import SVC\n",
    "\n",
    "import warnings\n",
    "warnings.filterwarnings('ignore')"
   ]
  },
  {
   "cell_type": "code",
   "execution_count": 34,
   "metadata": {},
   "outputs": [],
   "source": [
    "baseline_models = {'LogisticRegression': {'classifier': LogisticRegression(max_iter=1000, random_state=20211122)}, \n",
    "                   'MultinomialNB': {'classifier': MultinomialNB()},\n",
    "                   'DecisionTree': {'classifier': DecisionTreeClassifier(random_state=20211122)},\n",
    "                   'RandomForest': {'classifier': RandomForestClassifier(random_state=20211122)},\n",
    "                   'ExtraTrees': {'classifier': ExtraTreesClassifier(random_state=20211122)},\n",
    "                   'GradientBoost': {'classifier': GradientBoostingClassifier(random_state=20211122)},\n",
    "                   'VectorClass': {'classifier': SVC(random_state=20211122)},\n",
    "                   'SGDClassifier': {'classifier': SGDClassifier(random_state=20211122)}\n",
    "                  }"
   ]
  },
  {
   "cell_type": "code",
   "execution_count": 35,
   "metadata": {},
   "outputs": [],
   "source": [
    "ros = RandomOverSampler(random_state=112221)\n",
    "cv = CountVectorizer(lowercase=False)\n",
    "tfidf = TfidfVectorizer(stop_words='english', lowercase=False)\n",
    "\n",
    "tuned_params = {}\n",
    "\n",
    "def run_gridsearch(params, name, vectorizer, models=baseline_models):\n",
    "    for model, grid in params.items():\n",
    "        print(model, 'Grid Search:')\n",
    "        print(f'Time Started: {time.asctime()}')\n",
    "        \n",
    "        ros.fit_resample(np.array(X_train_processed).reshape(-1, 1), y_train)\n",
    "        \n",
    "        pipe = Pipeline(steps=[(str(vectorizer), vectorizer), ('classifier', models[model]['classifier'])])\n",
    "        pipe.fit(X_train_processed, y_train)\n",
    "        \n",
    "        # scorer = make_scorer(accuracy_score, average='macro')\n",
    "        gridsearch = GridSearchCV(estimator=pipe, param_grid=grid, scoring='recall_micro', cv=5, refit=False)\n",
    "        gridsearch.fit(X_train_processed, y_train)\n",
    "        \n",
    "        print(f'Time Finished: {time.asctime()}')\n",
    "        print(f'Cross validation scores: {gridsearch.cv_results_[\"mean_test_score\"]}')\n",
    "        print(f'Best cross validation score: {gridsearch.best_score_ :.2%}')\n",
    "        print(f'Optimal parameters: {gridsearch.best_params_}')\n",
    "        \n",
    "        tuned_params[name] = gridsearch.best_params_"
   ]
  },
  {
   "cell_type": "code",
   "execution_count": 11,
   "metadata": {},
   "outputs": [
    {
     "name": "stdout",
     "output_type": "stream",
     "text": [
      "LogisticRegression Grid Search:\n",
      "Time Started: Mon Feb 21 18:13:02 2022\n",
      "Time Finished: Mon Feb 21 18:13:37 2022\n",
      "Cross validation scores: [0.60290377 0.60290377 0.60844235 0.60844235 0.66905911 0.66905911\n",
      " 0.66202408 0.66217378 0.67773973 0.67714116 0.66471645 0.66486615]\n",
      "Best cross validation score: 67.77%\n",
      "Optimal parameters: {'classifier__C': 1, 'classifier__fit_intercept': True, 'classifier__solver': 'lbfgs'}\n"
     ]
    }
   ],
   "source": [
    "params_lr1 = {'LogisticRegression': [{\n",
    "    'classifier__C':[0.001, 0.1, 1],\n",
    "    'classifier__solver':['lbfgs', 'saga'],\n",
    "    'classifier__fit_intercept':[True, False]\n",
    "}]}\n",
    "\n",
    "run_gridsearch(params_lr1, name='LogisticRegression1_cv', vectorizer=cv)"
   ]
  },
  {
   "cell_type": "code",
   "execution_count": 12,
   "metadata": {},
   "outputs": [
    {
     "name": "stdout",
     "output_type": "stream",
     "text": [
      "LogisticRegression Grid Search:\n",
      "Time Started: Mon Feb 21 18:14:32 2022\n",
      "Time Finished: Mon Feb 21 18:14:47 2022\n",
      "Cross validation scores: [0.60290377 0.60290377 0.61038846 0.61038846 0.63807758 0.63807758\n",
      " 0.65095072 0.65095072 0.68013506 0.68013506 0.67355024 0.67355024]\n",
      "Best cross validation score: 68.01%\n",
      "Optimal parameters: {'classifier__C': 1, 'classifier__fit_intercept': True, 'classifier__solver': 'saga'}\n"
     ]
    }
   ],
   "source": [
    "params_lr1 = {'LogisticRegression': [{\n",
    "    'classifier__C':[0.001, 0.1, 1],\n",
    "    'classifier__solver':['lbfgs', 'saga'],\n",
    "    'classifier__fit_intercept':[True, False]\n",
    "}]}\n",
    "\n",
    "run_gridsearch(params_lr1, name='LogisticRegression1_tfidf', vectorizer=tfidf)"
   ]
  },
  {
   "cell_type": "code",
   "execution_count": 13,
   "metadata": {},
   "outputs": [
    {
     "name": "stdout",
     "output_type": "stream",
     "text": [
      "LogisticRegression Grid Search:\n",
      "Time Started: Mon Feb 21 18:14:48 2022\n",
      "Time Finished: Mon Feb 21 18:15:24 2022\n",
      "Cross validation scores: [0.68013506 0.62684881 0.62684881 0.62684881]\n",
      "Best cross validation score: 68.01%\n",
      "Optimal parameters: {'classifier__C': 1, 'classifier__fit_intercept': True, 'classifier__solver': 'saga'}\n"
     ]
    }
   ],
   "source": [
    "params_lr2 = {'LogisticRegression': [{\n",
    "    'classifier__C':[1, 1e10, 1e12, 1e15],\n",
    "    'classifier__solver':['saga'],\n",
    "    'classifier__fit_intercept':[True]\n",
    "}]}\n",
    "\n",
    "run_gridsearch(params_lr2, name='LogisticRegression2_tfidf', vectorizer=tfidf)"
   ]
  },
  {
   "cell_type": "code",
   "execution_count": 14,
   "metadata": {},
   "outputs": [
    {
     "name": "stdout",
     "output_type": "stream",
     "text": [
      "LogisticRegression Grid Search:\n",
      "Time Started: Mon Feb 21 18:15:24 2022\n",
      "Time Finished: Mon Feb 21 18:16:46 2022\n",
      "Cross validation scores: [       nan 0.68013506        nan 0.61966329        nan 0.67384897\n",
      "        nan 0.62175921        nan 0.68013506        nan 0.61966329]\n",
      "Best cross validation score: 68.01%\n",
      "Optimal parameters: {'classifier__multi_class': 'auto', 'classifier__penalty': 'l2'}\n"
     ]
    }
   ],
   "source": [
    "LogisticRegression()\n",
    "\n",
    "params_lr3 = {'LogisticRegression': [{\n",
    "    'classifier__multi_class':['auto', 'ovr', 'multinomial'],\n",
    "    'classifier__penalty':['l1', 'l2', 'elasticnet', 'none']\n",
    "}]}\n",
    "\n",
    "run_gridsearch(params_lr3, name='LogisticRegression3_tfidf', vectorizer=tfidf)"
   ]
  },
  {
   "cell_type": "code",
   "execution_count": 17,
   "metadata": {},
   "outputs": [
    {
     "name": "stdout",
     "output_type": "stream",
     "text": [
      "MultinomialNB Grid Search:\n",
      "Time Started: Mon Feb 21 18:17:04 2022\n",
      "Time Finished: Mon Feb 21 18:17:08 2022\n",
      "Cross validation scores: [0.63837284 0.64046843 0.64181517 0.64226461 0.64615694 0.64885155\n",
      " 0.65334212 0.65438946 0.6563349 ]\n",
      "Best cross validation score: 65.63%\n",
      "Optimal parameters: {'classifier__alpha': 1}\n"
     ]
    }
   ],
   "source": [
    "params_mn2 = {'MultinomialNB': [{\n",
    "    'classifier__alpha':[.001, .01, .05, .1, .2, .4, .6, .8, 1]\n",
    "}]}\n",
    "\n",
    "run_gridsearch(params_mn2, name='MultinomialNB2_cv', vectorizer=cv)"
   ]
  },
  {
   "cell_type": "code",
   "execution_count": 15,
   "metadata": {},
   "outputs": [
    {
     "name": "stdout",
     "output_type": "stream",
     "text": [
      "MultinomialNB Grid Search:\n",
      "Time Started: Mon Feb 21 18:16:46 2022\n",
      "Time Finished: Mon Feb 21 18:16:50 2022\n",
      "Cross validation scores: [0.65049714 0.65169508 0.65573666 0.65887903 0.66411922 0.66322135\n",
      " 0.66157588 0.65618755 0.65319466]\n",
      "Best cross validation score: 66.41%\n",
      "Optimal parameters: {'classifier__alpha': 0.2}\n"
     ]
    }
   ],
   "source": [
    "params_mn1 = {'MultinomialNB': [{\n",
    "    'classifier__alpha':[.001, .01, .05, .1, .2, .4, .6, .8, 1]\n",
    "}]}\n",
    "\n",
    "run_gridsearch(params_mn1, name='MultinomialNB1_tfidf', vectorizer=tfidf)"
   ]
  },
  {
   "cell_type": "code",
   "execution_count": 18,
   "metadata": {},
   "outputs": [
    {
     "name": "stdout",
     "output_type": "stream",
     "text": [
      "DecisionTree Grid Search:\n",
      "Time Started: Mon Feb 21 18:17:35 2022\n",
      "Time Finished: Mon Feb 21 18:17:59 2022\n",
      "Cross validation scores: [0.61083678 0.61323199 0.62071489 0.62954622 0.63238896 0.61083678\n",
      " 0.61323199 0.62355965 0.62415823 0.6328384  0.60290377 0.60290377\n",
      " 0.60290377 0.60290377 0.60290377 0.61083678 0.61083678 0.61083678\n",
      " 0.61083678 0.61083678 0.60290377 0.60290377 0.60290377 0.60290377\n",
      " 0.60290377 0.60290377 0.60290377 0.60290377 0.60290377 0.60290377\n",
      " 0.60290377 0.60290377 0.60290377 0.60290377 0.60290377 0.60290377\n",
      " 0.60290377 0.60290377 0.60290377 0.60290377]\n",
      "Best cross validation score: 63.28%\n",
      "Optimal parameters: {'classifier__ccp_alpha': 0.001, 'classifier__criterion': 'entropy', 'classifier__max_depth': 15}\n"
     ]
    }
   ],
   "source": [
    "params_dtc1 = {'DecisionTree': [{\n",
    "    'classifier__criterion':['gini', 'entropy'],\n",
    "    'classifier__max_depth':[1, 2, 6, 10, 15],\n",
    "    'classifier__ccp_alpha':[.001, .01, .1, .5]\n",
    "}]}\n",
    "\n",
    "run_gridsearch(params_dtc1, name='DecisionTree1_cv', vectorizer=cv)"
   ]
  },
  {
   "cell_type": "code",
   "execution_count": 19,
   "metadata": {},
   "outputs": [
    {
     "name": "stdout",
     "output_type": "stream",
     "text": [
      "DecisionTree Grid Search:\n",
      "Time Started: Mon Feb 21 18:17:59 2022\n",
      "Time Finished: Mon Feb 21 18:18:30 2022\n",
      "Cross validation scores: [0.61353139 0.6132321  0.61802028 0.62041515 0.62206175 0.61353139\n",
      " 0.6133818  0.62086504 0.62550509 0.62475636 0.60290377 0.60290377\n",
      " 0.60290377 0.60290377 0.60290377 0.61353139 0.61353139 0.61353139\n",
      " 0.61353139 0.61353139 0.60290377 0.60290377 0.60290377 0.60290377\n",
      " 0.60290377 0.60290377 0.60290377 0.60290377 0.60290377 0.60290377\n",
      " 0.60290377 0.60290377 0.60290377 0.60290377 0.60290377 0.60290377\n",
      " 0.60290377 0.60290377 0.60290377 0.60290377]\n",
      "Best cross validation score: 62.55%\n",
      "Optimal parameters: {'classifier__ccp_alpha': 0.001, 'classifier__criterion': 'entropy', 'classifier__max_depth': 10}\n"
     ]
    }
   ],
   "source": [
    "params_dtc2 = {'DecisionTree': [{\n",
    "    'classifier__criterion':['gini', 'entropy'],\n",
    "    'classifier__max_depth':[1, 2, 6, 10, 15],\n",
    "    'classifier__ccp_alpha':[.001, .01, .1, .5]\n",
    "}]}\n",
    "\n",
    "run_gridsearch(params_dtc2, name='DecisionTree1_tfidf', vectorizer=tfidf)"
   ]
  },
  {
   "cell_type": "code",
   "execution_count": 22,
   "metadata": {},
   "outputs": [
    {
     "name": "stdout",
     "output_type": "stream",
     "text": [
      "GradientBoost Grid Search:\n",
      "Time Started: Mon Feb 21 18:19:33 2022\n",
      "Time Finished: Mon Feb 21 18:27:31 2022\n",
      "Cross validation scores: [0.60290377 0.60290377 0.60290377 0.61293259 0.63927609 0.65319533\n",
      " 0.65828369 0.66921072]\n",
      "Best cross validation score: 66.92%\n",
      "Optimal parameters: {'classifier__learning_rate': 0.01, 'classifier__max_depth': 10, 'classifier__n_estimators': 200}\n"
     ]
    }
   ],
   "source": [
    "params_gbc1 = {'GradientBoost': [{\n",
    "    'classifier__learning_rate':[.001, .01],\n",
    "    'classifier__n_estimators':[100, 200],\n",
    "    'classifier__max_depth':[5, 10]\n",
    "}]}\n",
    "\n",
    "run_gridsearch(params_gbc1, name='GradBoost1_cv', vectorizer=cv)"
   ]
  },
  {
   "cell_type": "code",
   "execution_count": 23,
   "metadata": {},
   "outputs": [
    {
     "name": "stdout",
     "output_type": "stream",
     "text": [
      "GradientBoost Grid Search:\n",
      "Time Started: Mon Feb 21 18:27:31 2022\n",
      "Time Finished: Mon Feb 21 18:39:39 2022\n",
      "Cross validation scores: [0.60290377 0.60320294 0.60290377 0.61712331 0.63792833 0.65379458\n",
      " 0.65753609 0.66861315]\n",
      "Best cross validation score: 66.86%\n",
      "Optimal parameters: {'classifier__learning_rate': 0.01, 'classifier__max_depth': 10, 'classifier__n_estimators': 200}\n"
     ]
    }
   ],
   "source": [
    "params_gbc1 = {'GradientBoost': [{\n",
    "    'classifier__learning_rate':[.001, .01],\n",
    "    'classifier__n_estimators':[100, 200],\n",
    "    'classifier__max_depth':[5, 10]\n",
    "}]}\n",
    "\n",
    "run_gridsearch(params_gbc1, name='GradBoost1_tfidf', vectorizer=tfidf)"
   ]
  },
  {
   "cell_type": "code",
   "execution_count": 24,
   "metadata": {},
   "outputs": [
    {
     "name": "stdout",
     "output_type": "stream",
     "text": [
      "RandomForest Grid Search:\n",
      "Time Started: Mon Feb 21 18:39:39 2022\n",
      "Time Finished: Mon Feb 21 18:51:56 2022\n",
      "Cross validation scores: [0.60290377 0.60290377 0.60290377 0.60290377 0.60305347 0.60290377\n",
      " 0.60619684 0.60529864 0.60859194 0.60814295 0.60290377 0.60290377\n",
      " 0.60290377 0.60290377 0.60305347 0.60290377 0.60559804 0.60544834\n",
      " 0.60844224 0.60769385 0.60290377 0.60290377 0.60290377 0.60290377\n",
      " 0.60290377 0.60290377 0.60290377 0.60290377 0.60290377 0.60290377\n",
      " 0.60290377 0.60290377 0.60290377 0.60290377 0.60290377 0.60290377\n",
      " 0.60290377 0.60290377 0.60290377 0.60290377 0.60290377 0.60290377\n",
      " 0.60290377 0.60290377 0.60290377 0.60290377 0.60290377 0.60290377\n",
      " 0.60290377 0.60290377 0.60290377 0.60290377 0.60290377 0.60290377\n",
      " 0.60290377 0.60290377 0.60290377 0.60290377 0.60290377 0.60290377\n",
      " 0.60290377 0.60290377 0.60290377 0.60290377 0.60290377 0.60290377\n",
      " 0.60290377 0.60290377 0.60290377 0.60290377 0.60290377 0.60290377\n",
      " 0.60290377 0.60290377 0.60290377 0.60290377 0.60290377 0.60290377\n",
      " 0.60290377 0.60290377]\n",
      "Best cross validation score: 60.86%\n",
      "Optimal parameters: {'classifier__ccp_alpha': 0.001, 'classifier__criterion': 'gini', 'classifier__max_depth': 15, 'classifier__n_estimators': 100}\n"
     ]
    }
   ],
   "source": [
    "params_rf1 = {'RandomForest': [{\n",
    "    'classifier__n_estimators':[100, 1000],\n",
    "    'classifier__criterion':['gini', 'entropy'],\n",
    "    'classifier__max_depth':[1, 2, 6, 10, 15],\n",
    "    'classifier__ccp_alpha':[.001, .01, .1, .5]\n",
    "}]}\n",
    "\n",
    "run_gridsearch(params_rf1, name='RandomForest1_cv', vectorizer=cv)"
   ]
  },
  {
   "cell_type": "code",
   "execution_count": 25,
   "metadata": {},
   "outputs": [
    {
     "name": "stdout",
     "output_type": "stream",
     "text": [
      "RandomForest Grid Search:\n",
      "Time Started: Mon Feb 21 18:51:56 2022\n",
      "Time Finished: Mon Feb 21 19:05:19 2022\n",
      "Cross validation scores: [0.60290377 0.60290377 0.60290377 0.60290377 0.60469984 0.60425074\n",
      " 0.60649613 0.60619684 0.61263285 0.60904093 0.60290377 0.60290377\n",
      " 0.60290377 0.60290377 0.60410104 0.60350223 0.60619684 0.60589744\n",
      " 0.6103879  0.60829243 0.60290377 0.60290377 0.60290377 0.60290377\n",
      " 0.60290377 0.60290377 0.60290377 0.60290377 0.60290377 0.60290377\n",
      " 0.60290377 0.60290377 0.60290377 0.60290377 0.60290377 0.60290377\n",
      " 0.60290377 0.60290377 0.60290377 0.60290377 0.60290377 0.60290377\n",
      " 0.60290377 0.60290377 0.60290377 0.60290377 0.60290377 0.60290377\n",
      " 0.60290377 0.60290377 0.60290377 0.60290377 0.60290377 0.60290377\n",
      " 0.60290377 0.60290377 0.60290377 0.60290377 0.60290377 0.60290377\n",
      " 0.60290377 0.60290377 0.60290377 0.60290377 0.60290377 0.60290377\n",
      " 0.60290377 0.60290377 0.60290377 0.60290377 0.60290377 0.60290377\n",
      " 0.60290377 0.60290377 0.60290377 0.60290377 0.60290377 0.60290377\n",
      " 0.60290377 0.60290377]\n",
      "Best cross validation score: 61.26%\n",
      "Optimal parameters: {'classifier__ccp_alpha': 0.001, 'classifier__criterion': 'gini', 'classifier__max_depth': 15, 'classifier__n_estimators': 100}\n"
     ]
    }
   ],
   "source": [
    "params_rf1 = {'RandomForest': [{\n",
    "    'classifier__n_estimators':[100, 1000],\n",
    "    'classifier__criterion':['gini', 'entropy'],\n",
    "    'classifier__max_depth':[1, 2, 6, 10, 15],\n",
    "    'classifier__ccp_alpha':[.001, .01, .1, .5]\n",
    "}]}\n",
    "\n",
    "run_gridsearch(params_rf1, name='RandomForest2_tfidf', vectorizer=tfidf)"
   ]
  },
  {
   "cell_type": "code",
   "execution_count": 36,
   "metadata": {},
   "outputs": [
    {
     "name": "stdout",
     "output_type": "stream",
     "text": [
      "VectorClass Grid Search:\n",
      "Time Started: Mon Feb 21 19:23:01 2022\n",
      "Time Finished: Mon Feb 21 19:57:38 2022\n",
      "Cross validation scores: [0.65588681 0.6557371  0.65304339 0.65304339 0.66471802 0.66471802\n",
      " 0.5798492  0.57820294 0.65588681 0.6557371  0.38763431 0.38763431\n",
      " 0.38763431 0.38763431 0.38763431 0.38763431 0.66980706 0.66965736\n",
      " 0.643914   0.64406371 0.6826803  0.6823809  0.65139724 0.65244515\n",
      " 0.66980706 0.66965736 0.60290377 0.60290377 0.60290377 0.60290377\n",
      " 0.60290377 0.60290377 0.65528778 0.65543737 0.66097618 0.66097618\n",
      " 0.68088221 0.68103192 0.56443452 0.56293751 0.65528778 0.65543737\n",
      " 0.38763431 0.38763431 0.39167622 0.39167622 0.38763431 0.38763431\n",
      " 0.66217277 0.66202307 0.65259418 0.65259418 0.69375456 0.69375456\n",
      " 0.63643021 0.63717849 0.66217277 0.66202307 0.60290377 0.60290377\n",
      " 0.60290377 0.60290377 0.60290377 0.60290377 0.64870174 0.64870174\n",
      " 0.66636462 0.66636462 0.68537312 0.68537312 0.54332953 0.54692235\n",
      " 0.64870174 0.64870174 0.38763431 0.38763431 0.41339501 0.41339501\n",
      " 0.38763431 0.38763431 0.6551383  0.6551383  0.65633591 0.65633591\n",
      " 0.6968985  0.69674891 0.62296152 0.62071657 0.6551383  0.6551383\n",
      " 0.60290377 0.60290377 0.60290377 0.60290377 0.60290377 0.60290377]\n",
      "Best cross validation score: 69.69%\n",
      "Optimal parameters: {'classifier__C': 3, 'classifier__class_weight': None, 'classifier__gamma': 'scale', 'classifier__kernel': 'rbf', 'classifier__shrinking': True}\n"
     ]
    }
   ],
   "source": [
    "params_svc1 = {'VectorClass': [{\n",
    "    'classifier__C':[1, 2, 3],\n",
    "    'classifier__kernel':['linear', 'poly', 'rbf', 'sigmoid'],\n",
    "    'classifier__gamma':['scale', 'auto'],\n",
    "    'classifier__shrinking':[True, False],\n",
    "    'classifier__class_weight':['balanced', None],\n",
    "}]}\n",
    "\n",
    "run_gridsearch(params_svc1, name='SVC1_cv', vectorizer=cv)"
   ]
  },
  {
   "cell_type": "code",
   "execution_count": 37,
   "metadata": {},
   "outputs": [
    {
     "name": "stdout",
     "output_type": "stream",
     "text": [
      "VectorClass Grid Search:\n",
      "Time Started: Mon Feb 21 19:57:38 2022\n",
      "Time Finished: Mon Feb 21 20:31:33 2022\n",
      "Cross validation scores: [0.63522958 0.63522958 0.66142629 0.66142629 0.66651286 0.66651286\n",
      " 0.60619315 0.60619315 0.63522958 0.63522958 0.38763431 0.38763431\n",
      " 0.38763431 0.38763431 0.38763431 0.38763431 0.68716998 0.68716998\n",
      " 0.65843295 0.65843295 0.68792005 0.68792005 0.67145444 0.67100533\n",
      " 0.68716998 0.68716998 0.60290377 0.60290377 0.60290377 0.60290377\n",
      " 0.60290377 0.60290377 0.6415151  0.6415151  0.65843194 0.65843194\n",
      " 0.67624228 0.67624228 0.59885704 0.59930647 0.6415151  0.6415151\n",
      " 0.38763431 0.38763431 0.38763431 0.38763431 0.38763431 0.38763431\n",
      " 0.67489587 0.67489587 0.66232438 0.66232438 0.69106208 0.69106208\n",
      " 0.66007809 0.66007809 0.67489587 0.67489587 0.60290377 0.60290377\n",
      " 0.60290377 0.60290377 0.60290377 0.60290377 0.64151476 0.64151476\n",
      " 0.65888082 0.65903052 0.68028397 0.68028397 0.59391736 0.5930195\n",
      " 0.64151476 0.64151476 0.38763431 0.38763431 0.38763431 0.38763431\n",
      " 0.38763431 0.38763431 0.66920725 0.66920725 0.66097741 0.66097741\n",
      " 0.68836803 0.68836803 0.64645701 0.64690522 0.66920725 0.66920725\n",
      " 0.60290377 0.60290377 0.60290377 0.60290377 0.60290377 0.60290377]\n",
      "Best cross validation score: 69.11%\n",
      "Optimal parameters: {'classifier__C': 2, 'classifier__class_weight': None, 'classifier__gamma': 'scale', 'classifier__kernel': 'rbf', 'classifier__shrinking': True}\n"
     ]
    }
   ],
   "source": [
    "params_svc1 = {'VectorClass': [{\n",
    "    'classifier__C':[1, 2, 3],\n",
    "    'classifier__kernel':['linear', 'poly', 'rbf', 'sigmoid'],\n",
    "    'classifier__gamma':['scale', 'auto'],\n",
    "    'classifier__shrinking':[True, False],\n",
    "    'classifier__class_weight':['balanced', None],\n",
    "}]}\n",
    "\n",
    "run_gridsearch(params_svc1, name='SVC1_tfidf', vectorizer=tfidf)"
   ]
  },
  {
   "cell_type": "code",
   "execution_count": 38,
   "metadata": {},
   "outputs": [
    {
     "name": "stdout",
     "output_type": "stream",
     "text": [
      "SGDClassifier Grid Search:\n",
      "Time Started: Mon Feb 21 20:31:33 2022\n",
      "Time Finished: Mon Feb 21 20:32:05 2022\n",
      "Cross validation scores: [0.64196633 0.6422645  0.65573778 0.65843127 0.66112498 0.66501608\n",
      " 0.66636383 0.67085418 0.62759899 0.62041247 0.6656141  0.66711099\n",
      " 0.65379335 0.6537938  0.67788999 0.67863861 0.59197887 0.57476162\n",
      " 0.63418313 0.63463156 0.60604636 0.60290377 0.63972418 0.6416704 ]\n",
      "Best cross validation score: 67.86%\n",
      "Optimal parameters: {'classifier__alpha': 0.001, 'classifier__class_weight': None, 'classifier__penalty': 'l2', 'classifier__shuffle': False}\n"
     ]
    }
   ],
   "source": [
    "params_sgd1 = {'SGDClassifier': [{\n",
    "    'classifier__penalty':['l1', 'l2'],\n",
    "    'classifier__alpha':[0.0001, 0.001, 0.01],\n",
    "    'classifier__shuffle':[True, False],\n",
    "    'classifier__class_weight':['balanced', None],\n",
    "}]}\n",
    "\n",
    "run_gridsearch(params_sgd1, name='SGDClassifier1_cv', vectorizer=cv)"
   ]
  },
  {
   "cell_type": "code",
   "execution_count": 39,
   "metadata": {},
   "outputs": [
    {
     "name": "stdout",
     "output_type": "stream",
     "text": [
      "SGDClassifier Grid Search:\n",
      "Time Started: Mon Feb 21 20:32:05 2022\n",
      "Time Finished: Mon Feb 21 20:32:31 2022\n",
      "Cross validation scores: [0.6626221  0.65738348 0.65723321 0.660226   0.67908726 0.67998726\n",
      " 0.67609359 0.67938678 0.61277986 0.62101306 0.644959   0.64436053\n",
      " 0.63358735 0.63164247 0.63747968 0.63688088 0.60290377 0.60275418\n",
      " 0.61173453 0.62669776 0.60290377 0.60290377 0.60290377 0.60290377]\n",
      "Best cross validation score: 68.00%\n",
      "Optimal parameters: {'classifier__alpha': 0.0001, 'classifier__class_weight': None, 'classifier__penalty': 'l1', 'classifier__shuffle': False}\n"
     ]
    }
   ],
   "source": [
    "params_sgd1 = {'SGDClassifier': [{\n",
    "    'classifier__penalty':['l1', 'l2'],\n",
    "    'classifier__alpha':[0.0001, 0.001, 0.01],\n",
    "    'classifier__shuffle':[True, False],\n",
    "    'classifier__class_weight':['balanced', None],\n",
    "}]}\n",
    "\n",
    "run_gridsearch(params_sgd1, name='SGDClassifier2_tfidf', vectorizer=tfidf)"
   ]
  },
  {
   "cell_type": "markdown",
   "metadata": {},
   "source": []
  }
 ],
 "metadata": {
  "kernelspec": {
   "display_name": "Python (learn-env)",
   "language": "python",
   "name": "learn-env"
  },
  "language_info": {
   "codemirror_mode": {
    "name": "ipython",
    "version": 3
   },
   "file_extension": ".py",
   "mimetype": "text/x-python",
   "name": "python",
   "nbconvert_exporter": "python",
   "pygments_lexer": "ipython3",
   "version": "3.8.5"
  },
  "varInspector": {
   "cols": {
    "lenName": 16,
    "lenType": 16,
    "lenVar": 40
   },
   "kernels_config": {
    "python": {
     "delete_cmd_postfix": "",
     "delete_cmd_prefix": "del ",
     "library": "var_list.py",
     "varRefreshCmd": "print(var_dic_list())"
    },
    "r": {
     "delete_cmd_postfix": ") ",
     "delete_cmd_prefix": "rm(",
     "library": "var_list.r",
     "varRefreshCmd": "cat(var_dic_list()) "
    }
   },
   "types_to_exclude": [
    "module",
    "function",
    "builtin_function_or_method",
    "instance",
    "_Feature"
   ],
   "window_display": false
  }
 },
 "nbformat": 4,
 "nbformat_minor": 4
}
