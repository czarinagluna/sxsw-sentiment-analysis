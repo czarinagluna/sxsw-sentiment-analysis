{
 "cells": [
  {
   "cell_type": "markdown",
   "metadata": {},
   "source": [
    "# Latent Dirichlet Allocation\n",
    "[SXSW Tweets Sentiment Analysis](https://github.com/czarinagluna/Twitter-Sentiment-Analysis/blob/main/sxsw-sentiment-analysis.ipynb)\n",
    "\n",
    "Authors: Marcelo Scatena, Czarina Luna, Piotr Czolpik, Ross McKim"
   ]
  },
  {
   "cell_type": "markdown",
   "metadata": {},
   "source": [
    "## Import dataset"
   ]
  },
  {
   "cell_type": "code",
   "execution_count": 1,
   "metadata": {},
   "outputs": [],
   "source": [
    "%store -r X_train_processed"
   ]
  },
  {
   "cell_type": "code",
   "execution_count": 2,
   "metadata": {},
   "outputs": [],
   "source": [
    "%store -r X_test_processed"
   ]
  },
  {
   "cell_type": "code",
   "execution_count": 3,
   "metadata": {},
   "outputs": [],
   "source": [
    "%store -r y_train"
   ]
  },
  {
   "cell_type": "code",
   "execution_count": 4,
   "metadata": {},
   "outputs": [],
   "source": [
    "%store -r y_test"
   ]
  },
  {
   "cell_type": "code",
   "execution_count": 5,
   "metadata": {},
   "outputs": [],
   "source": [
    "import pandas as pd"
   ]
  },
  {
   "cell_type": "markdown",
   "metadata": {},
   "source": [
    "#### Join all data"
   ]
  },
  {
   "cell_type": "code",
   "execution_count": 6,
   "metadata": {},
   "outputs": [],
   "source": [
    "df_train=pd.concat([X_train_processed, y_train], axis=1)\n",
    "df_test=pd.concat([X_test_processed, y_test], axis=1)"
   ]
  },
  {
   "cell_type": "code",
   "execution_count": 7,
   "metadata": {},
   "outputs": [],
   "source": [
    "df_all=pd.concat([df_train, df_test])"
   ]
  },
  {
   "cell_type": "code",
   "execution_count": 8,
   "metadata": {},
   "outputs": [
    {
     "data": {
      "text/html": [
       "<div>\n",
       "<style scoped>\n",
       "    .dataframe tbody tr th:only-of-type {\n",
       "        vertical-align: middle;\n",
       "    }\n",
       "\n",
       "    .dataframe tbody tr th {\n",
       "        vertical-align: top;\n",
       "    }\n",
       "\n",
       "    .dataframe thead th {\n",
       "        text-align: right;\n",
       "    }\n",
       "</style>\n",
       "<table border=\"1\" class=\"dataframe\">\n",
       "  <thead>\n",
       "    <tr style=\"text-align: right;\">\n",
       "      <th></th>\n",
       "      <th>text</th>\n",
       "      <th>target</th>\n",
       "    </tr>\n",
       "  </thead>\n",
       "  <tbody>\n",
       "    <tr>\n",
       "      <th>6488</th>\n",
       "      <td>putting gun head give iphone</td>\n",
       "      <td>2</td>\n",
       "    </tr>\n",
       "    <tr>\n",
       "      <th>1944</th>\n",
       "      <td>virtualwallet nfc iphone5 bc standardization ...</td>\n",
       "      <td>0</td>\n",
       "    </tr>\n",
       "    <tr>\n",
       "      <th>6869</th>\n",
       "      <td>want win ticket 1 party rule simple android un...</td>\n",
       "      <td>1</td>\n",
       "    </tr>\n",
       "    <tr>\n",
       "      <th>3640</th>\n",
       "      <td>still big line outside apple pop shop 3 day ip...</td>\n",
       "      <td>1</td>\n",
       "    </tr>\n",
       "    <tr>\n",
       "      <th>7209</th>\n",
       "      <td>go without saying google bread going amazing g...</td>\n",
       "      <td>2</td>\n",
       "    </tr>\n",
       "  </tbody>\n",
       "</table>\n",
       "</div>"
      ],
      "text/plain": [
       "                                                   text  target\n",
       "6488                      putting gun head give iphone        2\n",
       "1944   virtualwallet nfc iphone5 bc standardization ...       0\n",
       "6869  want win ticket 1 party rule simple android un...       1\n",
       "3640  still big line outside apple pop shop 3 day ip...       1\n",
       "7209  go without saying google bread going amazing g...       2"
      ]
     },
     "execution_count": 8,
     "metadata": {},
     "output_type": "execute_result"
    }
   ],
   "source": [
    "df_all.head()"
   ]
  },
  {
   "cell_type": "code",
   "execution_count": 9,
   "metadata": {},
   "outputs": [],
   "source": [
    "#Dependencies\n",
    "\n",
    "import gensim #the library for Topic modelling\n",
    "from gensim.models.ldamulticore import LdaMulticore\n",
    "from gensim import corpora, models\n",
    "import pyLDAvis.gensim_models #LDA visualization library\n",
    "\n",
    "from nltk.corpus import stopwords\n",
    "import string\n",
    "from nltk.stem.wordnet import WordNetLemmatizer\n",
    "import regex as re\n",
    "\n",
    "import warnings\n",
    "warnings.simplefilter('ignore')\n",
    "from itertools import chain"
   ]
  },
  {
   "cell_type": "markdown",
   "metadata": {},
   "source": [
    "#### Perform data modeling for LDA:"
   ]
  },
  {
   "cell_type": "code",
   "execution_count": 10,
   "metadata": {},
   "outputs": [],
   "source": [
    "def tokenize_row(text):\n",
    "    split=re.split(\"\\W+\",text) \n",
    "    return split"
   ]
  },
  {
   "cell_type": "code",
   "execution_count": 12,
   "metadata": {},
   "outputs": [],
   "source": [
    "def remove_blanks(tokens):\n",
    "    no_blanks = [word for word in tokens if word]\n",
    "    return no_blanks"
   ]
  },
  {
   "cell_type": "code",
   "execution_count": 13,
   "metadata": {},
   "outputs": [],
   "source": [
    "def remove_punctuation_row(tokens):\n",
    "    token_list = [''.join(letter for letter in word if letter not in string.punctuation) for word in tokens]\n",
    "    return [word for word in token_list if word]"
   ]
  },
  {
   "cell_type": "code",
   "execution_count": 14,
   "metadata": {},
   "outputs": [],
   "source": [
    "df_all['text'] = df_all['text'].apply(lambda x: tokenize_row(x))\n",
    "df_all['text'] = df_all['text'].apply(lambda x: remove_punctuation_row(x))"
   ]
  },
  {
   "cell_type": "code",
   "execution_count": 15,
   "metadata": {},
   "outputs": [
    {
     "data": {
      "text/html": [
       "<div>\n",
       "<style scoped>\n",
       "    .dataframe tbody tr th:only-of-type {\n",
       "        vertical-align: middle;\n",
       "    }\n",
       "\n",
       "    .dataframe tbody tr th {\n",
       "        vertical-align: top;\n",
       "    }\n",
       "\n",
       "    .dataframe thead th {\n",
       "        text-align: right;\n",
       "    }\n",
       "</style>\n",
       "<table border=\"1\" class=\"dataframe\">\n",
       "  <thead>\n",
       "    <tr style=\"text-align: right;\">\n",
       "      <th></th>\n",
       "      <th>text</th>\n",
       "      <th>target</th>\n",
       "    </tr>\n",
       "  </thead>\n",
       "  <tbody>\n",
       "    <tr>\n",
       "      <th>6488</th>\n",
       "      <td>[putting, gun, head, give, iphone]</td>\n",
       "      <td>2</td>\n",
       "    </tr>\n",
       "    <tr>\n",
       "      <th>1944</th>\n",
       "      <td>[virtualwallet, nfc, iphone5, bc, standardizat...</td>\n",
       "      <td>0</td>\n",
       "    </tr>\n",
       "    <tr>\n",
       "      <th>6869</th>\n",
       "      <td>[want, win, ticket, 1, party, rule, simple, an...</td>\n",
       "      <td>1</td>\n",
       "    </tr>\n",
       "    <tr>\n",
       "      <th>3640</th>\n",
       "      <td>[still, big, line, outside, apple, pop, shop, ...</td>\n",
       "      <td>1</td>\n",
       "    </tr>\n",
       "    <tr>\n",
       "      <th>7209</th>\n",
       "      <td>[go, without, saying, google, bread, going, am...</td>\n",
       "      <td>2</td>\n",
       "    </tr>\n",
       "  </tbody>\n",
       "</table>\n",
       "</div>"
      ],
      "text/plain": [
       "                                                   text  target\n",
       "6488                 [putting, gun, head, give, iphone]       2\n",
       "1944  [virtualwallet, nfc, iphone5, bc, standardizat...       0\n",
       "6869  [want, win, ticket, 1, party, rule, simple, an...       1\n",
       "3640  [still, big, line, outside, apple, pop, shop, ...       1\n",
       "7209  [go, without, saying, google, bread, going, am...       2"
      ]
     },
     "execution_count": 15,
     "metadata": {},
     "output_type": "execute_result"
    }
   ],
   "source": [
    "df_all.head()"
   ]
  },
  {
   "cell_type": "markdown",
   "metadata": {},
   "source": [
    "## LDA"
   ]
  },
  {
   "cell_type": "markdown",
   "metadata": {},
   "source": [
    "##### Create Dictionary from the tweets"
   ]
  },
  {
   "cell_type": "code",
   "execution_count": 16,
   "metadata": {},
   "outputs": [
    {
     "name": "stdout",
     "output_type": "stream",
     "text": [
      "83837\n"
     ]
    }
   ],
   "source": [
    "dictionary = corpora.Dictionary(df_all['text'])\n",
    "#Total number of non-zeroes in the BOW matrix (sum of the number of unique words per document over the entire corpus).\n",
    "print(dictionary.num_nnz)"
   ]
  },
  {
   "cell_type": "markdown",
   "metadata": {},
   "source": [
    "##### Create tweet term matrix"
   ]
  },
  {
   "cell_type": "code",
   "execution_count": 17,
   "metadata": {},
   "outputs": [
    {
     "name": "stdout",
     "output_type": "stream",
     "text": [
      "8909\n"
     ]
    }
   ],
   "source": [
    "doc_term_matrix = [dictionary.doc2bow(doc) for doc in df_all['text']]\n",
    "print(len(doc_term_matrix))"
   ]
  },
  {
   "cell_type": "markdown",
   "metadata": {},
   "source": [
    "##### Instantiate LDA model"
   ]
  },
  {
   "cell_type": "code",
   "execution_count": 18,
   "metadata": {},
   "outputs": [],
   "source": [
    "lda = gensim.models.ldamodel.LdaModel"
   ]
  },
  {
   "cell_type": "markdown",
   "metadata": {},
   "source": [
    "##### Fit LDA model on the dataset"
   ]
  },
  {
   "cell_type": "code",
   "execution_count": 19,
   "metadata": {},
   "outputs": [],
   "source": [
    "num_topics=2\n",
    "ldamodel = lda(doc_term_matrix,num_topics=num_topics,id2word=dictionary,passes=50,minimum_probability=0)"
   ]
  },
  {
   "cell_type": "markdown",
   "metadata": {},
   "source": [
    "##### Print the topics identified by LDA model"
   ]
  },
  {
   "cell_type": "code",
   "execution_count": 20,
   "metadata": {},
   "outputs": [
    {
     "data": {
      "text/plain": [
       "[(0,\n",
       "  '0.056*\"google\" + 0.019*\"iphone\" + 0.017*\"new\" + 0.014*\"circle\" + 0.014*\"social\" + 0.013*\"android\" + 0.012*\"today\" + 0.012*\"amp\" + 0.011*\"app\" + 0.011*\"launch\"'),\n",
       " (1,\n",
       "  '0.050*\"ipad\" + 0.046*\"apple\" + 0.030*\"store\" + 0.024*\"2\" + 0.020*\"austin\" + 0.015*\"iphone\" + 0.012*\"pop\" + 0.010*\"ipad2\" + 0.009*\"line\" + 0.007*\"get\"')]"
      ]
     },
     "execution_count": 20,
     "metadata": {},
     "output_type": "execute_result"
    }
   ],
   "source": [
    "ldamodel.print_topics(num_topics=num_topics)"
   ]
  },
  {
   "cell_type": "markdown",
   "metadata": {},
   "source": [
    "With two clusters, LDA identifies Google and IPAD as their clusters."
   ]
  },
  {
   "cell_type": "markdown",
   "metadata": {},
   "source": [
    "##### Visualize the LDA model results"
   ]
  },
  {
   "cell_type": "code",
   "execution_count": 21,
   "metadata": {},
   "outputs": [
    {
     "data": {
      "text/html": [
       "\n",
       "<link rel=\"stylesheet\" type=\"text/css\" href=\"https://cdn.jsdelivr.net/gh/bmabey/pyLDAvis@3.3.1/pyLDAvis/js/ldavis.v1.0.0.css\">\n",
       "\n",
       "\n",
       "<div id=\"ldavis_el1450421481446755202105346595\"></div>\n",
       "<script type=\"text/javascript\">\n",
       "\n",
       "var ldavis_el1450421481446755202105346595_data = {\"mdsDat\": {\"x\": [-0.05353715829635712, 0.05353715829635712], \"y\": [0.16900334951366247, -0.16900334951366247], \"topics\": [1, 2], \"cluster\": [1, 1], \"Freq\": [48.0146752947206, 51.9853247052794]}, \"tinfo\": {\"Term\": [\"google\", \"ipad\", \"apple\", \"store\", \"2\", \"austin\", \"circle\", \"social\", \"android\", \"today\", \"pop\", \"network\", \"ipad2\", \"party\", \"line\", \"mobile\", \"called\", \"major\", \"one\", \"map\", \"possibly\", \"apps\", \"win\", \"temporary\", \"opening\", \"new\", \"open\", \"mayer\", \"downtown\", \"popup\", \"google\", \"circle\", \"social\", \"android\", \"network\", \"today\", \"called\", \"mobile\", \"party\", \"major\", \"map\", \"possibly\", \"mayer\", \"marissa\", \"apps\", \"search\", \"product\", \"user\", \"location\", \"bing\", \"launching\", \"music\", \"game\", \"facebook\", \"future\", \"update\", \"panel\", \"platform\", \"download\", \"blackberry\", \"using\", \"team\", \"twitter\", \"new\", \"launch\", \"amp\", \"iphone\", \"app\", \"w\", \"check\", \"great\", \"via\", \"free\", \"time\", \"apple\", \"ipad\", \"store\", \"2\", \"pop\", \"austin\", \"ipad2\", \"line\", \"temporary\", \"opening\", \"downtown\", \"win\", \"popup\", \"open\", \"one\", \"shop\", \"set\", \"case\", \"11\", \"congress\", \"heard\", \"ipads\", \"design\", \"6th\", \"code\", \"sell\", \"designing\", \"buy\", \"uberguide\", \"ubersocial\", \"technology\", \"everyone\", \"still\", \"even\", \"1\", \"anyone\", \"get\", \"got\", \"4\", \"video\", \"iphone\", \"come\", \"day\", \"guy\", \"app\", \"go\", \"need\", \"people\", \"new\", \"amp\", \"via\", \"free\", \"launch\", \"know\"], \"Freq\": [2339.0, 2253.0, 2060.0, 1340.0, 1062.0, 876.0, 573.0, 559.0, 549.0, 511.0, 532.0, 397.0, 429.0, 360.0, 384.0, 314.0, 308.0, 265.0, 279.0, 246.0, 214.0, 211.0, 234.0, 232.0, 227.0, 968.0, 225.0, 182.0, 203.0, 189.0, 2339.3926941731584, 573.4883872077795, 559.1439266862886, 548.7108906129009, 397.3035678599446, 511.2572150831526, 308.0401873259511, 314.493599973266, 360.02593323176865, 265.0748312051528, 246.2977456210565, 213.64929256705543, 181.80285718018533, 155.49491343295622, 211.28662313943448, 144.12989214621095, 149.22001937131583, 136.82431042048466, 144.5387485862321, 104.1742377130628, 99.35858389802186, 130.30631409301455, 134.02446954036077, 78.83955623943675, 87.87380466607765, 84.49256605264445, 140.65242876615156, 66.89445318778661, 97.28239066920843, 93.14518846240175, 106.18715840972837, 85.5387850361407, 88.93915098521023, 709.1333971220239, 441.0010458901301, 503.4851153274651, 775.3911819035158, 455.8469433980715, 190.83385183879332, 191.21319780785535, 154.7456791139145, 216.10096580646808, 203.08118896732438, 172.48092263506842, 2059.654356418658, 2253.0643318293687, 1339.8981156577943, 1062.1070716644736, 531.7475829768371, 876.0319591650791, 429.0409642329549, 384.2037149958903, 231.81372952694227, 226.72549091811214, 202.5809548024768, 234.19717585270075, 188.61310466559914, 224.98661535685707, 278.5851712080412, 128.24301728652736, 151.41677254677543, 108.41819711360453, 101.5145093729727, 89.80399298288069, 92.21888916797081, 78.96329536241905, 122.82575031199772, 86.22002421398521, 83.06768467116117, 71.16577610692201, 84.06295320327997, 91.90516299071479, 63.694419971061905, 63.694419971061905, 86.29951000184137, 83.32796800746861, 91.74960465894587, 97.04380696652552, 118.09166446694589, 105.66048389232795, 319.94828088958155, 128.9958724322809, 129.2175662797237, 111.0039433808522, 656.8237466052399, 169.69310727932253, 185.31459582136424, 119.61802123099132, 289.8377283786452, 147.28767636214945, 147.06499089949375, 136.94173732362978, 259.312033549309, 229.28419218518448, 169.82538874872517, 151.58686065092726, 156.3066359227485, 131.54551346772365], \"Total\": [2339.0, 2253.0, 2060.0, 1340.0, 1062.0, 876.0, 573.0, 559.0, 549.0, 511.0, 532.0, 397.0, 429.0, 360.0, 384.0, 314.0, 308.0, 265.0, 279.0, 246.0, 214.0, 211.0, 234.0, 232.0, 227.0, 968.0, 225.0, 182.0, 203.0, 189.0, 2339.8921117564287, 573.9608410119888, 559.6472457372095, 549.2472001555884, 397.7665123922966, 511.86317715440134, 308.5078065574873, 314.9943455951505, 360.62901811027484, 265.5503973845286, 246.81619071824483, 214.10782857062244, 182.2700044159278, 155.960870281933, 211.94937768867834, 144.6030670324532, 149.83562702074005, 137.42419077537124, 145.18710012837664, 104.65014406701592, 99.83321118251655, 130.94235937233236, 134.78044876331882, 79.34708145950844, 88.44905581888716, 85.04662094099412, 141.6067581053971, 67.36892182200197, 97.9860490605694, 93.85108687664788, 107.20162864080598, 86.20968400001999, 89.71046028578962, 968.4454306713328, 597.3076818128786, 732.7693075126496, 1432.2149285087557, 745.6846717767166, 259.51814218956434, 261.52442601942585, 208.89767107250782, 385.92635455519326, 354.66804961825164, 274.75719081460113, 2060.159934163865, 2253.6719446143607, 1340.3766272122984, 1062.6661764546573, 532.2100144021907, 876.9085879174469, 429.514741441993, 384.69350010344135, 232.2731199596031, 227.1870876615829, 203.05523627024135, 234.77052216714011, 189.07757259574345, 225.54155758351973, 279.2760128937974, 128.7024521948832, 152.09422979747333, 108.93112502288305, 101.99721922972302, 90.26352734958576, 92.74938531570325, 79.43260990055828, 123.56027880463004, 86.7532675361443, 83.59492923510314, 71.63285209784583, 84.62291854732146, 92.53683464117728, 64.15774550475624, 64.15774550475624, 86.9296042150169, 83.9341613361562, 92.58511331524822, 98.14960086101132, 120.4361718434469, 107.52235925395972, 436.4230825557965, 145.32302253011395, 146.39324726126762, 120.49584211446532, 1432.2149285087557, 220.4271985186424, 272.94831579018785, 143.91637276574258, 745.6846717767166, 213.3971519865033, 218.09517607297587, 194.20537938223436, 968.4454306713328, 732.7693075126496, 385.92635455519326, 354.66804961825164, 597.3076818128786, 184.240199993343], \"Category\": [\"Default\", \"Default\", \"Default\", \"Default\", \"Default\", \"Default\", \"Default\", \"Default\", \"Default\", \"Default\", \"Default\", \"Default\", \"Default\", \"Default\", \"Default\", \"Default\", \"Default\", \"Default\", \"Default\", \"Default\", \"Default\", \"Default\", \"Default\", \"Default\", \"Default\", \"Default\", \"Default\", \"Default\", \"Default\", \"Default\", \"Topic1\", \"Topic1\", \"Topic1\", \"Topic1\", \"Topic1\", \"Topic1\", \"Topic1\", \"Topic1\", \"Topic1\", \"Topic1\", \"Topic1\", \"Topic1\", \"Topic1\", \"Topic1\", \"Topic1\", \"Topic1\", \"Topic1\", \"Topic1\", \"Topic1\", \"Topic1\", \"Topic1\", \"Topic1\", \"Topic1\", \"Topic1\", \"Topic1\", \"Topic1\", \"Topic1\", \"Topic1\", \"Topic1\", \"Topic1\", \"Topic1\", \"Topic1\", \"Topic1\", \"Topic1\", \"Topic1\", \"Topic1\", \"Topic1\", \"Topic1\", \"Topic1\", \"Topic1\", \"Topic1\", \"Topic1\", \"Topic1\", \"Topic1\", \"Topic2\", \"Topic2\", \"Topic2\", \"Topic2\", \"Topic2\", \"Topic2\", \"Topic2\", \"Topic2\", \"Topic2\", \"Topic2\", \"Topic2\", \"Topic2\", \"Topic2\", \"Topic2\", \"Topic2\", \"Topic2\", \"Topic2\", \"Topic2\", \"Topic2\", \"Topic2\", \"Topic2\", \"Topic2\", \"Topic2\", \"Topic2\", \"Topic2\", \"Topic2\", \"Topic2\", \"Topic2\", \"Topic2\", \"Topic2\", \"Topic2\", \"Topic2\", \"Topic2\", \"Topic2\", \"Topic2\", \"Topic2\", \"Topic2\", \"Topic2\", \"Topic2\", \"Topic2\", \"Topic2\", \"Topic2\", \"Topic2\", \"Topic2\", \"Topic2\", \"Topic2\", \"Topic2\", \"Topic2\", \"Topic2\", \"Topic2\", \"Topic2\", \"Topic2\", \"Topic2\", \"Topic2\"], \"logprob\": [30.0, 29.0, 28.0, 27.0, 26.0, 25.0, 24.0, 23.0, 22.0, 21.0, 20.0, 19.0, 18.0, 17.0, 16.0, 15.0, 14.0, 13.0, 12.0, 11.0, 10.0, 9.0, 8.0, 7.0, 6.0, 5.0, 4.0, 3.0, 2.0, 1.0, -2.8736, -4.2795, -4.3048, -4.3236, -4.6465, -4.3943, -4.901, -4.8802, -4.745, -5.0512, -5.1247, -5.2669, -5.4283, -5.5846, -5.278, -5.6605, -5.6258, -5.7125, -5.6577, -5.9851, -6.0325, -5.7613, -5.7332, -6.2638, -6.1553, -6.1945, -5.6849, -6.4281, -6.0536, -6.097, -5.966, -6.1822, -6.1433, -4.0672, -4.5422, -4.4096, -3.9778, -4.509, -5.3798, -5.3778, -5.5894, -5.2555, -5.3176, -5.4809, -3.0804, -2.9906, -3.5103, -3.7426, -4.4345, -3.9353, -4.6491, -4.7595, -5.2647, -5.2869, -5.3995, -5.2545, -5.471, -5.2946, -5.0809, -5.8567, -5.6906, -6.0247, -6.0905, -6.213, -6.1865, -6.3417, -5.8999, -6.2538, -6.291, -6.4456, -6.2791, -6.1899, -6.5566, -6.5566, -6.2528, -6.2879, -6.1916, -6.1355, -5.9392, -6.0504, -4.9425, -5.8509, -5.8492, -6.0011, -4.2232, -5.5767, -5.4886, -5.9264, -5.0413, -5.7183, -5.7198, -5.7911, -5.1526, -5.2757, -5.5759, -5.6895, -5.6588, -5.8313], \"loglift\": [30.0, 29.0, 28.0, 27.0, 26.0, 25.0, 24.0, 23.0, 22.0, 21.0, 20.0, 19.0, 18.0, 17.0, 16.0, 15.0, 14.0, 13.0, 12.0, 11.0, 10.0, 9.0, 8.0, 7.0, 6.0, 5.0, 4.0, 3.0, 2.0, 1.0, 0.7334, 0.7328, 0.7328, 0.7327, 0.7325, 0.7325, 0.7321, 0.7321, 0.732, 0.7319, 0.7316, 0.7315, 0.7311, 0.7307, 0.7305, 0.7304, 0.7295, 0.7293, 0.7292, 0.7291, 0.7289, 0.7288, 0.728, 0.7272, 0.7271, 0.7271, 0.7269, 0.7266, 0.7265, 0.7261, 0.7242, 0.7259, 0.725, 0.422, 0.4303, 0.3584, 0.1201, 0.2415, 0.4262, 0.4205, 0.4336, 0.1538, 0.1761, 0.2681, 0.654, 0.6539, 0.6539, 0.6537, 0.6533, 0.6532, 0.6531, 0.6529, 0.6522, 0.6522, 0.6519, 0.6518, 0.6517, 0.6517, 0.6517, 0.6506, 0.6497, 0.6495, 0.6495, 0.6491, 0.6485, 0.6483, 0.6482, 0.648, 0.6479, 0.6477, 0.6476, 0.6474, 0.647, 0.647, 0.6469, 0.647, 0.6451, 0.6429, 0.6345, 0.6367, 0.3438, 0.535, 0.5294, 0.5722, -0.1254, 0.3926, 0.267, 0.4693, -0.2908, 0.2834, 0.2602, 0.3048, -0.6635, -0.5077, -0.1667, -0.1958, -0.6864, 0.3173]}, \"token.table\": {\"Topic\": [1, 2, 2, 1, 2, 1, 2, 1, 2, 1, 2, 1, 2, 1, 2, 1, 2, 1, 2, 1, 2, 1, 2, 1, 1, 2, 1, 2, 1, 1, 2, 1, 2, 1, 1, 2, 1, 2, 2, 1, 2, 1, 2, 1, 2, 1, 2, 2, 1, 2, 1, 2, 1, 2, 1, 2, 1, 2, 1, 2, 1, 2, 1, 2, 1, 1, 2, 1, 2, 1, 2, 1, 2, 1, 2, 2, 2, 1, 2, 1, 2, 1, 2, 1, 2, 1, 2, 1, 1, 2, 1, 1, 1, 2, 1, 2, 1, 2, 1, 1, 2, 1, 2, 1, 2, 2, 1, 2, 1, 2, 1, 2, 1, 2, 2, 1, 1, 2, 1, 2, 1, 2, 2, 1, 2, 1, 2, 2, 1, 2, 1, 2, 2, 1, 2, 1, 2, 1, 2, 2, 2, 1, 2, 1, 2, 1, 2, 1, 2, 1, 2, 1, 2, 1, 2], \"Freq\": [0.016606306638505323, 0.979772091671814, 1.0000272631969576, 0.0009410292923185637, 0.9993731084423146, 0.11612557490210015, 0.8811881860218188, 0.011526943346351383, 0.9913171277862188, 0.6864370475715058, 0.31251308925223625, 0.9995499291475343, 0.0018206738235838512, 0.01860078232915398, 0.985841463445161, 0.6115185376058554, 0.38890433312653083, 0.00048539920780755276, 0.9999223680835586, 0.9955207337760018, 0.0047181077430142266, 0.0011403697190090025, 0.9989638738518861, 0.9937874517726457, 0.9909315181638066, 0.010655177614664588, 0.01080650752619344, 0.9941986924097964, 0.9983539912226089, 0.009180112661004198, 0.9914521673884534, 0.7303333111447596, 0.2676614229326344, 0.9983259467487456, 0.011962448071312925, 0.9928831899189728, 0.23136890702572135, 0.7712296900857379, 0.9970804669690657, 0.3224053599497004, 0.677783995348802, 0.008093215794544873, 0.9954655427290194, 0.011817129651948794, 0.9926388907636987, 0.9899368423359954, 0.010205534457072117, 0.9997279741647842, 0.010188528442577062, 0.988287258929975, 0.01191410010037512, 0.988870308331135, 0.9956257816529073, 0.01260285799560642, 0.5723661892253894, 0.4285697574495526, 0.9949230004240331, 0.01130594318663674, 0.9942094808966743, 0.0074194737380348826, 0.2657971235633932, 0.7332334443128089, 0.30928247816622356, 0.6888564286429525, 0.9996187380811506, 0.11009955423053816, 0.887677655983714, 0.7419900815753945, 0.2584997703552987, 0.16676351369045125, 0.8338175684522563, 0.010781742613130738, 0.9919203204080278, 0.0004437203038311399, 0.9997018445315582, 0.998801574445932, 0.9945537493845429, 0.5411199007728135, 0.4587300320099851, 0.2876679465280379, 0.7164560177679434, 0.7383129556638686, 0.26117192989470184, 0.9916539679266325, 0.9981972658668398, 0.9987113171334698, 0.006887664256092895, 0.9979273336061645, 0.9966931232676849, 0.0040515980620637595, 0.9938390297502442, 0.9985186568860137, 0.996843290652498, 0.003174660161313688, 0.9928032504007906, 0.007636948080006082, 0.325545944107645, 0.674017658927096, 0.9980729589635725, 0.7321011360531863, 0.2674389199404446, 0.0035806870401729717, 0.9990116842082591, 0.004433772696766504, 0.9975988567724634, 0.9991765039839695, 0.9957151896313771, 0.007061809855541681, 0.9982557751076967, 0.002772932708632491, 0.29350371334365977, 0.7054387496154629, 0.9945238574104436, 0.9996053918631602, 0.999589731374914, 0.9994963819336159, 0.9944230418535615, 0.006673980146668197, 0.9958295004052864, 0.9911653371419389, 0.006574871389477344, 0.992805579811079, 0.9945420449812445, 0.9988434755247355, 0.0017868398488814588, 0.010800872453382912, 0.9936802657112279, 0.9997190138915794, 0.9975677442452991, 0.011599624933084874, 0.011503560944859936, 0.9893062412579545, 0.998824143062053, 0.6260072738771778, 0.37123687171786124, 0.9983136564751541, 0.001953647077250791, 0.9920805189993863, 0.01114697212358861, 0.9975412866596981, 0.9975412866596981, 0.987693562314248, 0.011758256694217237, 0.9969132743443648, 0.007276739228790984, 0.9887909478984485, 0.009328216489608004, 0.5596922766494009, 0.4404985510666581, 0.07469137392683167, 0.9211936117642572, 0.7359793746538327, 0.26587736571264114, 0.004259478535759572, 0.9967179773677397], \"Term\": [\"1\", \"1\", \"11\", \"2\", \"2\", \"4\", \"4\", \"6th\", \"6th\", \"amp\", \"amp\", \"android\", \"android\", \"anyone\", \"anyone\", \"app\", \"app\", \"apple\", \"apple\", \"apps\", \"apps\", \"austin\", \"austin\", \"bing\", \"blackberry\", \"blackberry\", \"buy\", \"buy\", \"called\", \"case\", \"case\", \"check\", \"check\", \"circle\", \"code\", \"code\", \"come\", \"come\", \"congress\", \"day\", \"day\", \"design\", \"design\", \"designing\", \"designing\", \"download\", \"download\", \"downtown\", \"even\", \"even\", \"everyone\", \"everyone\", \"facebook\", \"facebook\", \"free\", \"free\", \"future\", \"future\", \"game\", \"game\", \"get\", \"get\", \"go\", \"go\", \"google\", \"got\", \"got\", \"great\", \"great\", \"guy\", \"guy\", \"heard\", \"heard\", \"ipad\", \"ipad\", \"ipad2\", \"ipads\", \"iphone\", \"iphone\", \"know\", \"know\", \"launch\", \"launch\", \"launching\", \"line\", \"location\", \"location\", \"major\", \"map\", \"map\", \"marissa\", \"mayer\", \"mobile\", \"mobile\", \"music\", \"music\", \"need\", \"need\", \"network\", \"new\", \"new\", \"one\", \"one\", \"open\", \"open\", \"opening\", \"panel\", \"panel\", \"party\", \"party\", \"people\", \"people\", \"platform\", \"pop\", \"popup\", \"possibly\", \"product\", \"product\", \"search\", \"sell\", \"set\", \"set\", \"shop\", \"social\", \"social\", \"still\", \"still\", \"store\", \"team\", \"team\", \"technology\", \"technology\", \"temporary\", \"time\", \"time\", \"today\", \"today\", \"twitter\", \"twitter\", \"uberguide\", \"ubersocial\", \"update\", \"update\", \"user\", \"user\", \"using\", \"using\", \"via\", \"via\", \"video\", \"video\", \"w\", \"w\", \"win\", \"win\"]}, \"R\": 30, \"lambda.step\": 0.01, \"plot.opts\": {\"xlab\": \"PC1\", \"ylab\": \"PC2\"}, \"topic.order\": [1, 2]};\n",
       "\n",
       "function LDAvis_load_lib(url, callback){\n",
       "  var s = document.createElement('script');\n",
       "  s.src = url;\n",
       "  s.async = true;\n",
       "  s.onreadystatechange = s.onload = callback;\n",
       "  s.onerror = function(){console.warn(\"failed to load library \" + url);};\n",
       "  document.getElementsByTagName(\"head\")[0].appendChild(s);\n",
       "}\n",
       "\n",
       "if(typeof(LDAvis) !== \"undefined\"){\n",
       "   // already loaded: just create the visualization\n",
       "   !function(LDAvis){\n",
       "       new LDAvis(\"#\" + \"ldavis_el1450421481446755202105346595\", ldavis_el1450421481446755202105346595_data);\n",
       "   }(LDAvis);\n",
       "}else if(typeof define === \"function\" && define.amd){\n",
       "   // require.js is available: use it to load d3/LDAvis\n",
       "   require.config({paths: {d3: \"https://d3js.org/d3.v5\"}});\n",
       "   require([\"d3\"], function(d3){\n",
       "      window.d3 = d3;\n",
       "      LDAvis_load_lib(\"https://cdn.jsdelivr.net/gh/bmabey/pyLDAvis@3.3.1/pyLDAvis/js/ldavis.v3.0.0.js\", function(){\n",
       "        new LDAvis(\"#\" + \"ldavis_el1450421481446755202105346595\", ldavis_el1450421481446755202105346595_data);\n",
       "      });\n",
       "    });\n",
       "}else{\n",
       "    // require.js not available: dynamically load d3 & LDAvis\n",
       "    LDAvis_load_lib(\"https://d3js.org/d3.v5.js\", function(){\n",
       "         LDAvis_load_lib(\"https://cdn.jsdelivr.net/gh/bmabey/pyLDAvis@3.3.1/pyLDAvis/js/ldavis.v3.0.0.js\", function(){\n",
       "                 new LDAvis(\"#\" + \"ldavis_el1450421481446755202105346595\", ldavis_el1450421481446755202105346595_data);\n",
       "            })\n",
       "         });\n",
       "}\n",
       "</script>"
      ],
      "text/plain": [
       "<IPython.core.display.HTML object>"
      ]
     },
     "execution_count": 21,
     "metadata": {},
     "output_type": "execute_result"
    }
   ],
   "source": [
    "lda_display = pyLDAvis.gensim_models.prepare(ldamodel, doc_term_matrix, dictionary, sort_topics=False, mds='mmds')\n",
    "pyLDAvis.display(lda_display)"
   ]
  },
  {
   "cell_type": "markdown",
   "metadata": {},
   "source": [
    "##### Find which articles were marked in which cluster"
   ]
  },
  {
   "cell_type": "code",
   "execution_count": 22,
   "metadata": {},
   "outputs": [],
   "source": [
    "lda_corpus = ldamodel[doc_term_matrix]"
   ]
  },
  {
   "cell_type": "code",
   "execution_count": 23,
   "metadata": {},
   "outputs": [],
   "source": [
    "doc = [doc for doc in lda_corpus]"
   ]
  },
  {
   "cell_type": "code",
   "execution_count": 24,
   "metadata": {},
   "outputs": [
    {
     "name": "stdout",
     "output_type": "stream",
     "text": [
      "0.5000000000542548\n"
     ]
    }
   ],
   "source": [
    "scores = list(chain(*[[score for topic_id,score in topic] \\\n",
    "                      for topic in [doc for doc in lda_corpus]]))\n",
    "\n",
    "threshold = sum(scores)/len(scores)\n",
    "print(threshold)"
   ]
  },
  {
   "cell_type": "code",
   "execution_count": 25,
   "metadata": {},
   "outputs": [
    {
     "name": "stdout",
     "output_type": "stream",
     "text": [
      "4292\n",
      "4616\n"
     ]
    }
   ],
   "source": [
    "cluster1 = [j for i,j in zip(lda_corpus,df_all.index) if i[0][1] > threshold]\n",
    "cluster2 = [j for i,j in zip(lda_corpus,df_all.index) if i[1][1] > threshold]\n",
    "\n",
    "print(len(cluster1))\n",
    "print(len(cluster2))"
   ]
  },
  {
   "cell_type": "code",
   "execution_count": 26,
   "metadata": {},
   "outputs": [
    {
     "data": {
      "text/html": [
       "<div>\n",
       "<style scoped>\n",
       "    .dataframe tbody tr th:only-of-type {\n",
       "        vertical-align: middle;\n",
       "    }\n",
       "\n",
       "    .dataframe tbody tr th {\n",
       "        vertical-align: top;\n",
       "    }\n",
       "\n",
       "    .dataframe thead th {\n",
       "        text-align: right;\n",
       "    }\n",
       "</style>\n",
       "<table border=\"1\" class=\"dataframe\">\n",
       "  <thead>\n",
       "    <tr style=\"text-align: right;\">\n",
       "      <th></th>\n",
       "      <th>text</th>\n",
       "      <th>target</th>\n",
       "    </tr>\n",
       "  </thead>\n",
       "  <tbody>\n",
       "    <tr>\n",
       "      <th>2322</th>\n",
       "      <td>[wait, ipad, 2, also, sale]</td>\n",
       "      <td>2</td>\n",
       "    </tr>\n",
       "    <tr>\n",
       "      <th>4792</th>\n",
       "      <td>[omitting, flash, apple, seems, effective, eve...</td>\n",
       "      <td>2</td>\n",
       "    </tr>\n",
       "    <tr>\n",
       "      <th>88</th>\n",
       "      <td>[thanks, trying, contact, friend, family, japa...</td>\n",
       "      <td>1</td>\n",
       "    </tr>\n",
       "    <tr>\n",
       "      <th>4795</th>\n",
       "      <td>[todo, q, amp, google, amp, bing, ranking, mon...</td>\n",
       "      <td>1</td>\n",
       "    </tr>\n",
       "    <tr>\n",
       "      <th>2686</th>\n",
       "      <td>[far, longest, line, apple, store]</td>\n",
       "      <td>1</td>\n",
       "    </tr>\n",
       "    <tr>\n",
       "      <th>7948</th>\n",
       "      <td>[news, social, important, google, screw, big, ...</td>\n",
       "      <td>1</td>\n",
       "    </tr>\n",
       "    <tr>\n",
       "      <th>6520</th>\n",
       "      <td>[download, free, music, mix, itunes, cc]</td>\n",
       "      <td>1</td>\n",
       "    </tr>\n",
       "    <tr>\n",
       "      <th>2853</th>\n",
       "      <td>[guess, need, figure, session, ipad, app, kill...</td>\n",
       "      <td>2</td>\n",
       "    </tr>\n",
       "    <tr>\n",
       "      <th>8480</th>\n",
       "      <td>[ringo, deathstarr, flooding, ear, canal, red,...</td>\n",
       "      <td>1</td>\n",
       "    </tr>\n",
       "    <tr>\n",
       "      <th>1113</th>\n",
       "      <td>[stupid, apple, opening, temporary, store, aus...</td>\n",
       "      <td>2</td>\n",
       "    </tr>\n",
       "  </tbody>\n",
       "</table>\n",
       "</div>"
      ],
      "text/plain": [
       "                                                   text  target\n",
       "2322                        [wait, ipad, 2, also, sale]       2\n",
       "4792  [omitting, flash, apple, seems, effective, eve...       2\n",
       "88    [thanks, trying, contact, friend, family, japa...       1\n",
       "4795  [todo, q, amp, google, amp, bing, ranking, mon...       1\n",
       "2686                 [far, longest, line, apple, store]       1\n",
       "7948  [news, social, important, google, screw, big, ...       1\n",
       "6520           [download, free, music, mix, itunes, cc]       1\n",
       "2853  [guess, need, figure, session, ipad, app, kill...       2\n",
       "8480  [ringo, deathstarr, flooding, ear, canal, red,...       1\n",
       "1113  [stupid, apple, opening, temporary, store, aus...       2"
      ]
     },
     "execution_count": 26,
     "metadata": {},
     "output_type": "execute_result"
    }
   ],
   "source": [
    "df_all.iloc[cluster1[:10]]"
   ]
  },
  {
   "cell_type": "code",
   "execution_count": 27,
   "metadata": {},
   "outputs": [
    {
     "data": {
      "text/html": [
       "<div>\n",
       "<style scoped>\n",
       "    .dataframe tbody tr th:only-of-type {\n",
       "        vertical-align: middle;\n",
       "    }\n",
       "\n",
       "    .dataframe tbody tr th {\n",
       "        vertical-align: top;\n",
       "    }\n",
       "\n",
       "    .dataframe thead th {\n",
       "        text-align: right;\n",
       "    }\n",
       "</style>\n",
       "<table border=\"1\" class=\"dataframe\">\n",
       "  <thead>\n",
       "    <tr style=\"text-align: right;\">\n",
       "      <th></th>\n",
       "      <th>text</th>\n",
       "      <th>target</th>\n",
       "    </tr>\n",
       "  </thead>\n",
       "  <tbody>\n",
       "    <tr>\n",
       "      <th>8662</th>\n",
       "      <td>[google, rumored, unveil, new, social, network...</td>\n",
       "      <td>1</td>\n",
       "    </tr>\n",
       "    <tr>\n",
       "      <th>2763</th>\n",
       "      <td>[new, iphone, new, ipad, 2, come, running, fas...</td>\n",
       "      <td>2</td>\n",
       "    </tr>\n",
       "    <tr>\n",
       "      <th>2165</th>\n",
       "      <td>[congratulation, yes, gowalla, win, best, ando...</td>\n",
       "      <td>2</td>\n",
       "    </tr>\n",
       "    <tr>\n",
       "      <th>4914</th>\n",
       "      <td>[1, lot, fun, hollergram, app, killing]</td>\n",
       "      <td>1</td>\n",
       "    </tr>\n",
       "    <tr>\n",
       "      <th>3716</th>\n",
       "      <td>[good, morning, standing, line, ipad, 2, today...</td>\n",
       "      <td>1</td>\n",
       "    </tr>\n",
       "    <tr>\n",
       "      <th>5170</th>\n",
       "      <td>[apple, elegant, fascist, corporation, america...</td>\n",
       "      <td>0</td>\n",
       "    </tr>\n",
       "    <tr>\n",
       "      <th>669</th>\n",
       "      <td>[need, sweet, mac, goodness, apple, set, tempo...</td>\n",
       "      <td>2</td>\n",
       "    </tr>\n",
       "    <tr>\n",
       "      <th>38</th>\n",
       "      <td>[false, alarm, google, circle, coming, nowand,...</td>\n",
       "      <td>0</td>\n",
       "    </tr>\n",
       "    <tr>\n",
       "      <th>4224</th>\n",
       "      <td>[expect, lot, buzz, ipad, 2, since, come, tomo...</td>\n",
       "      <td>2</td>\n",
       "    </tr>\n",
       "    <tr>\n",
       "      <th>4175</th>\n",
       "      <td>[staying, alive, indie, iphone, game, developm...</td>\n",
       "      <td>1</td>\n",
       "    </tr>\n",
       "  </tbody>\n",
       "</table>\n",
       "</div>"
      ],
      "text/plain": [
       "                                                   text  target\n",
       "8662  [google, rumored, unveil, new, social, network...       1\n",
       "2763  [new, iphone, new, ipad, 2, come, running, fas...       2\n",
       "2165  [congratulation, yes, gowalla, win, best, ando...       2\n",
       "4914            [1, lot, fun, hollergram, app, killing]       1\n",
       "3716  [good, morning, standing, line, ipad, 2, today...       1\n",
       "5170  [apple, elegant, fascist, corporation, america...       0\n",
       "669   [need, sweet, mac, goodness, apple, set, tempo...       2\n",
       "38    [false, alarm, google, circle, coming, nowand,...       0\n",
       "4224  [expect, lot, buzz, ipad, 2, since, come, tomo...       2\n",
       "4175  [staying, alive, indie, iphone, game, developm...       1"
      ]
     },
     "execution_count": 27,
     "metadata": {},
     "output_type": "execute_result"
    }
   ],
   "source": [
    "df_all.iloc[cluster2[:10]]"
   ]
  },
  {
   "cell_type": "markdown",
   "metadata": {},
   "source": [
    "#### Adding more stopwords:"
   ]
  },
  {
   "cell_type": "code",
   "execution_count": 28,
   "metadata": {},
   "outputs": [],
   "source": [
    "new_stopwords = ['store', 'amp', 'austin', 'launch', 'new', 'via', 'u', 'w', '3', '4', 'today', 'pop', 'circle', '2']"
   ]
  },
  {
   "cell_type": "code",
   "execution_count": 29,
   "metadata": {},
   "outputs": [],
   "source": [
    "def remove_stopwords_row(text):\n",
    "    text=[word for word in text if word not in new_stopwords]\n",
    "    return text"
   ]
  },
  {
   "cell_type": "code",
   "execution_count": 31,
   "metadata": {},
   "outputs": [],
   "source": [
    "df_all['text'] = df_all['text'].apply(lambda x: remove_stopwords_row(x))"
   ]
  },
  {
   "cell_type": "markdown",
   "metadata": {},
   "source": [
    "### Two Clusters, all data model"
   ]
  },
  {
   "cell_type": "code",
   "execution_count": 32,
   "metadata": {},
   "outputs": [
    {
     "name": "stdout",
     "output_type": "stream",
     "text": [
      "8909\n",
      "Wall time: 1min 28s\n"
     ]
    }
   ],
   "source": [
    "doc_term_matrix = [dictionary.doc2bow(doc) for doc in df_all['text']]\n",
    "print(len(doc_term_matrix))\n",
    "\n",
    "lda = gensim.models.ldamodel.LdaModel\n",
    "\n",
    "num_topics=2\n",
    "ldamodel = lda(doc_term_matrix,num_topics=num_topics,id2word=dictionary,passes=50,minimum_probability=0)"
   ]
  },
  {
   "cell_type": "code",
   "execution_count": 33,
   "metadata": {},
   "outputs": [
    {
     "data": {
      "text/plain": [
       "[(0,\n",
       "  '0.036*\"iphone\" + 0.033*\"ipad\" + 0.021*\"google\" + 0.019*\"app\" + 0.014*\"social\" + 0.014*\"android\" + 0.010*\"network\" + 0.009*\"free\" + 0.008*\"called\" + 0.007*\"major\"'),\n",
       " (1,\n",
       "  '0.055*\"apple\" + 0.040*\"google\" + 0.024*\"ipad\" + 0.011*\"ipad2\" + 0.010*\"line\" + 0.010*\"party\" + 0.007*\"map\" + 0.006*\"win\" + 0.006*\"temporary\" + 0.006*\"opening\"')]"
      ]
     },
     "execution_count": 33,
     "metadata": {},
     "output_type": "execute_result"
    }
   ],
   "source": [
    "ldamodel.print_topics(num_topics=num_topics)"
   ]
  },
  {
   "cell_type": "code",
   "execution_count": 34,
   "metadata": {},
   "outputs": [
    {
     "data": {
      "text/html": [
       "\n",
       "<link rel=\"stylesheet\" type=\"text/css\" href=\"https://cdn.jsdelivr.net/gh/bmabey/pyLDAvis@3.3.1/pyLDAvis/js/ldavis.v1.0.0.css\">\n",
       "\n",
       "\n",
       "<div id=\"ldavis_el1450421481446757446214309706\"></div>\n",
       "<script type=\"text/javascript\">\n",
       "\n",
       "var ldavis_el1450421481446757446214309706_data = {\"mdsDat\": {\"x\": [-0.048375881467653925, 0.048375881467653925], \"y\": [0.15271049610912457, -0.15271049610912457], \"topics\": [1, 2], \"cluster\": [1, 1], \"Freq\": [51.85134112454604, 48.14865887545396]}, \"tinfo\": {\"Term\": [\"apple\", \"iphone\", \"app\", \"social\", \"android\", \"ipad2\", \"line\", \"network\", \"party\", \"free\", \"called\", \"map\", \"major\", \"win\", \"temporary\", \"opening\", \"open\", \"google\", \"downtown\", \"possibly\", \"popup\", \"need\", \"mayer\", \"marissa\", \"set\", \"check\", \"search\", \"location\", \"shop\", \"game\", \"iphone\", \"app\", \"social\", \"android\", \"network\", \"called\", \"free\", \"major\", \"possibly\", \"design\", \"game\", \"download\", \"music\", \"launching\", \"blackberry\", \"11\", \"japan\", \"case\", \"update\", \"code\", \"phone\", \"itunes\", \"video\", \"designing\", \"uberguide\", \"ubersocial\", \"includes\", \"back\", \"find\", \"facebook\", \"need\", \"thing\", \"twitter\", \"take\", \"check\", \"ipad\", \"apps\", \"google\", \"make\", \"get\", \"time\", \"got\", \"see\", \"going\", \"know\", \"like\", \"next\", \"mobile\", \"apple\", \"ipad2\", \"line\", \"temporary\", \"opening\", \"party\", \"open\", \"map\", \"downtown\", \"popup\", \"mayer\", \"marissa\", \"win\", \"shop\", \"set\", \"search\", \"bing\", \"rumor\", \"congress\", \"6th\", \"location\", \"future\", \"ipads\", \"conference\", \"geek\", \"sell\", \"temp\", \"world\", \"even\", \"block\", \"technology\", \"tv\", \"digital\", \"tonight\", \"around\", \"google\", \"ipad\", \"come\", \"mobile\", \"day\", \"one\", \"think\", \"get\", \"like\", \"go\", \"great\"], \"Freq\": [2021.0, 1418.0, 738.0, 555.0, 545.0, 421.0, 377.0, 395.0, 356.0, 351.0, 306.0, 243.0, 263.0, 230.0, 227.0, 222.0, 221.0, 2316.0, 199.0, 212.0, 185.0, 215.0, 180.0, 154.0, 149.0, 259.0, 142.0, 143.0, 126.0, 133.0, 1417.8513085472778, 738.3348748408683, 555.3577875288933, 544.9986064044157, 394.6754515217832, 306.01628413389585, 350.72450975112264, 263.3278534069885, 212.2440816148683, 121.4248331120881, 133.31748107303366, 96.87555138808636, 129.42764565361003, 98.67004175628254, 92.74899398764816, 100.07552166332434, 96.16434580650943, 106.8499548654375, 83.99032710254315, 81.9800096313523, 120.05660382499029, 76.4522747565521, 118.15025948960621, 82.9301928382614, 62.85151925053488, 62.85151925053488, 62.526887477300136, 76.66079190111022, 75.38684947473531, 78.2041909985651, 213.7887988254635, 108.11117564351107, 88.37500261630865, 97.38576328074053, 241.0342716954732, 1321.5339966390845, 179.52580298631023, 822.9973932325328, 127.93905035883377, 241.14521597894455, 169.97527499092323, 116.88515863200695, 129.7770291781731, 120.70713907216556, 114.77090515495695, 121.47972045714884, 103.49232155014256, 116.33408523200332, 2021.2461902393045, 421.015718682471, 377.03244399592876, 227.49228555742812, 222.49733154201397, 355.55074387211056, 220.85444759757027, 243.33736928431568, 198.80919616530323, 185.08728208042393, 179.62859205408063, 153.62844821514912, 229.66853487146798, 125.84876484223355, 148.69338337824678, 142.33127871306573, 102.93599952364772, 111.973352413811, 88.1154534546607, 84.68572053130231, 142.66214315134667, 86.84360141710258, 77.43472530123174, 70.87423557732318, 76.35104837249506, 69.76897940874707, 60.39168561153876, 73.01084752990843, 95.57853464288948, 58.39724581070564, 84.62658126046615, 72.58924426287189, 72.23187446708896, 85.97124329959153, 109.7822256210562, 1493.4861995065567, 897.2212633996104, 161.19320654064407, 195.53358219873692, 170.02406761151704, 170.17480767395438, 121.21951580331923, 189.22384177642564, 136.04827637822476, 117.22278372012963, 113.98188961698379], \"Total\": [2021.0, 1418.0, 738.0, 555.0, 545.0, 421.0, 377.0, 395.0, 356.0, 351.0, 306.0, 243.0, 263.0, 230.0, 227.0, 222.0, 221.0, 2316.0, 199.0, 212.0, 185.0, 215.0, 180.0, 154.0, 149.0, 259.0, 142.0, 143.0, 126.0, 133.0, 1418.3612796728473, 738.8267191908288, 555.9679155384305, 545.6361558090009, 395.15075759938196, 306.47819480381776, 351.3118877328491, 263.80243482972935, 212.69757579000017, 121.91637234066947, 133.89020689852026, 97.33984511591294, 130.07608818099726, 99.17154807000414, 93.23126890017186, 100.63484632349163, 96.71729413019688, 107.47612878473137, 84.48370184059971, 82.48102183160674, 120.8001947944968, 76.93649342896303, 118.94968773884179, 83.49473523563054, 63.3027972047113, 63.3027972047113, 62.97829223429205, 77.23544320344402, 75.95387240588562, 78.81858942793463, 215.65771097709288, 109.11349365011424, 89.11359999262359, 98.78676671317794, 259.23471630590063, 2218.755260038695, 210.3875832022351, 2316.4835927390895, 159.05086660210122, 430.3690577553702, 271.7129996255127, 143.35258114916297, 212.8859179778895, 199.35169818421497, 181.77825473215069, 257.5279968353736, 127.22660857251346, 311.86766743074025, 2021.7702242263344, 421.5152098466473, 377.5298522570672, 227.95022120332, 222.95890559643462, 356.34235957664504, 221.3461816847709, 243.8819728997267, 199.27720700797636, 185.5595794015025, 180.1029591159207, 154.1064077082, 230.40223583486141, 126.3098661787567, 149.26892610266276, 142.8826805173033, 103.40610708430992, 112.54652908307888, 88.58706329155298, 85.14499771411006, 143.46110340608527, 87.39781773663678, 77.95748069821005, 71.36345269644407, 76.91889707557885, 70.30283825548948, 60.85552085801331, 73.58521623728942, 96.33356182986613, 58.87378642486972, 85.31765233023556, 73.18187825751991, 73.01966187096998, 88.76433171568632, 116.83186251395351, 2316.4835927390895, 2218.755260038695, 216.96120898139452, 311.86766743074025, 268.9841128236406, 274.6351997832692, 161.14325527211383, 430.3690577553702, 257.5279968353736, 210.36644120345642, 206.54632920001538], \"Category\": [\"Default\", \"Default\", \"Default\", \"Default\", \"Default\", \"Default\", \"Default\", \"Default\", \"Default\", \"Default\", \"Default\", \"Default\", \"Default\", \"Default\", \"Default\", \"Default\", \"Default\", \"Default\", \"Default\", \"Default\", \"Default\", \"Default\", \"Default\", \"Default\", \"Default\", \"Default\", \"Default\", \"Default\", \"Default\", \"Default\", \"Topic1\", \"Topic1\", \"Topic1\", \"Topic1\", \"Topic1\", \"Topic1\", \"Topic1\", \"Topic1\", \"Topic1\", \"Topic1\", \"Topic1\", \"Topic1\", \"Topic1\", \"Topic1\", \"Topic1\", \"Topic1\", \"Topic1\", \"Topic1\", \"Topic1\", \"Topic1\", \"Topic1\", \"Topic1\", \"Topic1\", \"Topic1\", \"Topic1\", \"Topic1\", \"Topic1\", \"Topic1\", \"Topic1\", \"Topic1\", \"Topic1\", \"Topic1\", \"Topic1\", \"Topic1\", \"Topic1\", \"Topic1\", \"Topic1\", \"Topic1\", \"Topic1\", \"Topic1\", \"Topic1\", \"Topic1\", \"Topic1\", \"Topic1\", \"Topic1\", \"Topic1\", \"Topic1\", \"Topic1\", \"Topic2\", \"Topic2\", \"Topic2\", \"Topic2\", \"Topic2\", \"Topic2\", \"Topic2\", \"Topic2\", \"Topic2\", \"Topic2\", \"Topic2\", \"Topic2\", \"Topic2\", \"Topic2\", \"Topic2\", \"Topic2\", \"Topic2\", \"Topic2\", \"Topic2\", \"Topic2\", \"Topic2\", \"Topic2\", \"Topic2\", \"Topic2\", \"Topic2\", \"Topic2\", \"Topic2\", \"Topic2\", \"Topic2\", \"Topic2\", \"Topic2\", \"Topic2\", \"Topic2\", \"Topic2\", \"Topic2\", \"Topic2\", \"Topic2\", \"Topic2\", \"Topic2\", \"Topic2\", \"Topic2\", \"Topic2\", \"Topic2\", \"Topic2\", \"Topic2\", \"Topic2\"], \"logprob\": [30.0, 29.0, 28.0, 27.0, 26.0, 25.0, 24.0, 23.0, 22.0, 21.0, 20.0, 19.0, 18.0, 17.0, 16.0, 15.0, 14.0, 13.0, 12.0, 11.0, 10.0, 9.0, 8.0, 7.0, 6.0, 5.0, 4.0, 3.0, 2.0, 1.0, -3.3364, -3.9889, -4.2737, -4.2925, -4.6153, -4.8697, -4.7333, -5.0199, -5.2356, -5.794, -5.7006, -6.0199, -5.7302, -6.0015, -6.0634, -5.9874, -6.0273, -5.9219, -6.1626, -6.1869, -5.8054, -6.2567, -5.8214, -6.1753, -6.4526, -6.4526, -6.4577, -6.2539, -6.2707, -6.234, -5.2283, -5.9102, -6.1117, -6.0146, -5.1084, -3.4068, -5.403, -3.8804, -5.7418, -5.1079, -5.4577, -5.8321, -5.7275, -5.8, -5.8504, -5.7936, -5.9538, -5.8369, -2.9078, -4.4766, -4.5869, -5.0921, -5.1143, -4.6456, -5.1217, -5.0248, -5.2269, -5.2984, -5.3283, -5.4847, -5.0826, -5.6842, -5.5174, -5.5611, -5.8851, -5.801, -6.0406, -6.0803, -5.5588, -6.0551, -6.1698, -6.2583, -6.1839, -6.2741, -6.4184, -6.2286, -5.9593, -6.452, -6.081, -6.2344, -6.2394, -6.0652, -5.8207, -3.2104, -3.7199, -5.4366, -5.2435, -5.3833, -5.3824, -5.7216, -5.2763, -5.6062, -5.7552, -5.7832], \"loglift\": [30.0, 29.0, 28.0, 27.0, 26.0, 25.0, 24.0, 23.0, 22.0, 21.0, 20.0, 19.0, 18.0, 17.0, 16.0, 15.0, 14.0, 13.0, 12.0, 11.0, 10.0, 9.0, 8.0, 7.0, 6.0, 5.0, 4.0, 3.0, 2.0, 1.0, 0.6564, 0.6561, 0.6557, 0.6556, 0.6556, 0.6553, 0.6551, 0.655, 0.6547, 0.6527, 0.6525, 0.652, 0.6518, 0.6517, 0.6516, 0.6512, 0.6511, 0.6509, 0.6509, 0.6507, 0.6506, 0.6505, 0.65, 0.65, 0.6496, 0.6496, 0.6496, 0.6493, 0.6493, 0.649, 0.6481, 0.6476, 0.6485, 0.6425, 0.584, 0.1386, 0.4982, -0.3781, 0.4391, 0.0775, 0.1877, 0.4527, 0.1619, 0.1551, 0.1969, -0.0946, 0.4503, -0.3293, 0.7306, 0.7297, 0.7296, 0.7289, 0.7288, 0.7287, 0.7287, 0.7286, 0.7285, 0.7283, 0.7282, 0.7278, 0.7277, 0.7272, 0.727, 0.727, 0.7263, 0.7258, 0.7255, 0.7255, 0.7253, 0.7245, 0.7241, 0.724, 0.7235, 0.7233, 0.7232, 0.723, 0.723, 0.7227, 0.7227, 0.7227, 0.72, 0.6989, 0.6686, 0.2919, -0.1745, 0.4338, 0.264, 0.2722, 0.2523, 0.4462, -0.0908, 0.0928, 0.1461, 0.1364]}, \"token.table\": {\"Topic\": [1, 2, 2, 1, 2, 1, 1, 2, 1, 2, 1, 2, 1, 2, 2, 1, 2, 1, 1, 2, 1, 2, 1, 2, 1, 2, 2, 2, 1, 2, 1, 1, 2, 1, 2, 1, 2, 1, 2, 1, 2, 1, 2, 1, 2, 1, 2, 1, 2, 1, 2, 1, 2, 1, 2, 1, 2, 1, 2, 1, 2, 1, 2, 1, 1, 2, 2, 1, 2, 1, 2, 1, 1, 2, 1, 2, 1, 2, 1, 2, 2, 1, 2, 1, 1, 2, 1, 2, 2, 2, 1, 2, 1, 2, 1, 2, 1, 1, 2, 1, 2, 2, 2, 1, 2, 1, 2, 2, 1, 1, 2, 1, 2, 1, 2, 1, 2, 1, 2, 2, 1, 2, 1, 2, 1, 2, 2, 2, 1, 2, 1, 2, 1, 2, 1, 2, 1, 2, 1, 2, 1, 1, 1, 1, 2, 1, 2, 1, 2], \"Freq\": [0.9936915855025911, 0.00993691585502591, 0.9982970495272439, 0.9988341025384256, 0.0018327231239237169, 0.9988810377733303, 0.0004946160488552389, 0.9996190347364379, 0.8555637992522351, 0.14734709876010718, 0.05991516226289702, 0.9415239784169531, 0.9969516171115398, 0.012947423598851166, 0.9960726972926385, 0.9975194062796733, 0.9851583110594597, 0.9984397101917026, 0.995569911289929, 0.009304391694298402, 0.9296594354114848, 0.06943514455355487, 0.9941680907810673, 0.012124001107086186, 0.2581106561072043, 0.7420681363082123, 0.9949070191714228, 0.9933730358616712, 0.36805147694692786, 0.6320075866765428, 0.9924835990189336, 0.9940746535187596, 0.011976803054442887, 0.01369494153187204, 0.9860357902947868, 0.9965086741661829, 0.9986089377097439, 0.010380598215252244, 0.9965374286642154, 0.9896142593533335, 0.01268736229940171, 0.9874414249639798, 0.013165885666186398, 0.9991122198145306, 0.0028464735607251586, 0.011441933287320565, 0.995448195996889, 0.9933512172462697, 0.007468806144708795, 0.013000706432613321, 0.9880536888786124, 0.5599844962297195, 0.43915796592289197, 0.4420857217908384, 0.5561723596723451, 0.6069674906314945, 0.39628455999907486, 0.35527987445266407, 0.6445113639827794, 0.8161694687468357, 0.18137099305485238, 0.4502621777893745, 0.5519342824514913, 1.00034468647748, 0.5958295733694146, 0.40428073170375556, 0.9987777194402196, 0.012827505340651172, 0.9877179112301402, 0.9997452837453863, 0.0007050389871265066, 0.9878277084485568, 0.992583600103294, 0.010339412501075979, 0.6326389268587264, 0.3685809399959536, 0.9982701886443979, 0.010083537259034322, 0.4698518277115712, 0.5280979220559808, 0.9985965288469256, 0.006970530521916942, 0.9967858646341228, 0.9969581977882529, 0.8047739866782279, 0.1949061998986333, 0.004100344064426422, 0.9963836076556207, 0.9993095179507299, 0.9994283319028955, 0.37195263284470276, 0.6284716899789805, 0.9917272406016706, 0.0076878080666796175, 0.9923132311403001, 0.009273955431217758, 0.999618480803889, 0.8095790743435138, 0.18863978431305176, 0.3786841602317275, 0.6190029542249392, 0.9984360169118982, 0.9956991823499067, 0.0028062899992806266, 0.9990392397439031, 0.993375881588121, 0.008278132346567674, 0.9969843680218108, 0.9967203397245632, 0.008885214036781414, 0.9951439721195182, 0.006998748878307183, 0.99382234071962, 0.6106557034622736, 0.38988017990283624, 0.014224176787370554, 0.9956923751159388, 0.006699317976684775, 0.9981983785260315, 0.9975467777131664, 0.9982590442516938, 0.0017986649445976464, 0.9819128940785589, 0.010122813341016071, 0.011720903853862982, 0.9962768275783535, 0.9859417708376963, 0.9958314530325791, 0.9897950875472397, 0.009164769329141108, 0.24822633707165825, 0.7508846696417663, 0.6256601643436339, 0.37539609860618034, 0.033797359164591596, 0.9688576293849592, 0.013664585055894537, 0.9975147090803013, 0.9875035910038897, 0.011221631715953292, 0.9952166852322165, 0.9952166852322165, 0.9942746135637814, 0.99201605521717, 0.008406915722179406, 0.004340235659504365, 0.998254201686004, 0.013589686232290347, 0.9920470949571952], \"Term\": [\"11\", \"11\", \"6th\", \"android\", \"android\", \"app\", \"apple\", \"apple\", \"apps\", \"apps\", \"around\", \"around\", \"back\", \"back\", \"bing\", \"blackberry\", \"block\", \"called\", \"case\", \"case\", \"check\", \"check\", \"code\", \"code\", \"come\", \"come\", \"conference\", \"congress\", \"day\", \"day\", \"design\", \"designing\", \"designing\", \"digital\", \"digital\", \"download\", \"downtown\", \"even\", \"even\", \"facebook\", \"facebook\", \"find\", \"find\", \"free\", \"free\", \"future\", \"future\", \"game\", \"game\", \"geek\", \"geek\", \"get\", \"get\", \"go\", \"go\", \"going\", \"going\", \"google\", \"google\", \"got\", \"got\", \"great\", \"great\", \"includes\", \"ipad\", \"ipad\", \"ipad2\", \"ipads\", \"ipads\", \"iphone\", \"iphone\", \"itunes\", \"japan\", \"japan\", \"know\", \"know\", \"launching\", \"launching\", \"like\", \"like\", \"line\", \"location\", \"location\", \"major\", \"make\", \"make\", \"map\", \"map\", \"marissa\", \"mayer\", \"mobile\", \"mobile\", \"music\", \"music\", \"need\", \"need\", \"network\", \"next\", \"next\", \"one\", \"one\", \"open\", \"opening\", \"party\", \"party\", \"phone\", \"phone\", \"popup\", \"possibly\", \"rumor\", \"rumor\", \"search\", \"search\", \"see\", \"see\", \"sell\", \"sell\", \"set\", \"set\", \"shop\", \"social\", \"social\", \"take\", \"take\", \"technology\", \"technology\", \"temp\", \"temporary\", \"thing\", \"thing\", \"think\", \"think\", \"time\", \"time\", \"tonight\", \"tonight\", \"tv\", \"tv\", \"twitter\", \"twitter\", \"uberguide\", \"ubersocial\", \"update\", \"video\", \"video\", \"win\", \"win\", \"world\", \"world\"]}, \"R\": 30, \"lambda.step\": 0.01, \"plot.opts\": {\"xlab\": \"PC1\", \"ylab\": \"PC2\"}, \"topic.order\": [1, 2]};\n",
       "\n",
       "function LDAvis_load_lib(url, callback){\n",
       "  var s = document.createElement('script');\n",
       "  s.src = url;\n",
       "  s.async = true;\n",
       "  s.onreadystatechange = s.onload = callback;\n",
       "  s.onerror = function(){console.warn(\"failed to load library \" + url);};\n",
       "  document.getElementsByTagName(\"head\")[0].appendChild(s);\n",
       "}\n",
       "\n",
       "if(typeof(LDAvis) !== \"undefined\"){\n",
       "   // already loaded: just create the visualization\n",
       "   !function(LDAvis){\n",
       "       new LDAvis(\"#\" + \"ldavis_el1450421481446757446214309706\", ldavis_el1450421481446757446214309706_data);\n",
       "   }(LDAvis);\n",
       "}else if(typeof define === \"function\" && define.amd){\n",
       "   // require.js is available: use it to load d3/LDAvis\n",
       "   require.config({paths: {d3: \"https://d3js.org/d3.v5\"}});\n",
       "   require([\"d3\"], function(d3){\n",
       "      window.d3 = d3;\n",
       "      LDAvis_load_lib(\"https://cdn.jsdelivr.net/gh/bmabey/pyLDAvis@3.3.1/pyLDAvis/js/ldavis.v3.0.0.js\", function(){\n",
       "        new LDAvis(\"#\" + \"ldavis_el1450421481446757446214309706\", ldavis_el1450421481446757446214309706_data);\n",
       "      });\n",
       "    });\n",
       "}else{\n",
       "    // require.js not available: dynamically load d3 & LDAvis\n",
       "    LDAvis_load_lib(\"https://d3js.org/d3.v5.js\", function(){\n",
       "         LDAvis_load_lib(\"https://cdn.jsdelivr.net/gh/bmabey/pyLDAvis@3.3.1/pyLDAvis/js/ldavis.v3.0.0.js\", function(){\n",
       "                 new LDAvis(\"#\" + \"ldavis_el1450421481446757446214309706\", ldavis_el1450421481446757446214309706_data);\n",
       "            })\n",
       "         });\n",
       "}\n",
       "</script>"
      ],
      "text/plain": [
       "<IPython.core.display.HTML object>"
      ]
     },
     "execution_count": 34,
     "metadata": {},
     "output_type": "execute_result"
    }
   ],
   "source": [
    "lda_display = pyLDAvis.gensim_models.prepare(ldamodel, doc_term_matrix, dictionary, sort_topics=False, mds='mmds')\n",
    "pyLDAvis.display(lda_display)"
   ]
  },
  {
   "cell_type": "markdown",
   "metadata": {},
   "source": [
    "### 4 Clusters, all data model"
   ]
  },
  {
   "cell_type": "code",
   "execution_count": 35,
   "metadata": {},
   "outputs": [
    {
     "name": "stdout",
     "output_type": "stream",
     "text": [
      "8909\n"
     ]
    }
   ],
   "source": [
    "doc_term_matrix = [dictionary.doc2bow(doc) for doc in df_all['text']]\n",
    "print(len(doc_term_matrix))\n",
    "\n",
    "lda = gensim.models.ldamodel.LdaModel\n",
    "\n",
    "num_topics=4\n",
    "ldamodel = lda(doc_term_matrix,num_topics=num_topics,id2word=dictionary,passes=50,minimum_probability=0)"
   ]
  },
  {
   "cell_type": "code",
   "execution_count": 36,
   "metadata": {},
   "outputs": [
    {
     "data": {
      "text/plain": [
       "[(0,\n",
       "  '0.040*\"google\" + 0.030*\"ipad\" + 0.025*\"iphone\" + 0.018*\"app\" + 0.015*\"android\" + 0.014*\"mobile\" + 0.009*\"map\" + 0.009*\"check\" + 0.008*\"mayer\" + 0.007*\"marissa\"'),\n",
       " (1,\n",
       "  '0.098*\"google\" + 0.037*\"social\" + 0.026*\"network\" + 0.020*\"called\" + 0.018*\"major\" + 0.014*\"possibly\" + 0.014*\"party\" + 0.008*\"iphone\" + 0.007*\"app\" + 0.007*\"bing\"'),\n",
       " (2,\n",
       "  '0.095*\"apple\" + 0.045*\"ipad\" + 0.020*\"ipad2\" + 0.018*\"line\" + 0.011*\"temporary\" + 0.010*\"opening\" + 0.010*\"open\" + 0.009*\"downtown\" + 0.009*\"popup\" + 0.007*\"location\"'),\n",
       " (3,\n",
       "  '0.035*\"iphone\" + 0.032*\"ipad\" + 0.015*\"free\" + 0.012*\"win\" + 0.011*\"app\" + 0.008*\"get\" + 0.008*\"android\" + 0.008*\"party\" + 0.007*\"come\" + 0.007*\"music\"')]"
      ]
     },
     "execution_count": 36,
     "metadata": {},
     "output_type": "execute_result"
    }
   ],
   "source": [
    "ldamodel.print_topics(num_topics=num_topics)"
   ]
  },
  {
   "cell_type": "code",
   "execution_count": 37,
   "metadata": {},
   "outputs": [
    {
     "data": {
      "text/html": [
       "\n",
       "<link rel=\"stylesheet\" type=\"text/css\" href=\"https://cdn.jsdelivr.net/gh/bmabey/pyLDAvis@3.3.1/pyLDAvis/js/ldavis.v1.0.0.css\">\n",
       "\n",
       "\n",
       "<div id=\"ldavis_el1450421481883771528594180498\"></div>\n",
       "<script type=\"text/javascript\">\n",
       "\n",
       "var ldavis_el1450421481883771528594180498_data = {\"mdsDat\": {\"x\": [0.11516219237658425, 0.23800308848657153, -0.16371632753476928, -0.18944895332838654], \"y\": [-0.1942043278931061, 0.12742442374487725, 0.20748581254420373, -0.14070590839597494], \"topics\": [1, 2, 3, 4], \"cluster\": [1, 1, 1, 1], \"Freq\": [28.24896331716666, 19.287961587710964, 27.738351594321514, 24.72472350080086]}, \"tinfo\": {\"Term\": [\"apple\", \"google\", \"social\", \"network\", \"ipad2\", \"ipad\", \"called\", \"line\", \"major\", \"mobile\", \"iphone\", \"possibly\", \"party\", \"win\", \"free\", \"temporary\", \"opening\", \"open\", \"downtown\", \"popup\", \"mayer\", \"map\", \"android\", \"marissa\", \"check\", \"location\", \"music\", \"bing\", \"launching\", \"shop\", \"mobile\", \"mayer\", \"marissa\", \"design\", \"designing\", \"world\", \"interface\", \"demo\", \"convention\", \"navigation\", \"hotpot\", \"center\", \"40\", \"guide\", \"tapworthy\", \"presentation\", \"physical\", \"showing\", \"man\", \"screen\", \"start\", \"morning\", \"camera\", \"talking\", \"million\", \"hot\", \"analytics\", \"uxdes\", \"dude\", \"foursquare\", \"take\", \"talk\", \"v\", \"map\", \"check\", \"user\", \"digital\", \"android\", \"app\", \"google\", \"video\", \"search\", \"iphone\", \"use\", \"ipad\", \"say\", \"future\", \"next\", \"day\", \"photo\", \"game\", \"get\", \"see\", \"time\", \"like\", \"great\", \"phone\", \"free\", \"social\", \"network\", \"called\", \"major\", \"possibly\", \"bing\", \"launching\", \"uberguide\", \"ubersocial\", \"includes\", \"else\", \"qagb\", \"sponsored\", \"ranking\", \"mashable\", \"q\", \"80\", \"route\", \"checking\", \"preview\", \"website\", \"industry\", \"aclu\", \"cont\", \"edchat\", \"seo\", \"musedchat\", \"newtwitter\", \"classical\", \"technews\", \"may\", \"google\", \"party\", \"gt\", \"medium\", \"product\", \"big\", \"interactive\", \"year\", \"gsdm\", \"app\", \"iphone\", \"people\", \"time\", \"apple\", \"ipad2\", \"line\", \"temporary\", \"opening\", \"open\", \"downtown\", \"popup\", \"location\", \"shop\", \"congress\", \"6th\", \"ipads\", \"sell\", \"long\", \"marketing\", \"temp\", \"block\", \"based\", \"smart\", \"white\", \"school\", \"core\", \"hootsuite\", \"sale\", \"sold\", \"gave\", \"speak\", \"brain\", \"bit\", \"set\", \"ipad\", \"guy\", \"rumor\", \"still\", \"like\", \"think\", \"get\", \"one\", \"best\", \"first\", \"day\", \"need\", \"know\", \"tech\", \"product\", \"iphone\", \"win\", \"music\", \"case\", \"11\", \"itunes\", \"away\", \"ever\", \"conference\", \"charger\", \"battery\", \"03\", \"begin\", \"59\", \"infektd\", \"valid\", \"00\", \"nerd\", \"59p\", \"chance\", \"sampler\", \"happy\", \"without\", \"found\", \"featured\", \"plan\", \"able\", \"wanna\", \"hit\", \"8\", \"trade\", \"free\", \"code\", \"artist\", \"friend\", \"iphone\", \"back\", \"giving\", \"come\", \"love\", \"ipad\", \"got\", \"make\", \"party\", \"apps\", \"one\", \"want\", \"get\", \"app\", \"show\", \"cool\", \"android\", \"thanks\", \"go\", \"time\", \"going\", \"know\", \"need\"], \"Freq\": [2029.0, 2318.0, 552.0, 392.0, 423.0, 2219.0, 304.0, 378.0, 262.0, 313.0, 1414.0, 211.0, 355.0, 229.0, 349.0, 228.0, 223.0, 222.0, 199.0, 186.0, 181.0, 245.0, 545.0, 155.0, 259.0, 143.0, 129.0, 103.0, 98.0, 126.0, 313.1557347769281, 180.91618773732603, 154.70505869990257, 121.59076193406074, 83.05770091539516, 73.48964650040827, 55.50822935521626, 53.43278524253892, 51.789794223834924, 51.106263150962604, 47.7522015987315, 47.76749445661481, 44.9278676515139, 44.21088850918384, 43.67255867161098, 41.56492572281351, 40.84728662084266, 40.508183680198684, 41.07812583742385, 38.30779985176867, 37.46747652829645, 36.92141681860896, 36.77374010251126, 36.72525456185114, 35.28919755496166, 35.60602875416447, 35.75479528867284, 34.31007536328002, 37.35726326828326, 45.16975676706169, 93.58219615050066, 117.36135621151816, 67.87121032039978, 205.53552446411777, 203.24885786625123, 113.31920708345412, 64.62468931806569, 335.1377615215289, 392.719902669337, 866.6440715531237, 89.74592408739348, 102.91595730726144, 552.348978406593, 89.10619309458973, 652.6291428802631, 95.86995509535886, 66.6620580580567, 82.82790853134766, 108.04900707865882, 61.85089664786058, 76.13877507018962, 121.42460381943971, 90.41972012341878, 93.97694810177556, 89.81694687049969, 80.91228085214529, 69.40585164328701, 69.09577175535213, 551.9488124766225, 392.1014188669869, 303.96020464447065, 261.5448742057519, 210.74977898755645, 102.65476351068958, 97.89598637469373, 62.254583425859956, 62.254583425859956, 61.93090359924257, 54.30907929706099, 51.101358349213776, 49.37295503523951, 48.815520640427984, 46.77805039749201, 46.825203925466056, 42.3286440503335, 40.060185054662334, 41.99976062334581, 38.67994645796626, 37.605684397178514, 35.49576083866848, 34.68076721676908, 35.21763236977177, 32.72670305674268, 32.15117173456502, 30.3436681702371, 29.43903243207128, 28.199655331928895, 29.085695191000966, 71.81590042584982, 1451.1707897326949, 204.53812347982134, 75.87211899983869, 47.31731189996849, 80.89769891845746, 67.84949316283085, 46.732537022255784, 69.41844600706395, 46.66582596774066, 105.69611081776546, 122.52008629397933, 54.21606364558436, 54.98391064541598, 2028.3509827258579, 422.3479080091728, 378.1980055450779, 228.0939186720647, 223.08434918024406, 221.45721138958498, 199.31305744186264, 185.54896702003848, 143.223312894536, 126.08546097401644, 88.22449433792535, 84.76303766422862, 77.55528383363857, 69.87271972286148, 63.436360658422785, 62.88196427575859, 60.39541873583809, 58.40273706537304, 56.716531658256386, 53.37995867403353, 49.656176235342706, 45.95447152870487, 44.15722198209898, 42.38804879559827, 41.65499708118942, 39.58448470147275, 38.50922069161487, 40.064931109837964, 39.72012669200215, 36.64001243714123, 120.27952395075104, 952.0402718618888, 94.51937913646437, 77.92704980032319, 64.9647892368125, 108.21380006195395, 83.81431093916032, 137.23296771618286, 104.7902221422159, 71.64415232638514, 74.4806343885222, 91.29913881729, 79.25625242055584, 74.94783217135495, 68.49768818020031, 66.86068344091566, 70.5355780541315, 229.2313387686327, 128.4274857625791, 105.99715269108144, 99.20784516674624, 75.69015103101304, 74.9748427124825, 73.73336410098439, 70.52458179297105, 54.403379101225674, 53.2393554126015, 50.10527490088186, 50.38619118953363, 49.20375873330944, 47.52471889799133, 47.49081826056681, 47.20265177683717, 43.76051322053324, 40.945813097115334, 40.938682410747546, 40.326417157792484, 40.146144908017654, 39.93137447726793, 38.44606711347787, 34.10723921361399, 29.84062334525058, 27.154983776216255, 25.76656699255709, 24.890477409615187, 24.23180072779021, 23.958809637115788, 279.86583364771326, 70.75492376601863, 40.154846912610495, 74.31395069327262, 668.7037458801478, 62.20293801430714, 56.612267442032554, 133.3211638327042, 92.43904002556162, 614.3066387730769, 93.52574600501602, 98.57883098938665, 150.88539436236434, 107.6907593102831, 126.00646060889265, 90.23913254300443, 153.50481282727173, 203.0697490136694, 74.56162585552956, 81.00469451553587, 152.5280283035949, 79.74069957780999, 91.42297697250692, 98.66447004577644, 86.54841144349669, 79.8176897445892, 77.27903261020114], \"Total\": [2029.0, 2318.0, 552.0, 392.0, 423.0, 2219.0, 304.0, 378.0, 262.0, 313.0, 1414.0, 211.0, 355.0, 229.0, 349.0, 228.0, 223.0, 222.0, 199.0, 186.0, 181.0, 245.0, 545.0, 155.0, 259.0, 143.0, 129.0, 103.0, 98.0, 126.0, 313.84146381636674, 181.59939041203177, 155.3861128104683, 122.2738283433819, 83.7412670623894, 74.19109058228264, 56.18688666401605, 54.1222841107402, 52.475723117440154, 51.78424232302127, 48.43496095328191, 48.45162283670286, 45.605631810069795, 44.893454492553566, 44.35591632299602, 42.24545317662763, 41.522092097348725, 41.19764435714788, 41.78427941634146, 39.00259230936718, 38.168877456590906, 37.61532316454518, 37.46770866261189, 37.421081777011025, 35.96739315289023, 36.29534525818128, 36.45602054663635, 34.987736691043615, 38.096783131146175, 46.08702340935501, 99.03856505774979, 126.2759268107811, 71.11981865637534, 245.55510702675164, 259.51096316425344, 136.71147915174174, 73.58207390478698, 545.3561965613828, 737.7529463003649, 2318.2803375646067, 119.16302353818709, 143.70488847175469, 1414.1083886348517, 123.57395326677688, 2219.2090390999697, 148.88377006272702, 88.02060193723777, 127.51560629144743, 269.5870460721288, 84.56440972830339, 133.71506989192602, 430.2413770904631, 212.86395280608366, 271.42242009430066, 257.9442363435734, 206.80327347012388, 120.62715769852065, 349.4220371254106, 552.6287918415609, 392.7785035628246, 304.63929245333, 262.2215939560153, 211.42439612578778, 103.33868573286955, 98.581921151369, 62.9295371331147, 62.9295371331147, 62.606788903260814, 55.00153592725735, 51.78038114199957, 50.05227824818011, 49.494396613277196, 47.46487801364169, 47.51400966035185, 43.005350064127505, 40.74119713483361, 42.71741733944474, 39.36166919250999, 38.292437573333885, 36.18367497609956, 35.360979536118194, 35.923327902001034, 33.410003145124705, 32.85111630928715, 31.02014554362714, 30.115572157592897, 28.876307611591944, 29.79936687695105, 80.7115399924458, 2318.2803375646067, 355.8911223902991, 107.46125688559542, 60.59882922503456, 148.23713282732652, 120.71980034001433, 65.37032588908859, 161.85774101726034, 66.62470093054951, 737.7529463003649, 1414.1083886348517, 191.5247024254725, 271.42242009430066, 2029.0409879551094, 423.029952923417, 378.88543755033476, 228.76876370596509, 223.75948357646217, 222.14027822101087, 199.99209120194092, 186.22561376865076, 143.97031479018682, 126.76226933097705, 88.9036684952546, 85.44788866712413, 78.23648313345251, 70.5545565437614, 64.13007443028404, 63.5699800348237, 61.072422557490604, 59.08325786477791, 57.444742923283805, 54.069137968149896, 50.355540349565985, 46.6435447204377, 44.834330275295756, 43.08059101059533, 42.364567888091344, 40.27370336679703, 39.19323001786665, 40.781362254328826, 40.431856206484525, 37.34146262586846, 149.67851659803978, 2219.2090390999697, 142.1290108871986, 112.80211286892889, 91.31253683131668, 257.9442363435734, 161.47587248910082, 430.2413770904631, 274.54895778249335, 134.62250314143392, 149.59841189108533, 269.5870460721288, 214.96510440878225, 181.4845579833046, 130.58948002717943, 148.23713282732652, 1414.1083886348517, 229.92608435763458, 129.11987002605764, 106.6878319464815, 99.89680256554766, 76.37322855890025, 75.66598106369847, 74.4188762436614, 71.21696550479491, 55.08715348259262, 53.93138891584735, 50.783766105909194, 51.08152975718293, 49.882945583058415, 48.200378867965036, 48.16851475230183, 47.87828446770011, 44.46944763897006, 41.62086641930646, 41.61982577655013, 41.00199331044385, 40.83519522260349, 40.63352711776086, 39.14490228697021, 34.7859157731073, 30.560090038095947, 27.85149769378348, 26.455385788801955, 25.58687025287015, 24.913573127213027, 24.642648714415028, 349.4220371254106, 81.98437677278012, 44.17268381703757, 94.92141006866798, 1414.1083886348517, 76.8118560856245, 68.93691147324898, 216.7144685726683, 132.84294131559292, 2219.2090390999697, 142.67172521398385, 158.45510343157517, 355.8911223902991, 209.8136984486389, 274.54895778249335, 160.7669885173772, 430.2413770904631, 737.7529463003649, 115.96961992541904, 139.71482140838614, 545.3561965613828, 136.63102648584467, 210.34931233485872, 271.42242009430066, 199.00731421249793, 181.4845579833046, 214.96510440878225], \"Category\": [\"Default\", \"Default\", \"Default\", \"Default\", \"Default\", \"Default\", \"Default\", \"Default\", \"Default\", \"Default\", \"Default\", \"Default\", \"Default\", \"Default\", \"Default\", \"Default\", \"Default\", \"Default\", \"Default\", \"Default\", \"Default\", \"Default\", \"Default\", \"Default\", \"Default\", \"Default\", \"Default\", \"Default\", \"Default\", \"Default\", \"Topic1\", \"Topic1\", \"Topic1\", \"Topic1\", \"Topic1\", \"Topic1\", \"Topic1\", \"Topic1\", \"Topic1\", \"Topic1\", \"Topic1\", \"Topic1\", \"Topic1\", \"Topic1\", \"Topic1\", \"Topic1\", \"Topic1\", \"Topic1\", \"Topic1\", \"Topic1\", \"Topic1\", \"Topic1\", \"Topic1\", \"Topic1\", \"Topic1\", \"Topic1\", \"Topic1\", \"Topic1\", \"Topic1\", \"Topic1\", \"Topic1\", \"Topic1\", \"Topic1\", \"Topic1\", \"Topic1\", \"Topic1\", \"Topic1\", \"Topic1\", \"Topic1\", \"Topic1\", \"Topic1\", \"Topic1\", \"Topic1\", \"Topic1\", \"Topic1\", \"Topic1\", \"Topic1\", \"Topic1\", \"Topic1\", \"Topic1\", \"Topic1\", \"Topic1\", \"Topic1\", \"Topic1\", \"Topic1\", \"Topic1\", \"Topic1\", \"Topic1\", \"Topic2\", \"Topic2\", \"Topic2\", \"Topic2\", \"Topic2\", \"Topic2\", \"Topic2\", \"Topic2\", \"Topic2\", \"Topic2\", \"Topic2\", \"Topic2\", \"Topic2\", \"Topic2\", \"Topic2\", \"Topic2\", \"Topic2\", \"Topic2\", \"Topic2\", \"Topic2\", \"Topic2\", \"Topic2\", \"Topic2\", \"Topic2\", \"Topic2\", \"Topic2\", \"Topic2\", \"Topic2\", \"Topic2\", \"Topic2\", \"Topic2\", \"Topic2\", \"Topic2\", \"Topic2\", \"Topic2\", \"Topic2\", \"Topic2\", \"Topic2\", \"Topic2\", \"Topic2\", \"Topic2\", \"Topic2\", \"Topic2\", \"Topic2\", \"Topic3\", \"Topic3\", \"Topic3\", \"Topic3\", \"Topic3\", \"Topic3\", \"Topic3\", \"Topic3\", \"Topic3\", \"Topic3\", \"Topic3\", \"Topic3\", \"Topic3\", \"Topic3\", \"Topic3\", \"Topic3\", \"Topic3\", \"Topic3\", \"Topic3\", \"Topic3\", \"Topic3\", \"Topic3\", \"Topic3\", \"Topic3\", \"Topic3\", \"Topic3\", \"Topic3\", \"Topic3\", \"Topic3\", \"Topic3\", \"Topic3\", \"Topic3\", \"Topic3\", \"Topic3\", \"Topic3\", \"Topic3\", \"Topic3\", \"Topic3\", \"Topic3\", \"Topic3\", \"Topic3\", \"Topic3\", \"Topic3\", \"Topic3\", \"Topic3\", \"Topic3\", \"Topic3\", \"Topic4\", \"Topic4\", \"Topic4\", \"Topic4\", \"Topic4\", \"Topic4\", \"Topic4\", \"Topic4\", \"Topic4\", \"Topic4\", \"Topic4\", \"Topic4\", \"Topic4\", \"Topic4\", \"Topic4\", \"Topic4\", \"Topic4\", \"Topic4\", \"Topic4\", \"Topic4\", \"Topic4\", \"Topic4\", \"Topic4\", \"Topic4\", \"Topic4\", \"Topic4\", \"Topic4\", \"Topic4\", \"Topic4\", \"Topic4\", \"Topic4\", \"Topic4\", \"Topic4\", \"Topic4\", \"Topic4\", \"Topic4\", \"Topic4\", \"Topic4\", \"Topic4\", \"Topic4\", \"Topic4\", \"Topic4\", \"Topic4\", \"Topic4\", \"Topic4\", \"Topic4\", \"Topic4\", \"Topic4\", \"Topic4\", \"Topic4\", \"Topic4\", \"Topic4\", \"Topic4\", \"Topic4\", \"Topic4\", \"Topic4\", \"Topic4\"], \"logprob\": [30.0, 29.0, 28.0, 27.0, 26.0, 25.0, 24.0, 23.0, 22.0, 21.0, 20.0, 19.0, 18.0, 17.0, 16.0, 15.0, 14.0, 13.0, 12.0, 11.0, 10.0, 9.0, 8.0, 7.0, 6.0, 5.0, 4.0, 3.0, 2.0, 1.0, -4.2393, -4.788, -4.9445, -5.1853, -5.5665, -5.6889, -5.9695, -6.0076, -6.0388, -6.0521, -6.12, -6.1197, -6.1809, -6.197, -6.2093, -6.2587, -6.2762, -6.2845, -6.2705, -6.3404, -6.3625, -6.3772, -6.3812, -6.3825, -6.4224, -6.4135, -6.4093, -6.4506, -6.3655, -6.1756, -5.4472, -5.2207, -5.7684, -4.6604, -4.6716, -5.2558, -5.8174, -4.1715, -4.0129, -3.2214, -5.489, -5.3521, -3.6718, -5.4962, -3.505, -5.423, -5.7864, -5.5692, -5.3034, -5.8613, -5.6534, -5.1867, -5.4815, -5.443, -5.4882, -5.5926, -5.746, -5.7505, -3.291, -3.6329, -3.8875, -4.0378, -4.2538, -4.9731, -5.0205, -5.4732, -5.4732, -5.4784, -5.6097, -5.6706, -5.705, -5.7164, -5.759, -5.758, -5.859, -5.914, -5.8668, -5.9491, -5.9773, -6.035, -6.0582, -6.0429, -6.1162, -6.134, -6.1918, -6.2221, -6.2651, -6.2342, -5.3303, -2.3243, -4.2837, -5.2754, -5.7476, -5.2112, -5.3871, -5.76, -5.3643, -5.7614, -4.9439, -4.7962, -5.6115, -5.5974, -2.3528, -3.9219, -4.0323, -4.538, -4.5602, -4.5675, -4.6729, -4.7444, -5.0034, -5.1308, -5.4879, -5.5279, -5.6168, -5.7211, -5.8177, -5.8265, -5.8669, -5.9004, -5.9297, -5.9903, -6.0626, -6.1401, -6.18, -6.2209, -6.2383, -6.2893, -6.3169, -6.2773, -6.2859, -6.3666, -5.1779, -3.1092, -5.419, -5.612, -5.7939, -5.2837, -5.5392, -5.0461, -5.3158, -5.6961, -5.6572, -5.4536, -5.5951, -5.651, -5.741, -5.7652, -5.7116, -4.418, -4.9974, -5.1893, -5.2555, -5.5261, -5.5356, -5.5523, -5.5968, -5.8563, -5.878, -5.9386, -5.933, -5.9568, -5.9915, -5.9922, -5.9983, -6.074, -6.1405, -6.1407, -6.1557, -6.1602, -6.1656, -6.2035, -6.3232, -6.4569, -6.5512, -6.6037, -6.6383, -6.6651, -6.6764, -4.2184, -5.5935, -6.16, -5.5445, -3.3474, -5.7223, -5.8165, -4.96, -5.3262, -3.4323, -5.3145, -5.2619, -4.8362, -5.1735, -5.0164, -5.3503, -4.819, -4.5392, -5.5411, -5.4582, -4.8254, -5.474, -5.3373, -5.261, -5.392, -5.473, -5.5053], \"loglift\": [30.0, 29.0, 28.0, 27.0, 26.0, 25.0, 24.0, 23.0, 22.0, 21.0, 20.0, 19.0, 18.0, 17.0, 16.0, 15.0, 14.0, 13.0, 12.0, 11.0, 10.0, 9.0, 8.0, 7.0, 6.0, 5.0, 4.0, 3.0, 2.0, 1.0, 1.2619, 1.2603, 1.2597, 1.2585, 1.2559, 1.2546, 1.252, 1.2513, 1.251, 1.2509, 1.2499, 1.2499, 1.2491, 1.2488, 1.2486, 1.2479, 1.2477, 1.2472, 1.2471, 1.2461, 1.2456, 1.2455, 1.2454, 1.2453, 1.2451, 1.2449, 1.2447, 1.2446, 1.2445, 1.244, 1.2074, 1.1909, 1.2174, 1.0862, 1.0197, 1.0764, 1.1343, 0.7772, 0.6336, 0.2802, 0.9806, 0.9303, 0.324, 0.9371, 0.0402, 0.8239, 0.9862, 0.8326, 0.3498, 0.9513, 0.701, -0.0009, 0.4079, 0.2035, 0.2091, 0.3257, 0.7114, -0.3567, 1.6445, 1.644, 1.6435, 1.6431, 1.6425, 1.639, 1.6387, 1.6349, 1.6349, 1.6348, 1.633, 1.6325, 1.632, 1.6319, 1.6311, 1.6311, 1.6298, 1.6288, 1.6287, 1.6282, 1.6276, 1.6265, 1.6263, 1.6258, 1.625, 1.6242, 1.6236, 1.623, 1.622, 1.6214, 1.5289, 1.1772, 1.0918, 1.2976, 1.3983, 1.0401, 1.0695, 1.3101, 0.7991, 1.2896, -0.2974, -0.8003, 0.3836, 0.0491, 1.282, 1.2807, 1.2805, 1.2794, 1.2793, 1.2793, 1.279, 1.2787, 1.2772, 1.277, 1.2747, 1.2743, 1.2736, 1.2726, 1.2715, 1.2715, 1.2712, 1.2708, 1.2696, 1.2695, 1.2684, 1.2675, 1.2671, 1.2661, 1.2655, 1.2651, 1.2647, 1.2646, 1.2646, 1.2634, 1.0637, 0.4361, 0.8744, 0.9125, 0.9419, 0.4137, 0.6266, 0.1397, 0.3192, 0.6516, 0.5849, 0.1996, 0.2846, 0.398, 0.6371, 0.4862, -1.7158, 1.3943, 1.392, 1.3909, 1.3904, 1.3884, 1.3882, 1.3881, 1.3876, 1.3849, 1.3845, 1.3839, 1.3837, 1.3837, 1.3832, 1.3832, 1.3832, 1.3813, 1.381, 1.3809, 1.3808, 1.3803, 1.3799, 1.3794, 1.3777, 1.3735, 1.372, 1.371, 1.3698, 1.3696, 1.3692, 1.1754, 1.2501, 1.302, 1.1526, 0.6485, 1.1864, 1.2004, 0.9115, 1.0347, 0.113, 0.9751, 0.9228, 0.5393, 0.7304, 0.6186, 0.8199, 0.3668, 0.1073, 0.9557, 0.8523, 0.1233, 0.8589, 0.5641, 0.3854, 0.5647, 0.5759, 0.3743]}, \"token.table\": {\"Topic\": [4, 4, 4, 1, 4, 4, 3, 4, 2, 4, 2, 1, 1, 2, 3, 4, 1, 2, 3, 4, 3, 1, 2, 3, 4, 2, 4, 4, 1, 4, 3, 4, 4, 2, 3, 4, 1, 2, 3, 2, 3, 3, 3, 2, 1, 4, 1, 4, 4, 1, 4, 2, 2, 1, 4, 1, 2, 3, 4, 4, 3, 2, 1, 1, 3, 4, 3, 1, 2, 3, 4, 1, 1, 1, 1, 3, 3, 1, 2, 2, 4, 4, 1, 2, 3, 4, 4, 1, 1, 4, 1, 4, 1, 3, 1, 2, 4, 3, 1, 2, 3, 4, 3, 4, 1, 2, 3, 4, 1, 2, 3, 4, 1, 2, 2, 3, 4, 1, 2, 3, 4, 1, 2, 2, 3, 4, 1, 1, 3, 4, 4, 3, 1, 1, 2, 2, 4, 2, 3, 1, 1, 3, 4, 3, 3, 1, 2, 3, 4, 4, 1, 3, 4, 2, 1, 2, 3, 4, 3, 3, 3, 1, 3, 4, 2, 1, 2, 4, 1, 1, 2, 1, 3, 2, 2, 4, 1, 1, 2, 3, 1, 1, 1, 2, 4, 1, 1, 2, 3, 4, 4, 2, 2, 1, 3, 1, 3, 4, 3, 3, 2, 4, 1, 2, 3, 4, 1, 4, 1, 2, 3, 1, 4, 3, 2, 1, 2, 2, 3, 2, 2, 2, 2, 2, 3, 3, 4, 1, 2, 3, 4, 3, 1, 1, 2, 1, 2, 3, 4, 3, 2, 2, 3, 3, 1, 4, 1, 3, 2, 3, 3, 2, 1, 1, 3, 1, 2, 1, 4, 1, 1, 1, 2, 3, 4, 2, 3, 3, 1, 3, 4, 1, 2, 3, 4, 1, 2, 3, 4, 4, 2, 2, 1, 2, 3, 4, 1, 2, 1, 1, 3, 4, 1, 3, 4, 1, 3, 4, 2, 3, 4, 4, 1, 1, 2, 3, 4], \"Freq\": [0.9816558910273273, 0.984566601376616, 0.991022710011572, 0.9867202407678064, 0.9822996502564538, 0.9850828088715986, 0.9947583413222888, 0.963330305028983, 0.9766226745595984, 0.9694272206419429, 0.989791585503182, 0.9874912143509194, 0.6142774247588363, 0.009168319772519945, 0.09718418958871142, 0.28055058503911035, 0.532698651995618, 0.14367953463495042, 0.04879682308356807, 0.27515986349900884, 0.9994869556794126, 0.319330913545672, 0.07625812860792167, 0.09055652772190699, 0.5147423681034713, 0.09055370093807125, 0.9055370093807125, 0.9911984083952098, 0.18226352953108926, 0.8071670593519668, 0.9922579003638723, 0.9827301144181423, 0.9788273812016985, 0.044569071737556545, 0.5348288608506786, 0.42340618150678716, 0.1739565501338826, 0.5632878766240008, 0.2567930025785886, 0.9967225658961345, 0.990855670831921, 0.9816655698428626, 0.9893189121894616, 0.9979014773564447, 0.9875170198737399, 0.9935528547732928, 0.9906788914331112, 0.9851074394237528, 0.980264845542688, 0.7822405555618639, 0.2157904980860314, 0.9832055076330122, 0.9696530587158532, 0.13417190485556196, 0.8660186586131727, 0.13843099723607266, 0.11535916436339388, 0.12920226408700114, 0.6137107544132555, 0.9969534576030159, 0.9898354194989958, 0.9742972615310064, 0.9909344152080479, 0.15030617216062597, 0.27198259724303747, 0.5797523783338431, 0.9813908165869162, 0.4006127207280734, 0.15208445879491675, 0.3375533109838396, 0.10757193426957526, 0.9792639181959896, 0.9977605318563111, 0.9911481269821588, 0.8833673278101413, 0.12231239923525032, 0.995039347826314, 0.9712106104242304, 0.9877281321003247, 0.9817907643782541, 0.9943713710176176, 0.9774070696245725, 0.2072214511379269, 0.06016106645939813, 0.49465765755505126, 0.23395970289765938, 0.9707521996458962, 0.9764136772362183, 0.19746894204968332, 0.8013232431001642, 0.21070062049785832, 0.7795922958420758, 0.7611854330168486, 0.2385805088560272, 0.5683727351107568, 0.14957177239756758, 0.2767077789355, 0.995069811348068, 0.2812374784086803, 0.04183698025914252, 0.31842590530569587, 0.35793860888377493, 0.17407220230132603, 0.8268429609312986, 0.2804858230583463, 0.03327797900692244, 0.25196184105241276, 0.43261372708999174, 0.2462221059256059, 0.1758729328040042, 0.14069834624320338, 0.4371698615413819, 0.3739841062150397, 0.6258949689942591, 0.06308187544870224, 0.2803638908831211, 0.6588551435753345, 0.39167658538877903, 0.14990091539570555, 0.2562822101926579, 0.20309156279418172, 0.28517951652504764, 0.7054440671935389, 0.7072316312185939, 0.009305679358139394, 0.27917038074418177, 0.9800983349877483, 0.33068547868317877, 0.6684068186149359, 0.9795471720399371, 0.9770636171180679, 0.9749169873196595, 0.991862723550902, 0.9910196902253838, 0.9903079376232118, 0.9672870437598886, 0.9958427947524244, 0.7189806592022068, 0.27535429501361114, 0.9966738384147606, 0.29424898172946923, 0.42898167014771016, 0.2766751528053509, 0.9975652955156028, 0.9969773291950109, 0.3903519733256715, 0.08698060275191594, 0.05020831540964253, 0.4730896198457867, 0.9951130970113119, 0.14326287750824415, 0.4132583005045504, 0.44080885387152047, 0.9940970804324711, 0.3489126226496603, 0.16670269748817101, 0.41869514717959233, 0.0659057176116025, 0.9976630467614181, 0.9932603134778104, 0.9823784013924303, 0.09033223655814565, 0.21077521863567317, 0.6925471469457833, 0.9991549362786176, 0.23350462811680606, 0.13884058969107388, 0.6247826536098324, 0.9812302754218435, 0.8389155595023223, 0.162896225146082, 0.9975151395225438, 0.9910338176209672, 0.9902058525567456, 0.8920657443376604, 0.09911841603751782, 0.9966993809248379, 0.06600787591367396, 0.775592541985669, 0.16501968978418488, 0.9731036066812505, 0.9973188252242569, 0.983641688738031, 0.9671134507672636, 0.9913268962721877, 0.9848555798474505, 0.19072863064338816, 0.07908260294969753, 0.36750150782506497, 0.35819767218392407, 0.9894433669880202, 0.9980179578165227, 0.9629569661916042, 0.6509007204208139, 0.34505580359657606, 0.1602628556865921, 0.3824454510702766, 0.4589345412843319, 0.9948668551685328, 0.9966058038554481, 0.5760188639242886, 0.4242870656222808, 0.2506204128873565, 0.281947964498276, 0.3446030677201151, 0.1200889478418583, 0.5720104934615914, 0.4227903647324806, 0.7331689560560941, 0.08277714019988158, 0.1773795861426034, 0.9874261610873393, 0.981672500395197, 0.9987884922804924, 0.9979926813860436, 0.9941898320843809, 0.9908116398534539, 0.5464217936159933, 0.4519785206453278, 0.9891819346751372, 0.9849290189684101, 0.9900110588853088, 0.9818071832209395, 0.3014127939208595, 0.6914764095831484, 0.9913945094623797, 0.9755623268640301, 0.6447982876814157, 0.1880661672404129, 0.1007497324502212, 0.060449839470132716, 0.9862029199475545, 0.9742942135380476, 0.716746668087389, 0.2783482206164617, 0.4228052651168648, 0.1550285972095171, 0.11274807069783062, 0.3100571944190342, 0.9921400321832166, 0.9740917081394115, 0.19374857968347736, 0.8017182607592167, 0.9939866228728774, 0.3535408672233937, 0.6467210985793787, 0.9952025325663167, 0.9802264654417149, 0.9988621804530569, 0.9932039185891537, 0.9808402120199924, 0.9789764165586534, 0.9693761636579368, 0.2847363670120158, 0.7118409175300396, 0.9491252215254554, 0.05048538412369444, 0.9265423977075166, 0.06335332633897549, 0.9887474718256352, 0.991975899665689, 0.17612444735374577, 0.1072061853457583, 0.5207157573936831, 0.19143961668885412, 0.9731750382398446, 0.9824401503562253, 0.9966395599927568, 0.2561643639823352, 0.16101760021746786, 0.5855185462453377, 0.23532927498233455, 0.06812163223172843, 0.5202015552241079, 0.17959339406546584, 0.3463236381406571, 0.20263617125251213, 0.08842305654655075, 0.36474510825452183, 0.9739212808711142, 0.9852289214975719, 0.9852289214975719, 0.7202164990858785, 0.09710784257337687, 0.05664624150113651, 0.12947712343116916, 0.826558242959076, 0.168237518478396, 0.971769060120529, 0.9561329216621157, 0.04218233477921099, 0.9757411089316183, 0.7552678450724147, 0.24336408341222254, 0.9827866509890507, 0.3545503994673565, 0.0870825542551402, 0.5598164202116155, 0.9923630462862586, 0.9929393995755414, 0.9959722518642378, 0.9844087589067809, 0.9839456385809339, 0.3212697747613738, 0.426300278048746, 0.11120876818662939, 0.13592182778365813], \"Term\": [\"00\", \"03\", \"11\", \"40\", \"59\", \"59p\", \"6th\", \"8\", \"80\", \"able\", \"aclu\", \"analytics\", \"android\", \"android\", \"android\", \"android\", \"app\", \"app\", \"app\", \"app\", \"apple\", \"apps\", \"apps\", \"apps\", \"apps\", \"artist\", \"artist\", \"away\", \"back\", \"back\", \"based\", \"battery\", \"begin\", \"best\", \"best\", \"best\", \"big\", \"big\", \"big\", \"bing\", \"bit\", \"block\", \"brain\", \"called\", \"camera\", \"case\", \"center\", \"chance\", \"charger\", \"check\", \"check\", \"checking\", \"classical\", \"code\", \"code\", \"come\", \"come\", \"come\", \"come\", \"conference\", \"congress\", \"cont\", \"convention\", \"cool\", \"cool\", \"cool\", \"core\", \"day\", \"day\", \"day\", \"day\", \"demo\", \"design\", \"designing\", \"digital\", \"digital\", \"downtown\", \"dude\", \"edchat\", \"else\", \"ever\", \"featured\", \"first\", \"first\", \"first\", \"first\", \"found\", \"foursquare\", \"free\", \"free\", \"friend\", \"friend\", \"future\", \"future\", \"game\", \"game\", \"game\", \"gave\", \"get\", \"get\", \"get\", \"get\", \"giving\", \"giving\", \"go\", \"go\", \"go\", \"go\", \"going\", \"going\", \"going\", \"going\", \"google\", \"google\", \"got\", \"got\", \"got\", \"great\", \"great\", \"great\", \"great\", \"gsdm\", \"gsdm\", \"gt\", \"gt\", \"gt\", \"guide\", \"guy\", \"guy\", \"happy\", \"hit\", \"hootsuite\", \"hot\", \"hotpot\", \"includes\", \"industry\", \"infektd\", \"interactive\", \"interactive\", \"interface\", \"ipad\", \"ipad\", \"ipad\", \"ipad2\", \"ipads\", \"iphone\", \"iphone\", \"iphone\", \"iphone\", \"itunes\", \"know\", \"know\", \"know\", \"launching\", \"like\", \"like\", \"like\", \"like\", \"line\", \"location\", \"long\", \"love\", \"love\", \"love\", \"major\", \"make\", \"make\", \"make\", \"man\", \"map\", \"map\", \"marissa\", \"marketing\", \"mashable\", \"may\", \"may\", \"mayer\", \"medium\", \"medium\", \"medium\", \"million\", \"mobile\", \"morning\", \"musedchat\", \"music\", \"navigation\", \"need\", \"need\", \"need\", \"need\", \"nerd\", \"network\", \"newtwitter\", \"next\", \"next\", \"one\", \"one\", \"one\", \"open\", \"opening\", \"party\", \"party\", \"people\", \"people\", \"people\", \"people\", \"phone\", \"phone\", \"photo\", \"photo\", \"photo\", \"physical\", \"plan\", \"popup\", \"possibly\", \"presentation\", \"preview\", \"product\", \"product\", \"q\", \"qagb\", \"ranking\", \"route\", \"rumor\", \"rumor\", \"sale\", \"sampler\", \"say\", \"say\", \"say\", \"say\", \"school\", \"screen\", \"search\", \"search\", \"see\", \"see\", \"see\", \"see\", \"sell\", \"seo\", \"set\", \"set\", \"shop\", \"show\", \"show\", \"showing\", \"smart\", \"social\", \"sold\", \"speak\", \"sponsored\", \"start\", \"still\", \"still\", \"take\", \"take\", \"talk\", \"talk\", \"talking\", \"tapworthy\", \"tech\", \"tech\", \"tech\", \"tech\", \"technews\", \"temp\", \"temporary\", \"thanks\", \"thanks\", \"thanks\", \"think\", \"think\", \"think\", \"think\", \"time\", \"time\", \"time\", \"time\", \"trade\", \"uberguide\", \"ubersocial\", \"use\", \"use\", \"use\", \"use\", \"user\", \"user\", \"uxdes\", \"v\", \"v\", \"valid\", \"video\", \"video\", \"wanna\", \"want\", \"want\", \"want\", \"website\", \"white\", \"win\", \"without\", \"world\", \"year\", \"year\", \"year\", \"year\"]}, \"R\": 30, \"lambda.step\": 0.01, \"plot.opts\": {\"xlab\": \"PC1\", \"ylab\": \"PC2\"}, \"topic.order\": [1, 2, 3, 4]};\n",
       "\n",
       "function LDAvis_load_lib(url, callback){\n",
       "  var s = document.createElement('script');\n",
       "  s.src = url;\n",
       "  s.async = true;\n",
       "  s.onreadystatechange = s.onload = callback;\n",
       "  s.onerror = function(){console.warn(\"failed to load library \" + url);};\n",
       "  document.getElementsByTagName(\"head\")[0].appendChild(s);\n",
       "}\n",
       "\n",
       "if(typeof(LDAvis) !== \"undefined\"){\n",
       "   // already loaded: just create the visualization\n",
       "   !function(LDAvis){\n",
       "       new LDAvis(\"#\" + \"ldavis_el1450421481883771528594180498\", ldavis_el1450421481883771528594180498_data);\n",
       "   }(LDAvis);\n",
       "}else if(typeof define === \"function\" && define.amd){\n",
       "   // require.js is available: use it to load d3/LDAvis\n",
       "   require.config({paths: {d3: \"https://d3js.org/d3.v5\"}});\n",
       "   require([\"d3\"], function(d3){\n",
       "      window.d3 = d3;\n",
       "      LDAvis_load_lib(\"https://cdn.jsdelivr.net/gh/bmabey/pyLDAvis@3.3.1/pyLDAvis/js/ldavis.v3.0.0.js\", function(){\n",
       "        new LDAvis(\"#\" + \"ldavis_el1450421481883771528594180498\", ldavis_el1450421481883771528594180498_data);\n",
       "      });\n",
       "    });\n",
       "}else{\n",
       "    // require.js not available: dynamically load d3 & LDAvis\n",
       "    LDAvis_load_lib(\"https://d3js.org/d3.v5.js\", function(){\n",
       "         LDAvis_load_lib(\"https://cdn.jsdelivr.net/gh/bmabey/pyLDAvis@3.3.1/pyLDAvis/js/ldavis.v3.0.0.js\", function(){\n",
       "                 new LDAvis(\"#\" + \"ldavis_el1450421481883771528594180498\", ldavis_el1450421481883771528594180498_data);\n",
       "            })\n",
       "         });\n",
       "}\n",
       "</script>"
      ],
      "text/plain": [
       "<IPython.core.display.HTML object>"
      ]
     },
     "execution_count": 37,
     "metadata": {},
     "output_type": "execute_result"
    }
   ],
   "source": [
    "lda_display = pyLDAvis.gensim_models.prepare(ldamodel, doc_term_matrix, dictionary, sort_topics=False, mds='mmds')\n",
    "pyLDAvis.display(lda_display)"
   ]
  },
  {
   "cell_type": "markdown",
   "metadata": {},
   "source": [
    "### Two Clusters, Negative data model"
   ]
  },
  {
   "cell_type": "code",
   "execution_count": 38,
   "metadata": {},
   "outputs": [
    {
     "name": "stdout",
     "output_type": "stream",
     "text": [
      "569\n"
     ]
    }
   ],
   "source": [
    "doc_term_matrix = [dictionary.doc2bow(doc) for doc in df_all[df_all['target']==0]['text']]\n",
    "print(len(doc_term_matrix))\n",
    "\n",
    "lda = gensim.models.ldamodel.LdaModel\n",
    "\n",
    "num_topics=2\n",
    "ldamodel = lda(doc_term_matrix,num_topics=num_topics,id2word=dictionary,passes=50,minimum_probability=0)"
   ]
  },
  {
   "cell_type": "code",
   "execution_count": 39,
   "metadata": {},
   "outputs": [
    {
     "data": {
      "text/plain": [
       "[(0,\n",
       "  '0.018*\"iphone\" + 0.007*\"app\" + 0.006*\"google\" + 0.003*\"android\" + 0.003*\"battery\" + 0.002*\"people\" + 0.002*\"phone\" + 0.002*\"say\" + 0.002*\"know\" + 0.002*\"go\"'),\n",
       " (1,\n",
       "  '0.024*\"ipad\" + 0.014*\"google\" + 0.014*\"apple\" + 0.007*\"iphone\" + 0.005*\"like\" + 0.004*\"social\" + 0.004*\"apps\" + 0.004*\"need\" + 0.004*\"design\" + 0.003*\"get\"')]"
      ]
     },
     "execution_count": 39,
     "metadata": {},
     "output_type": "execute_result"
    }
   ],
   "source": [
    "ldamodel.print_topics(num_topics=num_topics)"
   ]
  },
  {
   "cell_type": "code",
   "execution_count": 40,
   "metadata": {},
   "outputs": [
    {
     "data": {
      "text/html": [
       "\n",
       "<link rel=\"stylesheet\" type=\"text/css\" href=\"https://cdn.jsdelivr.net/gh/bmabey/pyLDAvis@3.3.1/pyLDAvis/js/ldavis.v1.0.0.css\">\n",
       "\n",
       "\n",
       "<div id=\"ldavis_el1450421481883784963744968936\"></div>\n",
       "<script type=\"text/javascript\">\n",
       "\n",
       "var ldavis_el1450421481883784963744968936_data = {\"mdsDat\": {\"x\": [-0.003052627117723097, 0.003052627117723097], \"y\": [-0.05387269371745913, 0.05387269371745913], \"topics\": [1, 2], \"cluster\": [1, 1], \"Freq\": [33.95291880450218, 66.04708119549781]}, \"tinfo\": {\"Term\": [\"ipad\", \"iphone\", \"app\", \"apple\", \"like\", \"battery\", \"social\", \"design\", \"apps\", \"android\", \"get\", \"know\", \"made\", \"day\", \"every\", \"great\", \"phone\", \"headache\", \"thanks\", \"network\", \"getting\", \"got\", \"long\", \"america\", \"company\", \"think\", \"thing\", \"news\", \"solution\", \"tag\", \"made\", \"know\", \"great\", \"every\", \"thanks\", \"battery\", \"solution\", \"got\", \"tag\", \"ppl\", \"title\", \"mistake\", \"6\", \"issue\", \"anything\", \"help\", \"socialviewing\", \"building\", \"netflix\", \"tell\", \"put\", \"worth\", \"something\", \"please\", \"fix\", \"fucking\", \"run\", \"dear\", \"check\", \"website\", \"getting\", \"iphone\", \"app\", \"android\", \"phone\", \"let\", \"tv\", \"hand\", \"room\", \"say\", \"go\", \"hey\", \"people\", \"google\", \"going\", \"would\", \"time\", \"life\", \"talk\", \"instead\", \"year\", \"apple\", \"look\", \"ipad\", \"like\", \"social\", \"design\", \"apps\", \"get\", \"day\", \"headache\", \"america\", \"company\", \"major\", \"fascist\", \"take\", \"thing\", \"long\", \"tapworthy\", \"called\", \"network\", \"japan\", \"bing\", \"button\", \"fast\", \"really\", \"yet\", \"money\", \"heard\", \"gave\", \"fade\", \"nothing\", \"best\", \"news\", \"apple\", \"much\", \"think\", \"google\", \"line\", \"need\", \"v\", \"one\", \"good\", \"iphone\", \"look\", \"people\", \"app\"], \"Freq\": [87.0, 56.0, 21.0, 53.0, 19.0, 5.0, 14.0, 13.0, 13.0, 8.0, 11.0, 3.0, 3.0, 10.0, 3.0, 2.0, 6.0, 7.0, 2.0, 8.0, 3.0, 2.0, 7.0, 7.0, 7.0, 10.0, 7.0, 8.0, 2.0, 2.0, 3.150021394097809, 3.4185722113774757, 2.5639687331550167, 3.110898136794326, 2.259816158171243, 5.077400032380167, 1.9606514829662727, 2.2287935050974514, 1.9496052433652158, 1.9361235601401219, 1.6594098888200832, 1.6587702773632653, 1.6552157276066721, 1.6549787077089617, 1.6549009489248303, 1.654336422291204, 1.357386321536637, 1.3571927267645902, 1.35688853696807, 1.356499636088975, 1.3534662947987819, 1.6224381004888224, 1.351941816187741, 1.342355666218293, 1.3421624992799965, 1.340994406183022, 1.6064005384389595, 1.3351372551818845, 1.3232398403344472, 1.320496463368574, 2.560113095396594, 33.46809945091266, 12.959439401017766, 5.5102278861281775, 3.9657630214382666, 1.7674479648841235, 2.130165846289891, 2.121515261774086, 2.8916502391578045, 3.7079131819230997, 3.306952738989006, 2.0014045729418277, 4.232185365809793, 11.166511369296021, 2.591841246324762, 3.0542424663171523, 3.1683587764728385, 1.9872633839905234, 2.432869134444253, 2.1831290975844113, 2.234535034027549, 3.2235856961406184, 1.9782296743512533, 87.3974292607607, 19.445780153749386, 14.10317393223056, 13.19900889511437, 13.601497060563903, 11.365694805169568, 10.034856542756977, 7.833318674800889, 6.938900899244457, 6.938864280433952, 6.49111068784948, 6.491040779211245, 6.487843291257643, 6.912167919207595, 7.763839475342663, 5.595762461607956, 6.024229176373388, 8.174897274695955, 5.148032171902896, 5.147767933895278, 5.14734265634601, 5.568866777538056, 6.422378845023825, 5.560968349785933, 6.413261177331038, 4.700445028457082, 4.7002498668420065, 4.700116291408234, 4.697763948956164, 4.690829261716864, 8.077196623778425, 50.745512022530775, 6.767788687967929, 10.023334933379136, 51.49975964944133, 9.16522803742074, 13.474637849536432, 5.830881024663665, 7.870060657668046, 6.240094983683483, 23.337956903467614, 6.916126079724859, 7.154556564516997, 8.088595060793661], \"Total\": [87.0, 56.0, 21.0, 53.0, 19.0, 5.0, 14.0, 13.0, 13.0, 8.0, 11.0, 3.0, 3.0, 10.0, 3.0, 2.0, 6.0, 7.0, 2.0, 8.0, 3.0, 2.0, 7.0, 7.0, 7.0, 10.0, 7.0, 8.0, 2.0, 2.0, 3.40196916142493, 3.719774801577976, 2.7899077822598572, 3.420714886043175, 2.489175086883538, 5.604300814580336, 2.186077842716372, 2.503976583889336, 2.1913309009492052, 2.1977862094679956, 1.8839724035482301, 1.8842677941201402, 1.8859574585460388, 1.8860662107262103, 1.8860977362046785, 1.8863733876061015, 1.5822283147716603, 1.5823140164527445, 1.582458693169362, 1.5826462004559008, 1.584077233125913, 1.9016195996833845, 1.5848075161594053, 1.5893705312675672, 1.5894836567520778, 1.5900137349845738, 1.909314329815566, 1.5928124073318055, 1.5985098627936023, 1.5998697171724048, 3.2391855292933696, 56.806056354380274, 21.048034461811426, 8.529550138141568, 6.589650182191294, 2.279202707712194, 2.999229776953946, 3.0034658928143934, 4.870075520429516, 7.609976178231861, 6.460463165666361, 3.0615734410800672, 11.38674193032679, 62.66627101873735, 5.015072305935329, 7.478319090053688, 9.214379474079207, 3.068398913848987, 5.53977234586767, 4.317120032520658, 6.97913735447896, 53.96909771867139, 8.894355754076113, 87.6491766400981, 19.61931961710599, 14.255783059918935, 13.357344176457438, 13.790321579882672, 11.552307664655357, 10.212983854596171, 7.98623243348934, 7.091004648315196, 7.090992790382995, 6.643201374621029, 6.643175265462988, 6.642125797071996, 7.082224829205913, 7.9634971730548, 5.747665476430939, 6.189120435039425, 8.399308457209326, 5.299880945428214, 5.299792560461807, 5.299651966164002, 5.7388266227542575, 6.6206794006005385, 5.736233881668836, 6.617689314948543, 4.852141961110429, 4.852077369008048, 4.852031004810329, 4.851257221829308, 4.848976055553281, 8.367414733731156, 53.96909771867139, 7.0350664591837315, 10.510976954184247, 62.66627101873735, 9.929385321644151, 15.258008396150004, 6.1259668398509515, 9.808995085548164, 6.8629996395074295, 56.806056354380274, 8.894355754076113, 11.38674193032679, 21.048034461811426], \"Category\": [\"Default\", \"Default\", \"Default\", \"Default\", \"Default\", \"Default\", \"Default\", \"Default\", \"Default\", \"Default\", \"Default\", \"Default\", \"Default\", \"Default\", \"Default\", \"Default\", \"Default\", \"Default\", \"Default\", \"Default\", \"Default\", \"Default\", \"Default\", \"Default\", \"Default\", \"Default\", \"Default\", \"Default\", \"Default\", \"Default\", \"Topic1\", \"Topic1\", \"Topic1\", \"Topic1\", \"Topic1\", \"Topic1\", \"Topic1\", \"Topic1\", \"Topic1\", \"Topic1\", \"Topic1\", \"Topic1\", \"Topic1\", \"Topic1\", \"Topic1\", \"Topic1\", \"Topic1\", \"Topic1\", \"Topic1\", \"Topic1\", \"Topic1\", \"Topic1\", \"Topic1\", \"Topic1\", \"Topic1\", \"Topic1\", \"Topic1\", \"Topic1\", \"Topic1\", \"Topic1\", \"Topic1\", \"Topic1\", \"Topic1\", \"Topic1\", \"Topic1\", \"Topic1\", \"Topic1\", \"Topic1\", \"Topic1\", \"Topic1\", \"Topic1\", \"Topic1\", \"Topic1\", \"Topic1\", \"Topic1\", \"Topic1\", \"Topic1\", \"Topic1\", \"Topic1\", \"Topic1\", \"Topic1\", \"Topic1\", \"Topic1\", \"Topic2\", \"Topic2\", \"Topic2\", \"Topic2\", \"Topic2\", \"Topic2\", \"Topic2\", \"Topic2\", \"Topic2\", \"Topic2\", \"Topic2\", \"Topic2\", \"Topic2\", \"Topic2\", \"Topic2\", \"Topic2\", \"Topic2\", \"Topic2\", \"Topic2\", \"Topic2\", \"Topic2\", \"Topic2\", \"Topic2\", \"Topic2\", \"Topic2\", \"Topic2\", \"Topic2\", \"Topic2\", \"Topic2\", \"Topic2\", \"Topic2\", \"Topic2\", \"Topic2\", \"Topic2\", \"Topic2\", \"Topic2\", \"Topic2\", \"Topic2\", \"Topic2\", \"Topic2\", \"Topic2\", \"Topic2\", \"Topic2\", \"Topic2\"], \"logprob\": [30.0, 29.0, 28.0, 27.0, 26.0, 25.0, 24.0, 23.0, 22.0, 21.0, 20.0, 19.0, 18.0, 17.0, 16.0, 15.0, 14.0, 13.0, 12.0, 11.0, 10.0, 9.0, 8.0, 7.0, 6.0, 5.0, 4.0, 3.0, 2.0, 1.0, -6.3688, -6.287, -6.5746, -6.3813, -6.7009, -5.8914, -6.8429, -6.7147, -6.8486, -6.8555, -7.0097, -7.0101, -7.0122, -7.0124, -7.0124, -7.0128, -7.2106, -7.2108, -7.211, -7.2113, -7.2135, -7.0322, -7.2146, -7.2218, -7.2219, -7.2228, -7.0422, -7.2271, -7.2361, -7.2382, -6.5761, -4.0056, -4.9544, -5.8096, -6.1385, -6.9466, -6.76, -6.764, -6.4544, -6.2057, -6.3202, -6.8223, -6.0735, -5.1033, -6.5638, -6.3996, -6.363, -6.8294, -6.6271, -6.7354, -6.7121, -6.3457, -6.834, -3.7111, -5.2139, -5.5352, -5.6014, -5.5714, -5.751, -5.8755, -6.1232, -6.2444, -6.2444, -6.3111, -6.3111, -6.3116, -6.2483, -6.1321, -6.4596, -6.3858, -6.0805, -6.543, -6.543, -6.5431, -6.4644, -6.3218, -6.4658, -6.3232, -6.6339, -6.634, -6.634, -6.6345, -6.636, -6.0925, -4.2547, -6.2694, -5.8767, -4.24, -5.9662, -5.5808, -6.4184, -6.1185, -6.3506, -5.0315, -6.2477, -6.2138, -6.0911], \"loglift\": [30.0, 29.0, 28.0, 27.0, 26.0, 25.0, 24.0, 23.0, 22.0, 21.0, 20.0, 19.0, 18.0, 17.0, 16.0, 15.0, 14.0, 13.0, 12.0, 11.0, 10.0, 9.0, 8.0, 7.0, 6.0, 5.0, 4.0, 3.0, 2.0, 1.0, 1.0033, 0.9958, 0.9957, 0.9853, 0.9835, 0.9815, 0.9714, 0.9638, 0.9633, 0.9534, 0.9533, 0.9527, 0.9497, 0.9495, 0.9494, 0.9489, 0.9269, 0.9267, 0.9264, 0.926, 0.9229, 0.9214, 0.9213, 0.9113, 0.9111, 0.9099, 0.9074, 0.9037, 0.8912, 0.8883, 0.8449, 0.5511, 0.5952, 0.6433, 0.5724, 0.8259, 0.738, 0.7326, 0.5589, 0.3612, 0.4105, 0.6551, 0.0905, -0.6447, 0.4201, 0.1847, 0.0126, 0.6458, 0.2573, 0.3984, -0.0587, -1.7377, -0.423, 0.4119, 0.4059, 0.404, 0.4029, 0.401, 0.3985, 0.3972, 0.3955, 0.3931, 0.3931, 0.3916, 0.3916, 0.3913, 0.3905, 0.3894, 0.388, 0.3878, 0.3877, 0.3857, 0.3857, 0.3856, 0.3847, 0.3844, 0.3838, 0.3834, 0.383, 0.383, 0.383, 0.3827, 0.3816, 0.3795, 0.3532, 0.3761, 0.3673, 0.2186, 0.3347, 0.2905, 0.3654, 0.1946, 0.3197, -0.4748, 0.1632, -0.0499, -0.5415]}, \"token.table\": {\"Topic\": [1, 2, 1, 2, 1, 1, 2, 1, 2, 2, 1, 2, 2, 2, 1, 2, 2, 1, 2, 2, 1, 2, 1, 2, 2, 2, 1, 1, 2, 2, 1, 2, 1, 2, 1, 2, 1, 2, 1, 2, 1, 1, 1, 2, 2, 2, 1, 1, 2, 1, 2, 2, 1, 2, 1, 2, 1, 1, 2, 1, 2, 2, 1, 2, 2, 1, 2, 1, 2, 1, 2, 2, 1, 2, 1, 2, 2, 2, 1, 2, 1, 2, 1, 2, 1, 1, 1, 2, 1, 2, 1, 1, 2, 2, 1, 1, 1, 1, 2, 1, 2, 2, 1, 1, 2, 2, 1, 2, 1, 1, 2, 2, 1, 1, 1, 2, 1, 2, 2], \"Freq\": [1.0604693074794387, 0.9871661840841102, 0.7034368639407858, 0.3517184319703929, 1.0603904355585108, 0.6176348686423235, 0.3800829960875837, 0.055587366230177064, 0.94498522591301, 1.015204752035892, 0.8921719524747553, 0.17843439049495108, 1.0311455331427672, 0.9434331519504446, 0.6319858066111398, 0.9434581802584111, 0.969443083710453, 0.6255826274680414, 0.9871678348754773, 0.9791457758448995, 0.627820322968947, 0.9732473632679718, 0.877009660243907, 1.030496300424085, 0.9031825535588722, 1.0455098915534753, 0.6291351255812104, 0.6289253847292722, 1.0304864534800675, 0.9521907067671718, 0.9261587435698541, 0.30871958118995135, 0.4643629911773619, 0.4643629911773619, 0.5981967590875023, 0.39879783939166813, 0.14570888132405205, 0.8742532879443122, 0.17553302312676267, 0.8138349254058996, 0.7987295140330236, 1.0753043591892366, 0.6658973570450314, 0.3329486785225157, 1.00172391257396, 1.03047273556187, 1.0602354831447744, 0.653258867863198, 0.326629433931599, 0.46327180734704987, 0.46327180734704987, 0.992593465620747, 0.5809239739180626, 0.40488640606410425, 1.0604081599181614, 0.9434174185201467, 0.8065004361896752, 0.8774998350223747, 0.43874991751118736, 0.6518057319643645, 0.32590286598218227, 0.9684331756048253, 0.10071116867830603, 0.9064005181047542, 1.0045837684313759, 0.22486170502944391, 0.7870159676030537, 0.8818422089233273, 0.9031790038642745, 1.0614202536608661, 0.9066608773014987, 0.9950154757759317, 0.13107870621598638, 0.8520115904039115, 0.631928027136804, 0.9524593650484892, 0.9560898144261913, 1.030660666167399, 0.20389448486386233, 0.8155779394554493, 0.35128573427545867, 0.6147500349820526, 0.6070124952626631, 0.45525937144699735, 0.6291799050800773, 0.910006620017935, 0.631282351067357, 0.906251403663461, 0.6160068745166841, 0.4106712496777894, 1.0474964592096232, 0.5256258240915256, 0.5256258240915256, 0.9820575931294798, 0.632020038235958, 0.914880504673541, 0.6309914546741818, 0.9126873532124575, 0.9033252581041058, 0.36102566588171753, 0.5415384988225763, 1.0439020893967808, 0.6318531581549545, 0.8034790363035538, 0.9883899719101219, 0.9513863500594171, 0.3255780824350942, 0.6511561648701883, 1.0615866751727605, 0.6668378712988186, 0.3334189356494093, 0.9794372311923882, 0.6250508958738159, 1.0517350580173845, 0.40115966755016635, 0.5348795567335551, 0.28656836775342615, 0.7164209193835653, 1.0459824553482862], \"Term\": [\"6\", \"america\", \"android\", \"android\", \"anything\", \"app\", \"app\", \"apple\", \"apple\", \"apps\", \"battery\", \"battery\", \"best\", \"bing\", \"building\", \"button\", \"called\", \"check\", \"company\", \"day\", \"dear\", \"design\", \"every\", \"fade\", \"fascist\", \"fast\", \"fix\", \"fucking\", \"gave\", \"get\", \"getting\", \"getting\", \"go\", \"go\", \"going\", \"going\", \"good\", \"good\", \"google\", \"google\", \"got\", \"great\", \"hand\", \"hand\", \"headache\", \"heard\", \"help\", \"hey\", \"hey\", \"instead\", \"instead\", \"ipad\", \"iphone\", \"iphone\", \"issue\", \"japan\", \"know\", \"let\", \"let\", \"life\", \"life\", \"like\", \"line\", \"line\", \"long\", \"look\", \"look\", \"made\", \"major\", \"mistake\", \"money\", \"much\", \"need\", \"need\", \"netflix\", \"network\", \"news\", \"nothing\", \"one\", \"one\", \"people\", \"people\", \"phone\", \"phone\", \"please\", \"ppl\", \"put\", \"really\", \"room\", \"room\", \"run\", \"say\", \"say\", \"social\", \"socialviewing\", \"solution\", \"something\", \"tag\", \"take\", \"talk\", \"talk\", \"tapworthy\", \"tell\", \"thanks\", \"thing\", \"think\", \"time\", \"time\", \"title\", \"tv\", \"tv\", \"v\", \"website\", \"worth\", \"would\", \"would\", \"year\", \"year\", \"yet\"]}, \"R\": 30, \"lambda.step\": 0.01, \"plot.opts\": {\"xlab\": \"PC1\", \"ylab\": \"PC2\"}, \"topic.order\": [1, 2]};\n",
       "\n",
       "function LDAvis_load_lib(url, callback){\n",
       "  var s = document.createElement('script');\n",
       "  s.src = url;\n",
       "  s.async = true;\n",
       "  s.onreadystatechange = s.onload = callback;\n",
       "  s.onerror = function(){console.warn(\"failed to load library \" + url);};\n",
       "  document.getElementsByTagName(\"head\")[0].appendChild(s);\n",
       "}\n",
       "\n",
       "if(typeof(LDAvis) !== \"undefined\"){\n",
       "   // already loaded: just create the visualization\n",
       "   !function(LDAvis){\n",
       "       new LDAvis(\"#\" + \"ldavis_el1450421481883784963744968936\", ldavis_el1450421481883784963744968936_data);\n",
       "   }(LDAvis);\n",
       "}else if(typeof define === \"function\" && define.amd){\n",
       "   // require.js is available: use it to load d3/LDAvis\n",
       "   require.config({paths: {d3: \"https://d3js.org/d3.v5\"}});\n",
       "   require([\"d3\"], function(d3){\n",
       "      window.d3 = d3;\n",
       "      LDAvis_load_lib(\"https://cdn.jsdelivr.net/gh/bmabey/pyLDAvis@3.3.1/pyLDAvis/js/ldavis.v3.0.0.js\", function(){\n",
       "        new LDAvis(\"#\" + \"ldavis_el1450421481883784963744968936\", ldavis_el1450421481883784963744968936_data);\n",
       "      });\n",
       "    });\n",
       "}else{\n",
       "    // require.js not available: dynamically load d3 & LDAvis\n",
       "    LDAvis_load_lib(\"https://d3js.org/d3.v5.js\", function(){\n",
       "         LDAvis_load_lib(\"https://cdn.jsdelivr.net/gh/bmabey/pyLDAvis@3.3.1/pyLDAvis/js/ldavis.v3.0.0.js\", function(){\n",
       "                 new LDAvis(\"#\" + \"ldavis_el1450421481883784963744968936\", ldavis_el1450421481883784963744968936_data);\n",
       "            })\n",
       "         });\n",
       "}\n",
       "</script>"
      ],
      "text/plain": [
       "<IPython.core.display.HTML object>"
      ]
     },
     "execution_count": 40,
     "metadata": {},
     "output_type": "execute_result"
    }
   ],
   "source": [
    "lda_display = pyLDAvis.gensim_models.prepare(ldamodel, doc_term_matrix, dictionary, sort_topics=False, mds='mmds')\n",
    "pyLDAvis.display(lda_display)"
   ]
  },
  {
   "cell_type": "markdown",
   "metadata": {},
   "source": [
    "### Two Clusters, Positive data model"
   ]
  },
  {
   "cell_type": "code",
   "execution_count": 41,
   "metadata": {},
   "outputs": [
    {
     "name": "stdout",
     "output_type": "stream",
     "text": [
      "2968\n",
      "Wall time: 39.2 s\n"
     ]
    }
   ],
   "source": [
    "doc_term_matrix = [dictionary.doc2bow(doc) for doc in df_all[df_all['target']==2]['text']]\n",
    "print(len(doc_term_matrix))\n",
    "\n",
    "lda = gensim.models.ldamodel.LdaModel\n",
    "\n",
    "num_topics=2\n",
    "%time ldamodel = lda(doc_term_matrix,num_topics=num_topics,id2word=dictionary,passes=50,minimum_probability=0)"
   ]
  },
  {
   "cell_type": "code",
   "execution_count": 42,
   "metadata": {},
   "outputs": [
    {
     "data": {
      "text/plain": [
       "[(0,\n",
       "  '0.036*\"google\" + 0.028*\"ipad\" + 0.018*\"iphone\" + 0.015*\"app\" + 0.009*\"android\" + 0.008*\"party\" + 0.007*\"great\" + 0.006*\"social\" + 0.006*\"one\" + 0.006*\"map\"'),\n",
       " (1,\n",
       "  '0.063*\"apple\" + 0.031*\"ipad\" + 0.015*\"ipad2\" + 0.012*\"iphone\" + 0.009*\"line\" + 0.009*\"get\" + 0.007*\"app\" + 0.006*\"downtown\" + 0.006*\"temporary\" + 0.006*\"opening\"')]"
      ]
     },
     "execution_count": 42,
     "metadata": {},
     "output_type": "execute_result"
    }
   ],
   "source": [
    "ldamodel.print_topics(num_topics=num_topics)"
   ]
  },
  {
   "cell_type": "code",
   "execution_count": 43,
   "metadata": {},
   "outputs": [
    {
     "data": {
      "text/html": [
       "\n",
       "<link rel=\"stylesheet\" type=\"text/css\" href=\"https://cdn.jsdelivr.net/gh/bmabey/pyLDAvis@3.3.1/pyLDAvis/js/ldavis.v1.0.0.css\">\n",
       "\n",
       "\n",
       "<div id=\"ldavis_el1450421481963729922793108517\"></div>\n",
       "<script type=\"text/javascript\">\n",
       "\n",
       "var ldavis_el1450421481963729922793108517_data = {\"mdsDat\": {\"x\": [-0.038183469943969116, 0.038183469943969116], \"y\": [0.12053561529850831, -0.12053561529850831], \"topics\": [1, 2], \"cluster\": [1, 1], \"Freq\": [60.04121451831842, 39.95878548168159]}, \"tinfo\": {\"Term\": [\"apple\", \"google\", \"ipad2\", \"line\", \"downtown\", \"temporary\", \"opening\", \"party\", \"open\", \"great\", \"popup\", \"social\", \"even\", \"map\", \"mobile\", \"come\", \"network\", \"marketing\", \"shop\", \"smart\", \"good\", \"begin\", \"get\", \"set\", \"buy\", \"see\", \"ipad\", \"called\", \"everyone\", \"mayer\", \"google\", \"social\", \"map\", \"network\", \"mobile\", \"called\", \"mayer\", \"major\", \"marissa\", \"ever\", \"great\", \"using\", \"case\", \"team\", \"possibly\", \"fun\", \"use\", \"heard\", \"panel\", \"party\", \"session\", \"design\", \"come\", \"good\", \"search\", \"location\", \"work\", \"technology\", \"talk\", \"see\", \"thing\", \"thanks\", \"conference\", \"android\", \"app\", \"iphone\", \"ipad\", \"like\", \"one\", \"cool\", \"year\", \"awesome\", \"check\", \"go\", \"apps\", \"people\", \"love\", \"time\", \"get\", \"apple\", \"ipad2\", \"line\", \"downtown\", \"temporary\", \"opening\", \"open\", \"popup\", \"shop\", \"even\", \"begin\", \"marketing\", \"smart\", \"buy\", \"temp\", \"school\", \"attendee\", \"expert\", \"everyone\", \"congress\", \"also\", \"sell\", \"guide\", \"route\", \"sold\", \"6th\", \"move\", \"genius\", \"live\", \"block\", \"rumor\", \"set\", \"ipads\", \"hot\", \"get\", \"ipad\", \"video\", \"day\", \"free\", \"iphone\", \"time\", \"win\", \"app\", \"around\", \"tech\", \"got\", \"one\"], \"Freq\": [660.0, 573.0, 155.0, 97.0, 65.0, 60.0, 58.0, 119.0, 57.0, 111.0, 53.0, 99.0, 50.0, 90.0, 77.0, 84.0, 74.0, 36.0, 35.0, 35.0, 69.0, 33.0, 146.0, 34.0, 30.0, 60.0, 773.0, 53.0, 28.0, 50.0, 573.3304369590918, 99.11087097385916, 89.63767269556075, 73.96905989827368, 77.20422343495854, 53.4820300607446, 50.54562304755192, 47.77459983120017, 43.2512523677404, 45.30139304037472, 110.73584332832174, 39.837040563390275, 42.65627685081238, 39.069358767808986, 35.14950278683532, 40.4360078244156, 43.812982935898525, 39.561235650393165, 34.24530848428706, 118.37646751244834, 31.364690409756943, 28.871732381003856, 83.34850543802186, 68.59562884916882, 29.501076557551606, 28.570781683548354, 30.76472429464288, 39.41641649655582, 25.34859406937299, 59.3415358253005, 36.48512493831028, 57.20246041619105, 37.02181070909619, 143.04270652954534, 243.89221524614211, 285.8924285735328, 445.60813975369075, 71.0683362129499, 89.80629542367474, 74.68161743383234, 48.468476591944686, 58.33910862983335, 55.37942317521215, 60.359724350726815, 50.39649266319918, 50.4205643122864, 49.1265488403169, 52.782270343197986, 55.94805024329184, 660.4351247684382, 154.83937358131152, 97.28194254773783, 65.36983689751533, 60.34429059035729, 58.47731220068645, 57.3882984993567, 53.10193595670653, 35.387578334007166, 50.197125495836744, 32.65203726970218, 35.57614532160972, 34.568095474877126, 30.38775481632133, 23.837962765993467, 23.18355300608629, 21.098499129042125, 20.80873954304562, 27.61665886923805, 19.72440360124554, 25.472693083383692, 19.039680053289107, 17.676148587962224, 22.057540035415013, 16.320300965875298, 17.160838630829854, 16.301454287394076, 19.346742950398507, 23.63615190227216, 14.721365040371992, 26.140681543367595, 33.80714815310087, 24.480624359725553, 18.98622430861161, 90.39809883411135, 328.1568455653758, 34.06750921799894, 58.01107594913194, 52.982958585011936, 123.76721171121302, 53.3928026613378, 46.97079116443173, 72.82143450916625, 30.175342008587638, 27.416497685601662, 29.18354456565457, 27.60529929437185], \"Total\": [660.0, 573.0, 155.0, 97.0, 65.0, 60.0, 58.0, 119.0, 57.0, 111.0, 53.0, 99.0, 50.0, 90.0, 77.0, 84.0, 74.0, 36.0, 35.0, 35.0, 69.0, 33.0, 146.0, 34.0, 30.0, 60.0, 773.0, 53.0, 28.0, 50.0, 573.758978058893, 99.5254952273533, 90.05419728886382, 74.3312813001297, 77.62728526746847, 53.85002549564598, 50.92192588185314, 48.15397767681708, 43.6232689360358, 45.698761258310256, 111.7102138868837, 40.225369030891976, 43.08280056753014, 39.46895722338339, 35.50932027639909, 40.851135344896754, 44.275470060337824, 39.999732302197586, 34.62523305374137, 119.69859597909591, 31.732250436039617, 29.24534856617604, 84.45264204691152, 69.52427424722899, 29.903780955943294, 28.96211810592526, 31.191340729491337, 39.98676898439736, 25.722469850036315, 60.21749303816712, 37.0591714111827, 59.25628126678309, 38.112195096003894, 163.5787649524217, 316.7136497553084, 409.6596402847458, 773.7649853190666, 84.9033892429593, 117.41159471804659, 94.75512389067717, 53.78481995057486, 71.67560267649114, 67.02409697567441, 81.358617018227, 60.78743892677177, 62.168482424374155, 73.14310230634756, 106.17507300453579, 146.3461490774032, 660.931280749283, 155.26780635982666, 97.7395179328525, 65.77121512088526, 60.74332970034361, 58.876145578174196, 57.816337399546235, 53.50644449285285, 35.78518480446638, 50.79427315318201, 33.0579019017546, 36.02002255441164, 35.013720702334346, 30.820234250661883, 24.24007024809736, 23.58020316900472, 21.51310634511676, 21.22640090123932, 28.189416022247293, 20.133759087185723, 26.0016619489309, 19.443896702328956, 18.096105308032026, 22.58408836674038, 16.715316429025727, 17.57768354285922, 16.71681514828883, 19.85459248989549, 24.257990098881656, 15.136569141767067, 26.913196489086936, 34.95874394735223, 25.24704416100377, 19.761735414944006, 146.3461490774032, 773.7649853190666, 43.20849027889663, 94.56540458340694, 94.51024020718549, 409.6596402847458, 106.17507300453579, 88.63363050657567, 316.7136497553084, 48.29874338831007, 36.764196557713056, 57.925301058360446, 117.41159471804659], \"Category\": [\"Default\", \"Default\", \"Default\", \"Default\", \"Default\", \"Default\", \"Default\", \"Default\", \"Default\", \"Default\", \"Default\", \"Default\", \"Default\", \"Default\", \"Default\", \"Default\", \"Default\", \"Default\", \"Default\", \"Default\", \"Default\", \"Default\", \"Default\", \"Default\", \"Default\", \"Default\", \"Default\", \"Default\", \"Default\", \"Default\", \"Topic1\", \"Topic1\", \"Topic1\", \"Topic1\", \"Topic1\", \"Topic1\", \"Topic1\", \"Topic1\", \"Topic1\", \"Topic1\", \"Topic1\", \"Topic1\", \"Topic1\", \"Topic1\", \"Topic1\", \"Topic1\", \"Topic1\", \"Topic1\", \"Topic1\", \"Topic1\", \"Topic1\", \"Topic1\", \"Topic1\", \"Topic1\", \"Topic1\", \"Topic1\", \"Topic1\", \"Topic1\", \"Topic1\", \"Topic1\", \"Topic1\", \"Topic1\", \"Topic1\", \"Topic1\", \"Topic1\", \"Topic1\", \"Topic1\", \"Topic1\", \"Topic1\", \"Topic1\", \"Topic1\", \"Topic1\", \"Topic1\", \"Topic1\", \"Topic1\", \"Topic1\", \"Topic1\", \"Topic1\", \"Topic1\", \"Topic2\", \"Topic2\", \"Topic2\", \"Topic2\", \"Topic2\", \"Topic2\", \"Topic2\", \"Topic2\", \"Topic2\", \"Topic2\", \"Topic2\", \"Topic2\", \"Topic2\", \"Topic2\", \"Topic2\", \"Topic2\", \"Topic2\", \"Topic2\", \"Topic2\", \"Topic2\", \"Topic2\", \"Topic2\", \"Topic2\", \"Topic2\", \"Topic2\", \"Topic2\", \"Topic2\", \"Topic2\", \"Topic2\", \"Topic2\", \"Topic2\", \"Topic2\", \"Topic2\", \"Topic2\", \"Topic2\", \"Topic2\", \"Topic2\", \"Topic2\", \"Topic2\", \"Topic2\", \"Topic2\", \"Topic2\", \"Topic2\", \"Topic2\", \"Topic2\", \"Topic2\", \"Topic2\"], \"logprob\": [30.0, 29.0, 28.0, 27.0, 26.0, 25.0, 24.0, 23.0, 22.0, 21.0, 20.0, 19.0, 18.0, 17.0, 16.0, 15.0, 14.0, 13.0, 12.0, 11.0, 10.0, 9.0, 8.0, 7.0, 6.0, 5.0, 4.0, 3.0, 2.0, 1.0, -3.3145, -5.0698, -5.1702, -5.3624, -5.3196, -5.6867, -5.7431, -5.7995, -5.899, -5.8527, -4.9589, -5.9812, -5.9128, -6.0007, -6.1064, -5.9663, -5.8861, -5.9882, -6.1325, -4.8921, -6.2203, -6.3031, -5.243, -5.4378, -6.2816, -6.3136, -6.2396, -5.9918, -6.4333, -5.5827, -6.0691, -5.6194, -6.0545, -4.7029, -4.1693, -4.0104, -3.5666, -5.4024, -5.1684, -5.3528, -5.7851, -5.5997, -5.6518, -5.5657, -5.7461, -5.7456, -5.7716, -5.6998, -5.6416, -2.7659, -4.2164, -4.6812, -5.0788, -5.1588, -5.1902, -5.209, -5.2866, -5.6925, -5.3429, -5.7729, -5.6871, -5.7159, -5.8448, -6.0875, -6.1154, -6.2096, -6.2235, -5.9404, -6.277, -6.0212, -6.3123, -6.3866, -6.1652, -6.4664, -6.4162, -6.4676, -6.2963, -6.096, -6.5695, -5.9953, -5.7382, -6.0609, -6.3151, -4.7546, -3.4653, -5.7305, -5.1982, -5.2889, -4.4404, -5.2811, -5.4093, -4.9708, -5.8518, -5.9477, -5.8852, -5.9408], \"loglift\": [30.0, 29.0, 28.0, 27.0, 26.0, 25.0, 24.0, 23.0, 22.0, 21.0, 20.0, 19.0, 18.0, 17.0, 16.0, 15.0, 14.0, 13.0, 12.0, 11.0, 10.0, 9.0, 8.0, 7.0, 6.0, 5.0, 4.0, 3.0, 2.0, 1.0, 0.5094, 0.506, 0.5055, 0.5053, 0.5047, 0.5033, 0.5027, 0.5022, 0.5016, 0.5014, 0.5014, 0.5004, 0.5002, 0.5, 0.5, 0.4999, 0.4996, 0.4991, 0.4991, 0.499, 0.4985, 0.4973, 0.497, 0.4967, 0.4966, 0.4965, 0.4964, 0.4958, 0.4955, 0.4955, 0.4945, 0.4749, 0.4811, 0.376, 0.2489, 0.1504, -0.0417, 0.3323, 0.2421, 0.2721, 0.4061, 0.3043, 0.3193, 0.2116, 0.3227, 0.3007, 0.1121, -0.1888, -0.4514, 0.9166, 0.9146, 0.9126, 0.9112, 0.9107, 0.9105, 0.9099, 0.9097, 0.9061, 0.9055, 0.905, 0.9049, 0.9045, 0.9032, 0.9006, 0.9004, 0.8979, 0.8974, 0.8968, 0.8968, 0.8968, 0.8963, 0.8938, 0.8937, 0.8934, 0.8933, 0.8922, 0.8914, 0.8914, 0.8895, 0.8882, 0.8838, 0.8865, 0.8773, 0.4356, 0.0595, 0.6796, 0.4287, 0.3386, -0.2796, 0.2299, 0.2823, -0.5527, 0.4469, 0.6239, 0.2318, -0.5304]}, \"token.table\": {\"Topic\": [2, 1, 2, 1, 2, 1, 2, 2, 1, 2, 1, 2, 2, 1, 2, 2, 2, 2, 1, 1, 1, 2, 1, 2, 1, 2, 2, 1, 2, 1, 2, 1, 2, 1, 2, 1, 1, 2, 2, 1, 2, 1, 1, 2, 1, 2, 1, 2, 1, 2, 1, 1, 2, 1, 2, 2, 1, 1, 2, 1, 2, 2, 1, 2, 1, 2, 1, 2, 2, 1, 2, 1, 1, 2, 1, 1, 1, 2, 1, 1, 2, 1, 1, 2, 2, 2, 1, 1, 2, 1, 2, 2, 1, 1, 2, 1, 2, 2, 1, 1, 2, 2, 1, 1, 2, 2, 2, 1, 2, 1, 1, 1, 2, 1, 2, 2, 2, 1, 2, 1, 2, 1, 2, 1, 1, 1, 2, 1, 2, 1, 1, 2], \"Freq\": [0.9671353997555668, 0.038459080114343104, 0.9614770028585775, 0.8741965990609649, 0.12837852154042143, 0.7704120115710622, 0.23049211821593257, 0.9985909567659935, 0.8225383546793775, 0.1645076709358755, 0.3726805034094657, 0.6211341723491095, 0.9761491280298891, 0.8092014274617799, 0.18137273374143342, 0.9982484701561921, 0.9909775365548178, 0.9733865017380824, 0.9842149472015624, 0.9980781061945971, 0.8206003882448665, 0.17904008470797086, 0.9827993297580363, 0.011840955780217306, 0.9708178683174166, 0.026238320765335586, 0.9933564772178657, 0.7915139247406878, 0.2110703799308501, 0.3912635933087549, 0.6133321192407509, 0.9916106807336945, 0.9882742759204343, 0.019687258777859977, 0.984362938892999, 0.9847094048269593, 0.03547430706655266, 0.9932805978634746, 0.9893339948542054, 0.44439628878233234, 0.5607857929872289, 0.9791649525108467, 0.05036618104899033, 0.9569574399308163, 0.3826544145714509, 0.614980309132689, 0.7374756626769853, 0.2581164819369448, 0.992459119452802, 0.01438346549931597, 0.9986771831240694, 0.5006447868226381, 0.5006447868226381, 0.9936423549631473, 0.008951732927595922, 0.9946891717087119, 1.0000066924898494, 0.05060284327275179, 0.9614540221822839, 0.576402407012627, 0.4239013217491966, 0.998275197118416, 0.03960859709449021, 0.9506063302677651, 0.6981405339349696, 0.30269030142635045, 0.8362445908587535, 0.1648932996059514, 0.9924337878015672, 0.041223530718074705, 0.9893647372337929, 1.0013079807884282, 0.6699196295335104, 0.3281239001796785, 0.9968023892470422, 0.9993981703185919, 0.985712466047657, 0.9994441270995488, 1.0015332122026963, 0.9919192682662143, 0.9571201127768524, 0.9955431778608513, 0.7665341759144566, 0.23847729917338648, 0.9858805065096938, 0.9851188359976644, 0.9819428492287415, 0.985809390952317, 0.008354316872477263, 0.8042660533144476, 0.1930238527954674, 0.9905348879438158, 0.985656715689441, 0.04427896241641976, 0.9741371731612346, 0.037156493113164435, 0.9660688209422753, 0.9753944796469195, 1.0032176213502388, 0.9797817382169091, 0.016606470139269646, 0.9771703836363321, 0.9769240937539062, 0.028605146726838844, 0.9725749887125207, 0.9780583834132279, 0.9996081335528152, 0.9947199938452668, 0.9572059295399519, 0.971912889615641, 0.9881183275066219, 0.24480339141565757, 0.7344101742469727, 0.975322612717662, 0.02500827212096569, 0.9900961405787921, 0.9877627765219561, 0.9619233401329239, 0.03375169614501487, 0.9714194524364597, 0.026983873678790547, 0.4991755456361762, 0.4991755456361762, 0.9937782690965806, 0.9943973408741409, 0.20829239674674935, 0.786882387709942, 0.47386076548995754, 0.5302727613816192, 0.9938655817603113, 0.8924451182342755, 0.0929630331494037], \"Term\": [\"6th\", \"also\", \"also\", \"android\", \"android\", \"app\", \"app\", \"apple\", \"apps\", \"apps\", \"around\", \"around\", \"attendee\", \"awesome\", \"awesome\", \"begin\", \"block\", \"buy\", \"called\", \"case\", \"check\", \"check\", \"come\", \"come\", \"conference\", \"conference\", \"congress\", \"cool\", \"cool\", \"day\", \"day\", \"design\", \"downtown\", \"even\", \"even\", \"ever\", \"everyone\", \"everyone\", \"expert\", \"free\", \"free\", \"fun\", \"genius\", \"genius\", \"get\", \"get\", \"go\", \"go\", \"good\", \"good\", \"google\", \"got\", \"got\", \"great\", \"great\", \"guide\", \"heard\", \"hot\", \"hot\", \"ipad\", \"ipad\", \"ipad2\", \"ipads\", \"ipads\", \"iphone\", \"iphone\", \"like\", \"like\", \"line\", \"live\", \"live\", \"location\", \"love\", \"love\", \"major\", \"map\", \"marissa\", \"marketing\", \"mayer\", \"mobile\", \"move\", \"network\", \"one\", \"one\", \"open\", \"opening\", \"panel\", \"party\", \"party\", \"people\", \"people\", \"popup\", \"possibly\", \"route\", \"route\", \"rumor\", \"rumor\", \"school\", \"search\", \"see\", \"see\", \"sell\", \"session\", \"set\", \"set\", \"shop\", \"smart\", \"social\", \"sold\", \"talk\", \"team\", \"tech\", \"tech\", \"technology\", \"technology\", \"temp\", \"temporary\", \"thanks\", \"thanks\", \"thing\", \"thing\", \"time\", \"time\", \"use\", \"using\", \"video\", \"video\", \"win\", \"win\", \"work\", \"year\", \"year\"]}, \"R\": 30, \"lambda.step\": 0.01, \"plot.opts\": {\"xlab\": \"PC1\", \"ylab\": \"PC2\"}, \"topic.order\": [1, 2]};\n",
       "\n",
       "function LDAvis_load_lib(url, callback){\n",
       "  var s = document.createElement('script');\n",
       "  s.src = url;\n",
       "  s.async = true;\n",
       "  s.onreadystatechange = s.onload = callback;\n",
       "  s.onerror = function(){console.warn(\"failed to load library \" + url);};\n",
       "  document.getElementsByTagName(\"head\")[0].appendChild(s);\n",
       "}\n",
       "\n",
       "if(typeof(LDAvis) !== \"undefined\"){\n",
       "   // already loaded: just create the visualization\n",
       "   !function(LDAvis){\n",
       "       new LDAvis(\"#\" + \"ldavis_el1450421481963729922793108517\", ldavis_el1450421481963729922793108517_data);\n",
       "   }(LDAvis);\n",
       "}else if(typeof define === \"function\" && define.amd){\n",
       "   // require.js is available: use it to load d3/LDAvis\n",
       "   require.config({paths: {d3: \"https://d3js.org/d3.v5\"}});\n",
       "   require([\"d3\"], function(d3){\n",
       "      window.d3 = d3;\n",
       "      LDAvis_load_lib(\"https://cdn.jsdelivr.net/gh/bmabey/pyLDAvis@3.3.1/pyLDAvis/js/ldavis.v3.0.0.js\", function(){\n",
       "        new LDAvis(\"#\" + \"ldavis_el1450421481963729922793108517\", ldavis_el1450421481963729922793108517_data);\n",
       "      });\n",
       "    });\n",
       "}else{\n",
       "    // require.js not available: dynamically load d3 & LDAvis\n",
       "    LDAvis_load_lib(\"https://d3js.org/d3.v5.js\", function(){\n",
       "         LDAvis_load_lib(\"https://cdn.jsdelivr.net/gh/bmabey/pyLDAvis@3.3.1/pyLDAvis/js/ldavis.v3.0.0.js\", function(){\n",
       "                 new LDAvis(\"#\" + \"ldavis_el1450421481963729922793108517\", ldavis_el1450421481963729922793108517_data);\n",
       "            })\n",
       "         });\n",
       "}\n",
       "</script>"
      ],
      "text/plain": [
       "<IPython.core.display.HTML object>"
      ]
     },
     "execution_count": 43,
     "metadata": {},
     "output_type": "execute_result"
    }
   ],
   "source": [
    "lda_display = pyLDAvis.gensim_models.prepare(ldamodel, doc_term_matrix, dictionary, sort_topics=False, mds='mmds')\n",
    "pyLDAvis.display(lda_display)"
   ]
  },
  {
   "cell_type": "markdown",
   "metadata": {},
   "source": [
    "### Two Clusters, Neutral data model"
   ]
  },
  {
   "cell_type": "code",
   "execution_count": 44,
   "metadata": {},
   "outputs": [
    {
     "name": "stdout",
     "output_type": "stream",
     "text": [
      "5372\n"
     ]
    }
   ],
   "source": [
    "doc_term_matrix = [dictionary.doc2bow(doc) for doc in df_all[df_all['target']==1]['text']]\n",
    "print(len(doc_term_matrix))\n",
    "\n",
    "lda = gensim.models.ldamodel.LdaModel\n",
    "\n",
    "num_topics=2\n",
    "ldamodel = lda(doc_term_matrix,num_topics=num_topics,id2word=dictionary,passes=50,minimum_probability=0)"
   ]
  },
  {
   "cell_type": "code",
   "execution_count": 45,
   "metadata": {},
   "outputs": [
    {
     "data": {
      "text/plain": [
       "[(0,\n",
       "  '0.046*\"apple\" + 0.042*\"ipad\" + 0.019*\"iphone\" + 0.010*\"line\" + 0.009*\"ipad2\" + 0.008*\"android\" + 0.006*\"temporary\" + 0.006*\"open\" + 0.006*\"opening\" + 0.006*\"get\"'),\n",
       " (1,\n",
       "  '0.064*\"google\" + 0.018*\"social\" + 0.013*\"network\" + 0.013*\"iphone\" + 0.010*\"called\" + 0.010*\"free\" + 0.009*\"party\" + 0.009*\"app\" + 0.009*\"major\" + 0.007*\"possibly\"')]"
      ]
     },
     "execution_count": 45,
     "metadata": {},
     "output_type": "execute_result"
    }
   ],
   "source": [
    "ldamodel.print_topics(num_topics=num_topics)"
   ]
  },
  {
   "cell_type": "code",
   "execution_count": 46,
   "metadata": {},
   "outputs": [
    {
     "data": {
      "text/html": [
       "\n",
       "<link rel=\"stylesheet\" type=\"text/css\" href=\"https://cdn.jsdelivr.net/gh/bmabey/pyLDAvis@3.3.1/pyLDAvis/js/ldavis.v1.0.0.css\">\n",
       "\n",
       "\n",
       "<div id=\"ldavis_el1450421481883784967164522574\"></div>\n",
       "<script type=\"text/javascript\">\n",
       "\n",
       "var ldavis_el1450421481883784967164522574_data = {\"mdsDat\": {\"x\": [-0.008768017838025884, 0.008768017838025884], \"y\": [-0.15473777873319436, 0.15473777873319436], \"topics\": [1, 2], \"cluster\": [1, 1], \"Freq\": [50.38263786969416, 49.617362130305835]}, \"tinfo\": {\"Term\": [\"google\", \"apple\", \"ipad\", \"social\", \"network\", \"called\", \"line\", \"free\", \"ipad2\", \"party\", \"major\", \"possibly\", \"temporary\", \"open\", \"opening\", \"map\", \"downtown\", \"mayer\", \"popup\", \"marissa\", \"location\", \"music\", \"search\", \"set\", \"product\", \"guy\", \"11\", \"launching\", \"show\", \"anyone\", \"apple\", \"line\", \"ipad2\", \"temporary\", \"opening\", \"open\", \"downtown\", \"popup\", \"set\", \"shop\", \"guy\", \"congress\", \"anyone\", \"6th\", \"blackberry\", \"1\", \"ipads\", \"would\", \"still\", \"30\", \"block\", \"many\", \"sell\", \"v\", \"temp\", \"hootsuite\", \"digital\", \"laptop\", \"pic\", \"world\", \"everyone\", \"street\", \"ipad\", \"around\", \"phone\", \"one\", \"iphone\", \"android\", \"game\", \"get\", \"go\", \"like\", \"need\", \"people\", \"win\", \"app\", \"mobile\", \"day\", \"know\", \"google\", \"social\", \"network\", \"called\", \"major\", \"free\", \"possibly\", \"map\", \"mayer\", \"marissa\", \"search\", \"location\", \"music\", \"launching\", \"11\", \"party\", \"bing\", \"product\", \"show\", \"code\", \"download\", \"facebook\", \"itunes\", \"future\", \"user\", \"59\", \"join\", \"03\", \"00\", \"infektd\", \"valid\", \"hey\", \"event\", \"team\", \"designing\", \"big\", \"check\", \"app\", \"say\", \"iphone\", \"mobile\", \"android\", \"see\", \"ipad\", \"get\", \"time\"], \"Freq\": [1431.0, 1037.0, 1060.0, 409.0, 292.0, 226.0, 225.0, 220.0, 201.0, 204.0, 191.0, 155.0, 140.0, 139.0, 136.0, 117.0, 114.0, 110.0, 109.0, 99.0, 95.0, 93.0, 93.0, 94.0, 91.0, 87.0, 80.0, 78.0, 78.0, 76.0, 1036.9105971404142, 224.64113924294784, 200.72857211759427, 140.37481394927556, 135.70065508975122, 138.6646021670749, 113.89354572203747, 109.45676778767894, 94.03460180508675, 75.2242396805103, 86.69043520381726, 62.2450151988156, 76.20101111794801, 62.07008981977548, 57.47115656284883, 68.94408182106567, 42.54235068143842, 52.51396700817911, 45.62219344569683, 39.26092080271094, 34.72960573724862, 39.03506368681161, 31.362707164529933, 40.41600635095189, 30.713714651685567, 32.16314788033405, 49.163455260418246, 29.387689063872404, 38.35104897590204, 38.65384462140919, 35.39913481308625, 32.795785387298174, 954.6809367586364, 50.97714798611474, 55.66056089403757, 96.74418717617182, 421.6848288359476, 188.8647017625923, 65.75426702148347, 134.15022810883838, 70.82768636340262, 78.9965026953411, 80.23153367602195, 73.38552125029084, 75.93146110534073, 104.355193865274, 82.77463102680731, 67.78828564675858, 67.48206414723111, 1431.082838151863, 408.9592756657823, 292.26232375201613, 226.28185416278632, 190.85883561619363, 219.46277304646063, 155.37474365607363, 117.21596625355708, 109.73500058190663, 98.84262465121743, 92.693408266022, 94.5867049758806, 93.34754244117961, 78.37754213739474, 80.42973208593592, 202.6625183771551, 66.95939378609502, 90.78966629987347, 77.61484519098761, 62.92916998604309, 65.03389435109453, 62.24778413722502, 53.94508493061669, 57.17482606963262, 59.999782191644435, 42.27256325288801, 44.68553757631194, 41.76760561674928, 40.393307578797184, 39.12342293403342, 39.85190122083469, 50.63634631827993, 67.25290026521424, 44.03569640148949, 60.71575228403851, 64.97159361995318, 118.80008337723339, 191.46413821819576, 77.15531136313976, 283.5797044610019, 106.69617261473012, 113.56169334052089, 72.54941815318026, 105.47359714701757, 76.00708000707087, 67.98667951958267], \"Total\": [1431.0, 1037.0, 1060.0, 409.0, 292.0, 226.0, 225.0, 220.0, 201.0, 204.0, 191.0, 155.0, 140.0, 139.0, 136.0, 117.0, 114.0, 110.0, 109.0, 99.0, 95.0, 93.0, 93.0, 94.0, 91.0, 87.0, 80.0, 78.0, 78.0, 76.0, 1037.3587583282604, 225.0777984899439, 201.15815139850952, 140.7984569380702, 136.1242638458504, 139.13697162363357, 114.32241427670539, 109.88052824480503, 94.54448674606957, 75.64565811532763, 87.19084580772372, 62.66962637310437, 76.73827181081153, 62.510031080542824, 57.931879599446006, 69.62064016619937, 42.976032295959754, 53.0682104229148, 46.14097729621908, 39.72095445239298, 35.170306645600355, 39.54262007007386, 31.789719278901227, 40.96989621824324, 31.13601256892216, 32.60997264660003, 49.858261713101165, 29.81276949946036, 38.90603547269849, 39.21647055832648, 35.91690314804678, 33.27895838059789, 1060.154533905654, 52.23584723025614, 57.3078357494924, 119.07264335189649, 705.2645332969495, 302.4263951031132, 78.95700568911828, 210.15730811590925, 89.30205187326452, 110.19587218590473, 113.2370159335061, 98.88962519401991, 110.38038638610232, 295.81933208346976, 189.47080364153743, 113.93714618038179, 112.92127396851566, 1431.5928013897267, 409.4273276266964, 292.69559704681564, 226.71734497384853, 191.2886709176633, 220.06142558271296, 155.7993904592041, 117.68127506196195, 110.19218906227643, 99.30597915507826, 93.13474819416317, 95.05977950361601, 93.87891987682893, 78.83001285947684, 80.93135052211561, 204.07575939373956, 67.43270935991562, 91.44915467519519, 78.18250586280702, 63.39766488674692, 65.53471387155399, 62.79612739732344, 54.43043118166626, 57.698826285288035, 60.57316080970994, 42.696337807267874, 45.14483738505918, 42.198788132992284, 40.82059188515584, 39.54631446757912, 40.28723148642078, 51.38623149152757, 69.2094483856781, 44.62966196275444, 64.299946652093, 69.48584073332806, 154.5210681601224, 295.81933208346976, 94.18088971980333, 705.2645332969495, 189.47080364153743, 302.4263951031132, 117.06114700377373, 1060.154533905654, 210.15730811590925, 118.22827119227485], \"Category\": [\"Default\", \"Default\", \"Default\", \"Default\", \"Default\", \"Default\", \"Default\", \"Default\", \"Default\", \"Default\", \"Default\", \"Default\", \"Default\", \"Default\", \"Default\", \"Default\", \"Default\", \"Default\", \"Default\", \"Default\", \"Default\", \"Default\", \"Default\", \"Default\", \"Default\", \"Default\", \"Default\", \"Default\", \"Default\", \"Default\", \"Topic1\", \"Topic1\", \"Topic1\", \"Topic1\", \"Topic1\", \"Topic1\", \"Topic1\", \"Topic1\", \"Topic1\", \"Topic1\", \"Topic1\", \"Topic1\", \"Topic1\", \"Topic1\", \"Topic1\", \"Topic1\", \"Topic1\", \"Topic1\", \"Topic1\", \"Topic1\", \"Topic1\", \"Topic1\", \"Topic1\", \"Topic1\", \"Topic1\", \"Topic1\", \"Topic1\", \"Topic1\", \"Topic1\", \"Topic1\", \"Topic1\", \"Topic1\", \"Topic1\", \"Topic1\", \"Topic1\", \"Topic1\", \"Topic1\", \"Topic1\", \"Topic1\", \"Topic1\", \"Topic1\", \"Topic1\", \"Topic1\", \"Topic1\", \"Topic1\", \"Topic1\", \"Topic1\", \"Topic1\", \"Topic1\", \"Topic2\", \"Topic2\", \"Topic2\", \"Topic2\", \"Topic2\", \"Topic2\", \"Topic2\", \"Topic2\", \"Topic2\", \"Topic2\", \"Topic2\", \"Topic2\", \"Topic2\", \"Topic2\", \"Topic2\", \"Topic2\", \"Topic2\", \"Topic2\", \"Topic2\", \"Topic2\", \"Topic2\", \"Topic2\", \"Topic2\", \"Topic2\", \"Topic2\", \"Topic2\", \"Topic2\", \"Topic2\", \"Topic2\", \"Topic2\", \"Topic2\", \"Topic2\", \"Topic2\", \"Topic2\", \"Topic2\", \"Topic2\", \"Topic2\", \"Topic2\", \"Topic2\", \"Topic2\", \"Topic2\", \"Topic2\", \"Topic2\", \"Topic2\", \"Topic2\", \"Topic2\"], \"logprob\": [30.0, 29.0, 28.0, 27.0, 26.0, 25.0, 24.0, 23.0, 22.0, 21.0, 20.0, 19.0, 18.0, 17.0, 16.0, 15.0, 14.0, 13.0, 12.0, 11.0, 10.0, 9.0, 8.0, 7.0, 6.0, 5.0, 4.0, 3.0, 2.0, 1.0, -3.0895, -4.619, -4.7316, -5.0892, -5.1231, -5.1014, -5.2982, -5.338, -5.4898, -5.713, -5.5712, -5.9024, -5.7001, -5.9052, -5.9822, -5.8002, -6.283, -6.0724, -6.2131, -6.3633, -6.4859, -6.369, -6.5879, -6.3343, -6.6088, -6.5627, -6.1384, -6.6529, -6.3867, -6.3789, -6.4668, -6.5432, -3.1721, -6.1021, -6.0142, -5.4614, -3.9892, -4.7925, -5.8476, -5.1345, -5.7733, -5.6641, -5.6486, -5.7378, -5.7037, -5.3857, -5.6174, -5.8171, -5.8216, -2.752, -4.0046, -4.3405, -4.5964, -4.7667, -4.627, -4.9724, -5.2542, -5.3201, -5.4247, -5.4889, -5.4687, -5.4819, -5.6567, -5.6308, -4.7067, -5.8141, -5.5097, -5.6664, -5.8762, -5.8433, -5.8871, -6.0302, -5.9721, -5.9239, -6.2741, -6.2186, -6.2861, -6.3195, -6.3515, -6.333, -6.0935, -5.8097, -6.2332, -5.912, -5.8442, -5.2408, -4.7635, -5.6724, -4.3707, -5.3482, -5.2859, -5.7339, -5.3597, -5.6874, -5.7989], \"loglift\": [30.0, 29.0, 28.0, 27.0, 26.0, 25.0, 24.0, 23.0, 22.0, 21.0, 20.0, 19.0, 18.0, 17.0, 16.0, 15.0, 14.0, 13.0, 12.0, 11.0, 10.0, 9.0, 8.0, 7.0, 6.0, 5.0, 4.0, 3.0, 2.0, 1.0, 0.6851, 0.6836, 0.6834, 0.6825, 0.6824, 0.6821, 0.6818, 0.6817, 0.6801, 0.6799, 0.6798, 0.6787, 0.6785, 0.6785, 0.6775, 0.6758, 0.6754, 0.675, 0.6742, 0.6739, 0.6729, 0.6726, 0.672, 0.6719, 0.6719, 0.6717, 0.6715, 0.6712, 0.6712, 0.6711, 0.671, 0.6709, 0.5807, 0.6611, 0.6564, 0.4779, 0.1712, 0.2147, 0.5025, 0.2366, 0.4537, 0.3527, 0.341, 0.3872, 0.3114, -0.3564, -0.1426, 0.1663, 0.1707, 0.7005, 0.6997, 0.6993, 0.6989, 0.6986, 0.6981, 0.6981, 0.6969, 0.6967, 0.6962, 0.6961, 0.6958, 0.6952, 0.6951, 0.6946, 0.6939, 0.6938, 0.6936, 0.6935, 0.6934, 0.6932, 0.6921, 0.6919, 0.6917, 0.6913, 0.6909, 0.6906, 0.6906, 0.6903, 0.6901, 0.69, 0.6861, 0.6722, 0.6874, 0.6435, 0.6337, 0.4379, 0.2658, 0.5014, -0.2103, 0.1266, -0.2787, 0.2224, -1.6069, -0.3162, 0.1475]}, \"token.table\": {\"Topic\": [2, 2, 1, 2, 1, 2, 1, 2, 1, 1, 2, 1, 2, 1, 2, 1, 1, 2, 1, 2, 2, 1, 1, 2, 1, 2, 2, 1, 1, 2, 1, 2, 1, 2, 1, 2, 1, 1, 2, 1, 2, 1, 2, 1, 2, 1, 2, 1, 2, 1, 2, 1, 2, 1, 2, 1, 2, 1, 2, 1, 2, 1, 2, 1, 1, 1, 2, 2, 2, 1, 2, 1, 2, 1, 2, 1, 2, 2, 1, 2, 2, 2, 2, 1, 2, 1, 2, 1, 2, 2, 1, 2, 1, 1, 1, 2, 1, 2, 1, 2, 1, 2, 1, 2, 1, 2, 1, 2, 2, 1, 2, 1, 1, 2, 1, 1, 2, 2, 1, 2, 1, 1, 2, 1, 1, 1, 2, 1, 2, 1, 2, 2, 1, 2, 1, 2, 1, 2], \"Freq\": [0.979897599538378, 0.9952892454549692, 0.9910853998940865, 0.014363556520204152, 0.012356151152163663, 0.988492092173093, 0.9818495184133335, 0.9836909242565216, 0.9918408122388284, 0.6249454513901139, 0.37695122464800523, 0.9903793531781424, 0.01303130727865977, 0.351565934746465, 0.645664360928604, 0.9996541617590056, 0.976341013005714, 0.01914394143148459, 0.07195710589714156, 0.9354423766628404, 0.993583093961032, 0.9839142177694004, 0.995157658211045, 0.9968359501831178, 0.2329779390516186, 0.7701215207539615, 0.9937274521473732, 0.9893149774163684, 0.5968202845132218, 0.4037313689354147, 0.06220844974635446, 0.9486788586319055, 0.9827859679898219, 0.0200568564895882, 0.015259088518490659, 0.9918407537018928, 0.9971797807215214, 0.02889778847614499, 0.9680759139508571, 0.9744715421519675, 0.027842044061484786, 0.01592454887660195, 0.987322030349321, 0.004544185776094307, 0.9951766849646532, 0.017331375079547823, 0.9878883795342259, 0.8358979602122375, 0.16464656792059224, 0.6376176075023487, 0.36163386694163063, 0.7950545201443032, 0.2015631177830628, 0.0006985226518527087, 0.9995859148012262, 0.9978111715059563, 0.01146909392535582, 0.019460465789651795, 0.9924837552722415, 0.9812949046842079, 0.9861854517940729, 0.9008120698043328, 0.09904216474288477, 0.9992137957253534, 1.0005576993212213, 0.5983570420410156, 0.4026857818475081, 0.9920920857630237, 0.9967917176481598, 0.593333723977297, 0.39850772505937854, 0.9727375378703051, 0.989470852161899, 0.7169052563668077, 0.28131725249836753, 0.9996543484498878, 0.9993711377837381, 0.9984909147192123, 0.9862775893678194, 0.025289168958149217, 0.9942108456795421, 0.9969188244486222, 0.9982558739969508, 0.43806221541672935, 0.5647308078263861, 0.010652018592800391, 0.9906377291304364, 0.7064827639663058, 0.29142414013610113, 0.9976234796360658, 0.814628761648761, 0.18476116243580146, 0.9990155627074874, 0.9990871293453523, 0.004900141021014753, 0.9947286272659949, 0.7381967507387669, 0.2629193906740814, 0.9771787621642302, 0.03489924150586536, 0.9767122128561703, 0.025702952969899218, 0.9919864942508896, 0.9948691040648621, 0.010935038202941876, 0.9950884764677107, 0.18050370994133244, 0.8175756273813294, 0.9985531909757006, 0.384414480395868, 0.6236057126421859, 0.9751580291737473, 0.9942409466187916, 0.010577031347008421, 0.9914647035743508, 0.012790585169459502, 0.9976656432178411, 0.9989562796670817, 0.9969446400037428, 0.021672709565298758, 0.9916175747627808, 0.02240662277107425, 0.9858914019272671, 0.9956316638612256, 0.9943290789158195, 0.42291069213627347, 0.575158541305332, 0.016508961834458193, 0.9905377100674915, 0.9763266127627787, 0.024408165319069468, 0.9928704089155991, 0.6885281206949004, 0.30802573820561335, 0.9944801111562418, 0.025499490029647225, 0.9987146651004205, 0.018843672926423027], \"Term\": [\"00\", \"03\", \"1\", \"1\", \"11\", \"11\", \"30\", \"59\", \"6th\", \"android\", \"android\", \"anyone\", \"anyone\", \"app\", \"app\", \"apple\", \"around\", \"around\", \"big\", \"big\", \"bing\", \"blackberry\", \"block\", \"called\", \"check\", \"check\", \"code\", \"congress\", \"day\", \"day\", \"designing\", \"designing\", \"digital\", \"digital\", \"download\", \"download\", \"downtown\", \"event\", \"event\", \"everyone\", \"everyone\", \"facebook\", \"facebook\", \"free\", \"free\", \"future\", \"future\", \"game\", \"game\", \"get\", \"get\", \"go\", \"go\", \"google\", \"google\", \"guy\", \"guy\", \"hey\", \"hey\", \"hootsuite\", \"infektd\", \"ipad\", \"ipad\", \"ipad2\", \"ipads\", \"iphone\", \"iphone\", \"itunes\", \"join\", \"know\", \"know\", \"laptop\", \"launching\", \"like\", \"like\", \"line\", \"location\", \"major\", \"many\", \"many\", \"map\", \"marissa\", \"mayer\", \"mobile\", \"mobile\", \"music\", \"music\", \"need\", \"need\", \"network\", \"one\", \"one\", \"open\", \"opening\", \"party\", \"party\", \"people\", \"people\", \"phone\", \"phone\", \"pic\", \"pic\", \"popup\", \"possibly\", \"product\", \"product\", \"say\", \"say\", \"search\", \"see\", \"see\", \"sell\", \"set\", \"set\", \"shop\", \"show\", \"show\", \"social\", \"still\", \"still\", \"street\", \"team\", \"team\", \"temp\", \"temporary\", \"time\", \"time\", \"user\", \"user\", \"v\", \"v\", \"valid\", \"win\", \"win\", \"world\", \"world\", \"would\", \"would\"]}, \"R\": 30, \"lambda.step\": 0.01, \"plot.opts\": {\"xlab\": \"PC1\", \"ylab\": \"PC2\"}, \"topic.order\": [1, 2]};\n",
       "\n",
       "function LDAvis_load_lib(url, callback){\n",
       "  var s = document.createElement('script');\n",
       "  s.src = url;\n",
       "  s.async = true;\n",
       "  s.onreadystatechange = s.onload = callback;\n",
       "  s.onerror = function(){console.warn(\"failed to load library \" + url);};\n",
       "  document.getElementsByTagName(\"head\")[0].appendChild(s);\n",
       "}\n",
       "\n",
       "if(typeof(LDAvis) !== \"undefined\"){\n",
       "   // already loaded: just create the visualization\n",
       "   !function(LDAvis){\n",
       "       new LDAvis(\"#\" + \"ldavis_el1450421481883784967164522574\", ldavis_el1450421481883784967164522574_data);\n",
       "   }(LDAvis);\n",
       "}else if(typeof define === \"function\" && define.amd){\n",
       "   // require.js is available: use it to load d3/LDAvis\n",
       "   require.config({paths: {d3: \"https://d3js.org/d3.v5\"}});\n",
       "   require([\"d3\"], function(d3){\n",
       "      window.d3 = d3;\n",
       "      LDAvis_load_lib(\"https://cdn.jsdelivr.net/gh/bmabey/pyLDAvis@3.3.1/pyLDAvis/js/ldavis.v3.0.0.js\", function(){\n",
       "        new LDAvis(\"#\" + \"ldavis_el1450421481883784967164522574\", ldavis_el1450421481883784967164522574_data);\n",
       "      });\n",
       "    });\n",
       "}else{\n",
       "    // require.js not available: dynamically load d3 & LDAvis\n",
       "    LDAvis_load_lib(\"https://d3js.org/d3.v5.js\", function(){\n",
       "         LDAvis_load_lib(\"https://cdn.jsdelivr.net/gh/bmabey/pyLDAvis@3.3.1/pyLDAvis/js/ldavis.v3.0.0.js\", function(){\n",
       "                 new LDAvis(\"#\" + \"ldavis_el1450421481883784967164522574\", ldavis_el1450421481883784967164522574_data);\n",
       "            })\n",
       "         });\n",
       "}\n",
       "</script>"
      ],
      "text/plain": [
       "<IPython.core.display.HTML object>"
      ]
     },
     "execution_count": 46,
     "metadata": {},
     "output_type": "execute_result"
    }
   ],
   "source": [
    "lda_display = pyLDAvis.gensim_models.prepare(ldamodel, doc_term_matrix, dictionary, sort_topics=False, mds='mmds')\n",
    "pyLDAvis.display(lda_display)"
   ]
  },
  {
   "cell_type": "code",
   "execution_count": 47,
   "metadata": {},
   "outputs": [],
   "source": [
    "def tweet_with_word(series, word):\n",
    "    '''\n",
    "    Input: Series of text, word (str)\n",
    "    Output: Count of the number of tweets with word inputed in them\n",
    "    Prints: Tweets with word in them\n",
    "    '''\n",
    "    count = 0\n",
    "    for row in series:\n",
    "        if word in row:\n",
    "            count += 1\n",
    "            print(row)\n",
    "    return count"
   ]
  },
  {
   "cell_type": "code",
   "execution_count": 52,
   "metadata": {},
   "outputs": [
    {
     "name": "stdout",
     "output_type": "stream",
     "text": [
      "['google', 'major', 'social', 'network', 'called', 'possibly', 'nfusion']\n",
      "['google', 'major', 'social', 'network', 'called', 'possibly']\n",
      "['google', 'major', 'social', 'network', 'called', 'possibly', 'creo', 'que', 'sers', 'el', 'primero']\n",
      "['google', 'major', 'social', 'network', 'called', 'google']\n",
      "['google', 'major', 'social', 'network', 'called', 'cc']\n",
      "['google', 'major', 'social', 'network', 'called', 'possibly']\n",
      "['google', 'major', 'social', 'network', 'called', 'possibly']\n",
      "['google', 'major', 'social', 'network', 'really', 'dont', 'need', 'another', 'social', 'network']\n",
      "['enough', 'already', 'google', 'major', 'social', 'network', 'called', 'possibly']\n",
      "['google', 'major', 'social', 'network', 'called', 'possibly', 'updated']\n",
      "['google', 'major', 'social', 'network', 'called', 'possibly']\n",
      "['google', 'major', 'social', 'network', 'called', 'google']\n",
      "['watch', 'fb', 'big', 'brother', 'google', 'major', 'social', 'network', 'called', 'possibly']\n",
      "['google', 'major', 'social', 'network', 'called', 'possibly']\n",
      "['gt', 'gt', 'google', 'major', 'social', 'network', 'called', 'possibly']\n",
      "['google', 'major', 'social', 'network', 'called', 'possibly']\n",
      "['google', 'google', 'major', 'social', 'network', 'called', 'possibly']\n",
      "['google', 'major', 'social', 'network', 'called', 'possibly', 'updated', 'happen']\n",
      "['google', 'major', 'social', 'network', 'called', 'possibly']\n",
      "['charity', 'implication', 'google', 'major', 'social', 'network', 'called', 'possibly']\n",
      "['google', 'major', 'social', 'network', 'called', 'possibly']\n",
      "['google', 'major', 'social', 'network', 'called']\n",
      "['google', 'major', 'social', 'network', 'called', 'possibly']\n",
      "['possible', 'dvoilement', 'au', 'google', 'major', 'social', 'network', 'called', 'possibly']\n",
      "['interesting', 'major', 'social', 'network', 'called', 'possibly']\n",
      "['confirmed', 'google', 'major', 'social', 'network', 'called', 'possibly']\n",
      "['google', 'major', 'social', 'network', 'called']\n",
      "['google', 'major', 'social', 'network', 'called', 'possibly', 'pcbuzz']\n",
      "['google', 'major', 'social', 'network', 'called', 'v']\n",
      "['news', 'google', 'major', 'social', 'network', 'called', 'possibly']\n",
      "['launching', 'dev', 'input', 'google', 'major', 'social', 'network']\n",
      "['google', 'major', 'social', 'network', 'called', 'possibly']\n",
      "['google', 'major', 'social', 'network', 'called', 'possibly', 'intrestin']\n",
      "['google', 'major', 'social', 'network', 'called', 'possibly']\n",
      "['google', 'major', 'social', 'network', 'called', 'possibly', 'updated']\n",
      "['google', 'launching', 'major', 'social', 'network', 'wonder']\n",
      "['google', 'major', 'social', 'network', 'called', 'possibly', 'sm']\n",
      "['google', 'major', 'social', 'network', 'called', 'possibly']\n",
      "['google', 'launching', 'major', 'social', 'network']\n",
      "['call', 'major', 'yet', 'p', 'google', 'major', 'social', 'network', 'called']\n",
      "['google', 'major', 'social', 'network', 'called', 'possibly']\n",
      "['google', 'major', 'social', 'network', 'called', 'possibly', 'socialmedia']\n",
      "['bsocial', 'google', 'major', 'social', 'network', 'called', 'possibly']\n",
      "['ipad', 'available', 'major', 'geekdilemma']\n",
      "['google', 'major', 'social', 'network', 'called', 'possibly']\n",
      "['google', 'major', 'social', 'network', 'called', 'possibly']\n",
      "['google', 'major', 'social', 'network', 'called', 'possibly']\n",
      "['google', 'major', 'social', 'network', 'called', 'updated', 'launched', 'soon', 'care']\n",
      "['wait', 'anymore', 'google', 'major', 'social', 'network', 'called', 'google']\n",
      "['interesting', 'gt', 'gt', 'google', 'major', 'social', 'network', 'called', 'possibly']\n",
      "['google', 'major', 'social', 'network', 'called']\n",
      "['google', 'major', 'social', 'network', 'called', 'possibly', 'googlebook', 'twitgle']\n",
      "['next', 'big', 'thing', 'hmmm', 'google', 'major', 'social', 'network', 'called', 'possibly']\n",
      "['suck', 'google', 'preview', 'major', 'social', 'service']\n",
      "['gamechanger', 'like', 'wave', 'buzz', 'doubt', 'google', 'major', 'social', 'network', 'called']\n",
      "['google', 'major', 'social', 'network', 'called', 'possibly', 'lt', 'curious']\n",
      "['google', 'major', 'social', 'network', 'called', 'possibly', 'twnp', 'socmedia']\n",
      "['google', 'major', 'social', 'network', 'called', 'possibly']\n",
      "['surprise', 'google', 'major', 'social', 'network', 'called', 'possibly']\n",
      "['google', 'major', 'social', 'network', 'called', 'google']\n",
      "['google', 'major', 'social', 'network', 'called', 'possibly']\n",
      "['excited', 'see', 'google', 'major', 'social', 'network', 'called', 'possibly']\n",
      "['google', 'major', 'social', 'network', 'called', 'possibly']\n",
      "['google', 'denies', 'major', 'social', 'network', 'including', 'tim', 'reily', 'say', 'exists', 'awesome']\n",
      "['google', 'major', 'social', 'network', 'called', 'possibly']\n",
      "['google', 'major', 'social', 'networkcircles', 'posbly']\n",
      "['google', 'major', 'social', 'network', 'called', 'possibly']\n",
      "['interesting', 'google', 'major', 'social', 'network', 'called', 'possibly']\n",
      "['take', 'major', 'south', 'korean', 'director', 'get', '130', '000', 'make', 'movie', 'entirely', 'iphone']\n",
      "['google', 'major', 'social', 'network', 'called', 'possibly']\n",
      "['google', 'major', 'social', 'network', 'called', 'possibly']\n",
      "['wow', 'google', 'major', 'social', 'network', 'called', 'possibly']\n",
      "['google', 'major', 'social', 'network', 'called', 'possibly', 'gt', 'gt', 'good']\n",
      "['google', 'major', 'social', 'network', 'called', 'possibly']\n",
      "['google', 'major', 'social', 'network', 'called']\n",
      "['google', 'major', 'social', 'network', 'called', 'possibly', 'pcbuzz']\n",
      "['google', 'major', 'social', 'network', 'called']\n",
      "['google', 'major', 'social', 'network', 'called', 'nptech']\n",
      "['let', 'see', 'google', 'get', 'sm', 'right', 'time', 'google', 'major', 'social', 'network', 'called']\n",
      "['google', 'major', 'social', 'network', 'called', 'possibly', 'twnp', 'socmedia']\n",
      "['google', 'preview', 'major', 'social', 'service', 'called', 'google']\n",
      "['google', 'major', 'social', 'network', 'called', 'possibly']\n",
      "['ser', 'cierto', 'google', 'major', 'social', 'network', 'called', 'possibly', 'rww', 'f6bcet']\n",
      "['oooorkut', 'google', 'major', 'social', 'network', 'called', 'possibly']\n",
      "['google', 'major', 'social', 'network', 'called', 'possibly']\n",
      "['stevecase', 'google', 'major', 'social', 'network', 'called']\n",
      "['oooorkut', 'google', 'major', 'social', 'network', 'called', 'possibly']\n",
      "['wow', 'major', 'win', 'traded', 'xoom', 'j', 'party', 'ipad', 'winwin', 'winning', 'tigerblood']\n",
      "['google', 'major', 'social', 'network', 'called', 'possibly']\n",
      "['google', 'major', 'social', 'network', 'called', 'possibly']\n",
      "['google', 'major', 'social', 'network', 'called', 'possibly']\n",
      "['google', 'planning', 'major', 'social', 'network', 'called', 'preview', 'far', 'super', 'positive']\n",
      "['false', 'alarm', 'could', 'google', 'blushing', 'google', 'major', 'social', 'network', 'called']\n",
      "['hm', 'need', 'another', '1', 'google', 'major', 'social', 'network', 'called', 'possibly']\n",
      "['feel', 'buzz', 'google', 'major', 'social', 'network', 'called', 'possibly']\n",
      "['major', 'apple', 'io', 'update', 'day', 'genius', 'project', 'manager', 'came', 'brilliant', 'idea', 'nowhammies']\n",
      "['v', 'interesting', 'google', 'major', 'social', 'network', 'called', 'possibly']\n",
      "['hey', 'tweegos', 'google', 'major', 'social', 'network', 'called', 'possibly']\n",
      "['google', 'major', 'social', 'network', 'called', 'possibly', 'te', 'dije', 'wey']\n",
      "['google', 'major', 'social', 'network', 'called', 'possibly']\n",
      "['breaking', 'google', 'major', 'social', 'network', 'called', 'socialmedia']\n",
      "['one', 'watch', 'major', 'social', 'network', 'called', 'possibly']\n",
      "['hmmm', 'google', 'major', 'social', 'network', 'called', 'possibly']\n",
      "['google', 'preview', 'major', 'social', 'service', 'say', 'ht', 'tech']\n",
      "['google', 'major', 'social', 'network', 'called', 'possibly']\n",
      "['google', 'major', 'social', 'network', 'possibly']\n",
      "['google', 'major', 'social', 'network', 'called', 'possibly']\n",
      "['google', 'major', 'social', 'network', 'called', 'gt', 'update', 'preview', 'planned']\n",
      "['suck', 'google', 'preview', 'major', 'social', 'service']\n",
      "['google', 'major', 'social', 'network', 'called', 'possibly']\n",
      "['wait', 'anymore', 'google', 'major', 'social', 'network', 'called', 'google']\n",
      "['google', 'major', 'social', 'network', 'called', 'possibly']\n",
      "['google', 'major', 'social', 'network', 'called', 'possibly', 'course', 'another', 'social', 'network']\n",
      "['next', 'big', 'thing', 'hmmm', 'google', 'major', 'social', 'network', 'called', 'possibly']\n",
      "['hmmm', 'another', 'one', 'google', 'major', 'social', 'network', 'called', 'possibly']\n",
      "['buzz', 'google', 'major', 'social', 'network', 'called', 'possibly']\n",
      "['hmmm', 'google', 'major', 'social', 'network', 'called', 'possibly']\n",
      "['google', 'major', 'social', 'network', 'called', 'possibly']\n",
      "['hmmmm', 'google', 'major', 'social', 'network', 'possibly']\n",
      "['google', 'major', 'social', 'network', 'called', 'possibly', 'pakistan', 'cwc2011']\n",
      "['google', 'major', 'social', 'network', 'called', 'possibly']\n",
      "['hope', 'filtering', 'intuitive', 'google', 'major', 'social', 'network', 'called']\n",
      "['google', 'major', 'social', 'network', 'called', 'possibly', 'nfusion', 'hmm']\n",
      "['google', '10x', 'sharing', 'google', 'major', 'social', 'network']\n",
      "['google', 'major', 'social', 'network', 'called', 'possibly']\n",
      "['google', 'major', 'social', 'network', 'called', 'possibly']\n",
      "['whoa', 'google', 'major', 'social', 'network', 'called', 'possibly']\n",
      "['google', 'major', 'social', 'network', 'called', 'possibly', 'sta', 'nije', 'im', 'dosta', 'gbuzz']\n",
      "['excited', 'see', 'google', 'major', 'social', 'network', 'called', 'possibly']\n",
      "['google', 'major', 'social', 'network', 'called', 'possibly']\n",
      "['interesting', 'major', 'social', 'network', 'called', 'possibly']\n",
      "['google', 'major', 'social', 'network', 'called', 'possibly', 'super', 'interesting']\n",
      "['apparently', 'google', 'major', 'social', 'network']\n",
      "['google', 'major', 'social', 'network', 'called', 'possibly', 'screenfuture']\n",
      "['google', 'major', 'social', 'network', 'called', 'possibly']\n",
      "['google', 'denies', 'major', 'social', 'network', 'including', 'tim', 'reily', 'say', 'exists', 'awesome']\n",
      "['google', 'major', 'social', 'network', 'called', 'possibly', 'closed', 'weak']\n",
      "['google', 'major', 'social', 'network', 'called', 'possibly', 'gt', 'gt', 'good']\n",
      "['google', 'major', 'social', 'network', 'called', 'gt', 'update', 'preview', 'planned']\n",
      "['google', 'major', 'social', 'network', 'called', 'possibly', 'rww', 'f6bcet', 'goody', 'overload']\n",
      "['google', 'major', 'social', 'network', 'called', 'nptech']\n",
      "['c', 'mon', 'already', 'major', 'social', 'network', 'called', 'possibly']\n",
      "['major', 'ipad', 'design', 'flaw', 'go', 'ipad', 'app', 'stay', 'open', 'switch', 'apps', 'ipaddesignheadaches']\n",
      "['google', 'major', 'social', 'network', 'called', 'possibly']\n",
      "['oh', 'another', 'way', 'talk', 'shit', 'net', 'google', 'major', 'social', 'network', 'called', 'possibly']\n",
      "['google', 'major', 'social', 'network', 'called', 'possibly', 'rww', 'f6bcet', 'yam']\n",
      "['google', 'major', 'social', 'network', 'called', 'possibly']\n",
      "['fyi', 'breaking', 'google', 'major', 'social', 'network', 'called', 'socialmedia']\n",
      "['google', 'major', 'social', 'network', 'called', 'possibly']\n",
      "['go', 'google', 'major', 'social', 'network', 'called', 'possibly']\n",
      "['google', 'major', 'social', 'network', 'called', 'possibly']\n",
      "['google', 'could', 'major', 'social', 'network', 'called', 'possibly', 'remake', 'wave']\n",
      "['technology', 'even', 'begin', 'apple', 'win', 'past', 'week', 'major', 'dilemma', 'tech']\n",
      "['google', 'major', 'social', 'network', 'called', 'possibly']\n",
      "['google', 'major', 'social', 'network', 'called', 'possibly', '22sxsw']\n",
      "['connect', 'google', 'major', 'social', 'network', 'called', 'possibly']\n",
      "['google', 'major', 'social', 'network', 'called', 'possibly', 'twnp', 'socmedia']\n",
      "['ugh', 'google', 'major', 'social', 'network', 'called', 'possibly']\n",
      "['google', 'major', 'social', 'network', 'called', 'possibly']\n",
      "['que', 'porque', 'google', 'major', 'social', 'network', 'called', 'possibly', 'socialmedia']\n",
      "['connect', 'google', 'major', 'social', 'network', 'called', 'possibly']\n",
      "['first', 'many', 'google', 'major', 'social', 'network', 'called', 'possibly']\n",
      "['read', 'article', 'google', 'say', 'rumor', 'major', 'social', 'network', 'called']\n",
      "['cause', 'need', 'another', 'one', 'google', 'major', 'social', 'network', 'called', 'po']\n",
      "['social', 'medium', 'tool', 'google', 'major', 'social', 'network', 'possibly']\n",
      "['google', 'major', 'social', 'network', 'called', 'possibly', 'buzz', '0', 'lol']\n",
      "['network', 'overload', 'google', 'major', 'social', 'network', 'called']\n",
      "['google', 'major', 'social', 'network', 'called', 'possibly']\n",
      "['google', 'major', 'social', 'network', 'called', 'possibly']\n",
      "['google', 'major', 'social', 'network', 'called', 'possibly', 'something', 'keep', 'watch']\n",
      "['google', 'major', 'social', 'network', 'called', 'possibly']\n",
      "['google', 'major', 'social', 'network', 'called', 'possibly', 'screenfuture']\n",
      "['google', 'major', 'social', 'network', 'called', 'possibly', 'goog']\n",
      "['google', 'major', 'social', 'network', 'called']\n",
      "['google', 'major', 'social', 'network', 'called', 'possibly', 'never', 'beat', 'myspace']\n",
      "['eh', 'google', 'major', 'social', 'network', 'called', 'possibly']\n",
      "['google', 'social', 'may', 'shortly', 'find', 'google', 'major', 'social', 'network', 'called']\n",
      "['google', 'major', 'social', 'network', 'called', 'possibly']\n",
      "['major', 'social', 'network', 'called', 'possibly', 'smm', 'gt', 'gt', 'really', 'google']\n",
      "['google', 'major', 'social', 'network', 'called', 'possibly', 'rww', 'f6bcet']\n",
      "['google', 'major', 'social', 'network', 'called', 'possibly', 'privacy']\n",
      "['ne', 'sapete', 'qualcosa', 'google', 'major', 'social', 'network', 'called', 'possibly']\n",
      "['aclu', 'approved', 'wt', 'google', 'major', 'social', 'network', 'called', 'possibly']\n",
      "['could', 'cool', 'google', 'major', 'social', 'network', 'called', 'possibly']\n",
      "['google', 'major', 'social', 'network', 'called', 'possibly']\n",
      "['google', 'major', 'social', 'network', 'called', 'possibly']\n",
      "['google', 'major', 'social', 'network', 'called', 'cc']\n",
      "['google', 'major', 'social', 'network', 'called', 'possibly']\n",
      "['google', 'major', 'social', 'network', 'called', 'possibly']\n",
      "['google', 'major', 'social', 'network', 'called', 'possibly', 'updated', 'happen']\n",
      "['sweet', 'google', 'major', 'social', 'network', 'called', 'possibly']\n",
      "['look', 'interesting', 'google', 'major', 'social', 'network', 'called', 'possibly']\n",
      "['hmmmm', 'google', 'major', 'social', 'network', 'possibly']\n",
      "['google', 'major', 'social', 'network', 'called', 'possibly']\n",
      "['google', 'major', 'social', 'network', 'called', 'possibly', 'updated']\n",
      "['thats', 'news', 'p', 'google', 'major', 'social', 'network', 'called', 'possibly']\n",
      "['google', 'major', 'social', 'network', 'called', 'possibly']\n",
      "['google', 'major', 'social', 'network', 'called', 'possibly', 'socialmedia']\n",
      "['oooh', 'google', 'major', 'social', 'network', 'called', 'possibly']\n",
      "['like', 'venn', 'diagram', 'google', 'major', 'social', 'network', 'called', 'possibly']\n",
      "['google', 'major', 'social', 'network', 'called', 'possibly', 'google']\n",
      "['google', 'major', 'social', 'network', 'called', 'possibly']\n",
      "['google', 'major', 'social', 'network', 'called', 'possibly', 'privacy']\n",
      "['google', 'major', 'social', 'network', 'called', 'possibly', 'updated']\n",
      "['google', 'major', 'social', 'network', 'called', 'possibly', 'cool']\n",
      "['google', 'plan', 'major', 'social', 'network', 'called', 'possibly']\n",
      "['major', 'social', 'network', 'called', 'v']\n",
      "['google', 'major', 'social', 'network', 'called', 'possibly', 'nfusion']\n",
      "['google', 'major', 'social', 'network', 'called', 'possibly']\n",
      "['ser', 'cierto', 'google', 'major', 'social', 'network', 'called', 'possibly', 'rww', 'f6bcet']\n",
      "['google', 'major', 'social', 'network', 'called', 'possibly', 'bigger', 'gaga']\n",
      "['google', 'major', 'social', 'network', 'called']\n",
      "['google', 'major', 'social', 'network', 'called', 'possibly']\n",
      "['google', 'major', 'social', 'network', 'called', 'possibly', 'dejavu']\n",
      "['suspense', 'google', 'major', 'social', 'network', 'called', 'possibly']\n",
      "['google', 'major', 'social', 'network', 'called', 'brazil', 'orkut', 'user', 'waiting']\n",
      "['google', 'major', 'social', 'network', 'called', 'possibly']\n",
      "['interesting', 'gt', 'gt', 'google', 'major', 'social', 'network', 'called', 'possibly']\n",
      "['google', 'major', 'social', 'network', 'called', 'possibly', 'w2p']\n",
      "['social', 'medium', 'tool', 'google', 'major', 'social', 'network', 'possibly']\n",
      "['google', 'major', 'social', 'network', 'called', 'possibly', 'updated']\n",
      "['google', 'preview', 'major', 'social', 'service', 'called', 'google']\n",
      "['google', 'major', 'social', 'network', 'called', 'possibly']\n",
      "['google', 'aclu', 'buddy', 'google', 'major', 'social', 'network', 'called', 'possibly']\n",
      "['google', 'major', 'social', 'network', 'called', 'possibly']\n",
      "['major', 'social', 'network', 'called', 'possibly', 'smm', 'gt', 'gt', 'really', 'google']\n",
      "['fyi', 'breaking', 'google', 'major', 'social', 'network', 'called', 'socialmedia']\n",
      "['google', 'major', 'social', 'network', 'called', 'possibly']\n",
      "['hm', 'need', 'another', '1', 'google', 'major', 'social', 'network', 'called', 'possibly']\n",
      "['jadi', 'penasaran', 'google', 'major', 'social', 'network', 'called', 'possibly']\n",
      "['google', 'major', 'social', 'network', 'called', 'possibly']\n",
      "['google', 'major', 'social', 'network', 'called', 'possibly', 'pcbuzz']\n",
      "['google', 'major', 'social', 'network', 'called', 'brazil', 'orkut', 'user', 'waiting']\n",
      "['google', 'major', 'social', 'network', 'called', 'possibly']\n",
      "['google', 'major', 'social', 'network', 'called', 'possibly']\n",
      "['google', 'major', 'social', 'network', 'called', 'possibly']\n",
      "['google', 'major', 'social', 'network', 'called', 'possibly']\n",
      "['google', 'major', 'social', 'network', 'called', 'rww', 'f6bcet']\n",
      "['google', 'major', 'social', 'network', 'called']\n",
      "['google', 'planning', 'major', 'social', 'network', 'called', 'preview', 'far', 'super', 'positive']\n",
      "['google', 'google', 'major', 'socialnetwork', 'premier', 'tech', 'geek', 'socialmedia', 'googlecircles']\n",
      "['google', 'major', 'social', 'network', 'called', 'possibly']\n",
      "['google', 'major', 'social', 'network', 'called', 'possibly']\n",
      "['google', 'major', 'social', 'network', 'called', 'possibly']\n",
      "['google', 'major', 'social', 'network', 'called']\n",
      "['google', 'major', 'social', 'network', 'called', 'possibly', 'socailmedia', 'facebook', 'network', 'tech']\n",
      "['google', 'major', 'social', 'network', 'called', 'social', 'networking', 'back', 'basic']\n",
      "['google', 'preview', 'major', 'social', 'service', 'say', 'ht']\n",
      "['google', 'could', 'major', 'social', 'network', 'called', 'possibly', 'remake', 'wave']\n",
      "['google', 'major', 'social', 'network', 'called', 'possibly', 'gt', 'sound', 'fabulous']\n",
      "['nicoriccelli', 'google', 'major', 'social', 'network', 'called', 'google', 'denies']\n",
      "['google', 'major', 'social', 'network', 'called', 'possibly']\n",
      "['google', 'major', 'social', 'network', 'called', 'possibly']\n",
      "['google', 'major', 'social', 'network', 'called', 'possibly']\n",
      "['major', 'social', 'network', 'called', 'v']\n",
      "['google', 'social', 'may', 'shortly', 'find', 'google', 'major', 'social', 'network', 'called']\n",
      "['hope', 'flop', 'akabuzz', 'google', 'major', 'social', 'network', 'called', 'possibly']\n",
      "['google', 'major', 'social', 'network', 'called', 'possibly']\n",
      "['ok', 'interested', 'google', 'major', 'social', 'network', 'called', 'possibly']\n",
      "['social', 'network', 'may', '2day', 'google', 'major', 'social', 'network', 'called', 'possibly']\n",
      "['google', 'major', 'social', 'network', 'called', 'possibly']\n",
      "['even', 'begin', 'apple', 'win', 'past', 'week', 'there', 'major', 'dilemma']\n",
      "['google', 'major', 'social', 'network', 'called', 'possibly']\n",
      "['google', 'major', 'social', 'network', 'called', 'possibly', 'cool']\n",
      "['google', 'preview', 'major', 'social', 'service', 'called', 'google', 'cc']\n",
      "['google', 'major', 'social', 'network', 'called']\n",
      "['true', 'true', 'google', 'major', 'social', 'network', 'called', 'possibly']\n",
      "['google', 'major', 'social', 'network', 'called', 'possibly', 'hnwsxsw']\n",
      "['google', 'major', 'social', 'network', 'called', 'possibly', 'lb']\n",
      "['google', 'major', 'social', 'network', 'called', 'possibly', '22sxsw']\n",
      "['google', 'major', 'social', 'network', 'called', 'possibly', 'fb']\n",
      "['google', 'major', 'social', 'network', 'called', 'possibly']\n",
      "['look', 'interesting', 'google', 'major', 'social', 'network', 'called', 'possibly']\n",
      "['ne', 'sapete', 'qualcosa', 'google', 'major', 'social', 'network', 'called']\n",
      "['google', 'major', 'social', 'network', 'called', 'possibly']\n",
      "['google', 'major', 'social', 'network', 'called', 'possibly']\n",
      "['google', 'major', 'social', 'network', 'called', 'possibly']\n",
      "['google', 'major', 'social', 'network', 'called', 'possibly']\n",
      "['google', 'preview', 'major', 'social', 'service', 'say', 'ht']\n",
      "['google', 'major', 'social', 'network', 'called', 'possibly']\n",
      "['google', 'major', 'social', 'network', 'called', 'possibly']\n",
      "['interesting', 'gt', 'gt', 'google', 'major', 'social', 'network', 'called', 'possibly']\n",
      "['google', 'major', 'social', 'network', 'called', 'possibly', 'surely', 'threat', 'fb']\n",
      "['google', 'major', 'social', 'network', 'called', 'possibly']\n",
      "['wow', 'lt', 'lt', 'google', 'major', 'social', 'network', 'called', 'possibly']\n",
      "['news', 'google', 'major', 'social', 'network', 'called', 'possibly']\n",
      "['tech', 'even', 'begin', 'apple', 'win', 'past', 'week', 'major', 'dilemma', 'technology']\n",
      "['tx', 'google', 'major', 'social', 'network', 'called']\n",
      "['could', 'big', 'gt', 'gt', 'google', 'major', 'social', 'network', 'called', 'possibly', 'tech']\n",
      "['nuanced', 'sharing', 'gt', 'google', 'major', 'social', 'network', 'called', 'possibly']\n",
      "['google', 'major', 'social', 'network', 'called', 'possibly']\n",
      "['google', 'major', 'social', 'network', 'called', 'possibly']\n",
      "['google', 'major', 'social', 'network', 'called', 'possibly']\n",
      "['google', 'major', 'social', 'network', 'called', 'possibly']\n",
      "['lt', 'rumor', 'gt', 'google', 'major', 'social', 'network', 'called', 'possibly']\n"
     ]
    },
    {
     "data": {
      "text/plain": [
       "295"
      ]
     },
     "execution_count": 52,
     "metadata": {},
     "output_type": "execute_result"
    }
   ],
   "source": [
    "tweet_with_word(df_all['text'], 'major')"
   ]
  },
  {
   "cell_type": "code",
   "execution_count": null,
   "metadata": {},
   "outputs": [],
   "source": []
  }
 ],
 "metadata": {
  "kernelspec": {
   "display_name": "Python 3",
   "language": "python",
   "name": "python3"
  },
  "language_info": {
   "codemirror_mode": {
    "name": "ipython",
    "version": 3
   },
   "file_extension": ".py",
   "mimetype": "text/x-python",
   "name": "python",
   "nbconvert_exporter": "python",
   "pygments_lexer": "ipython3",
   "version": "3.8.8"
  },
  "varInspector": {
   "cols": {
    "lenName": 16,
    "lenType": 16,
    "lenVar": 40
   },
   "kernels_config": {
    "python": {
     "delete_cmd_postfix": "",
     "delete_cmd_prefix": "del ",
     "library": "var_list.py",
     "varRefreshCmd": "print(var_dic_list())"
    },
    "r": {
     "delete_cmd_postfix": ") ",
     "delete_cmd_prefix": "rm(",
     "library": "var_list.r",
     "varRefreshCmd": "cat(var_dic_list()) "
    }
   },
   "types_to_exclude": [
    "module",
    "function",
    "builtin_function_or_method",
    "instance",
    "_Feature"
   ],
   "window_display": false
  }
 },
 "nbformat": 4,
 "nbformat_minor": 4
}
